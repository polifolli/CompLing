{
  "cells": [
    {
      "cell_type": "markdown",
      "id": "1bf6f873",
      "metadata": {
        "id": "1bf6f873"
      },
      "source": [
        "# Домашнее задание № 8"
      ]
    },
    {
      "cell_type": "code",
      "source": [
        "!pip install pandas scikit-learn matplotlib\n",
        "import tensorflow as tf\n",
        "import pandas as pd\n",
        "import numpy as np\n",
        "from string import punctuation\n",
        "from sklearn.model_selection import train_test_split\n",
        "from collections import Counter\n",
        "from IPython.display import Image\n",
        "from IPython.core.display import HTML\n",
        "import matplotlib.pyplot as plt\n",
        "%matplotlib inline"
      ],
      "metadata": {
        "id": "uIHjFGYS7DFW",
        "outputId": "a89414bf-663c-41cf-cbd2-3f6d2b00a283",
        "colab": {
          "base_uri": "https://localhost:8080/"
        }
      },
      "id": "uIHjFGYS7DFW",
      "execution_count": 25,
      "outputs": [
        {
          "output_type": "stream",
          "name": "stdout",
          "text": [
            "Requirement already satisfied: pandas in /usr/local/lib/python3.10/dist-packages (1.5.3)\n",
            "Requirement already satisfied: scikit-learn in /usr/local/lib/python3.10/dist-packages (1.2.2)\n",
            "Requirement already satisfied: matplotlib in /usr/local/lib/python3.10/dist-packages (3.7.1)\n",
            "Requirement already satisfied: python-dateutil>=2.8.1 in /usr/local/lib/python3.10/dist-packages (from pandas) (2.8.2)\n",
            "Requirement already satisfied: pytz>=2020.1 in /usr/local/lib/python3.10/dist-packages (from pandas) (2023.4)\n",
            "Requirement already satisfied: numpy>=1.21.0 in /usr/local/lib/python3.10/dist-packages (from pandas) (1.25.2)\n",
            "Requirement already satisfied: scipy>=1.3.2 in /usr/local/lib/python3.10/dist-packages (from scikit-learn) (1.11.4)\n",
            "Requirement already satisfied: joblib>=1.1.1 in /usr/local/lib/python3.10/dist-packages (from scikit-learn) (1.3.2)\n",
            "Requirement already satisfied: threadpoolctl>=2.0.0 in /usr/local/lib/python3.10/dist-packages (from scikit-learn) (3.3.0)\n",
            "Requirement already satisfied: contourpy>=1.0.1 in /usr/local/lib/python3.10/dist-packages (from matplotlib) (1.2.0)\n",
            "Requirement already satisfied: cycler>=0.10 in /usr/local/lib/python3.10/dist-packages (from matplotlib) (0.12.1)\n",
            "Requirement already satisfied: fonttools>=4.22.0 in /usr/local/lib/python3.10/dist-packages (from matplotlib) (4.49.0)\n",
            "Requirement already satisfied: kiwisolver>=1.0.1 in /usr/local/lib/python3.10/dist-packages (from matplotlib) (1.4.5)\n",
            "Requirement already satisfied: packaging>=20.0 in /usr/local/lib/python3.10/dist-packages (from matplotlib) (23.2)\n",
            "Requirement already satisfied: pillow>=6.2.0 in /usr/local/lib/python3.10/dist-packages (from matplotlib) (9.4.0)\n",
            "Requirement already satisfied: pyparsing>=2.3.1 in /usr/local/lib/python3.10/dist-packages (from matplotlib) (3.1.1)\n",
            "Requirement already satisfied: six>=1.5 in /usr/local/lib/python3.10/dist-packages (from python-dateutil>=2.8.1->pandas) (1.16.0)\n"
          ]
        }
      ]
    },
    {
      "cell_type": "code",
      "source": [
        "from sklearn.metrics import classification_report"
      ],
      "metadata": {
        "id": "Ak0eczAxAjWB"
      },
      "id": "Ak0eczAxAjWB",
      "execution_count": 99,
      "outputs": []
    },
    {
      "cell_type": "markdown",
      "id": "3b4bd487",
      "metadata": {
        "id": "3b4bd487"
      },
      "source": [
        "## Задание 1 (4 балла)"
      ]
    },
    {
      "cell_type": "markdown",
      "id": "bf4c4f87",
      "metadata": {
        "id": "bf4c4f87"
      },
      "source": [
        "Обучите 8 моделей для задачи классификации текста (датасет - lenta_40k ). А именно:  \n",
        "1) модель с 1 GRU слоем;   \n",
        "2) модель с 1 LSTM слоем    \n",
        "3) модель с 1 GRU и 1 LSTM слоем  \n",
        "4) модель с 1 BIGRU и 2 LSTM слоями  \n",
        "5) модель с 5 GRU слоями и 3 LSTM слоями  \n",
        "6) модель 1 BIGRU и 1 BILSTM слоями, причем так чтобы модели для forward и backward прохода отличались   \n",
        "7) модель, где последовательно идут слои: LSTM, GRU, BILSTM, BIGRU, GRU, LSTM  \n",
        "\n",
        "\n",
        "\n",
        "Параметр units и размер эмбединга можете задать любой. Оцените качество каждой модели и определите победителя."
      ]
    },
    {
      "cell_type": "code",
      "execution_count": 27,
      "id": "83db6635",
      "metadata": {
        "colab": {
          "base_uri": "https://localhost:8080/"
        },
        "id": "83db6635",
        "outputId": "3fa43066-94b8-498e-b2c1-0811e36fe77b"
      },
      "outputs": [
        {
          "output_type": "stream",
          "name": "stdout",
          "text": [
            "Mounted at /content/drive\n"
          ]
        }
      ],
      "source": [
        "from google.colab import drive\n",
        "drive.mount('/content/drive')"
      ]
    },
    {
      "cell_type": "code",
      "execution_count": 28,
      "id": "50362f6e",
      "metadata": {
        "id": "50362f6e"
      },
      "outputs": [],
      "source": [
        "data = pd.read_csv('/content/drive/MyDrive/КомпЛинг/lenta_40k.csv')"
      ]
    },
    {
      "cell_type": "code",
      "execution_count": 29,
      "id": "b6676dab",
      "metadata": {
        "id": "b6676dab"
      },
      "outputs": [],
      "source": [
        "def preprocess(text):\n",
        "    tokens = text.lower().split()\n",
        "    tokens = [token.strip(punctuation) for token in tokens]\n",
        "    return tokens"
      ]
    },
    {
      "cell_type": "code",
      "source": [
        "from tensorflow.keras import backend as K\n",
        "def f1(y_true, y_pred):\n",
        "    def recall(y_true, y_pred):\n",
        "        \"\"\"Recall metric.\n",
        "\n",
        "        Only computes a batch-wise average of recall.\n",
        "\n",
        "        Computes the recall, a metric for multi-label classification of\n",
        "        how many relevant items are selected.\n",
        "        \"\"\"\n",
        "        true_positives = K.sum(K.round(K.clip(y_true * y_pred, 0, 1)))\n",
        "        possible_positives = K.sum(K.round(K.clip(y_true, 0, 1)))\n",
        "        recall = true_positives / (possible_positives + K.epsilon())\n",
        "        return recall\n",
        "\n",
        "    def precision(y_true, y_pred):\n",
        "        \"\"\"Precision metric.\n",
        "\n",
        "        Only computes a batch-wise average of precision.\n",
        "\n",
        "        Computes the precision, a metric for multi-label classification of\n",
        "        how many selected items are relevant.\n",
        "        \"\"\"\n",
        "        true_positives = K.sum(K.round(K.clip(y_true * y_pred, 0, 1)))\n",
        "        predicted_positives = K.sum(K.round(K.clip(y_pred, 0, 1)))\n",
        "        precision = true_positives / (predicted_positives + K.epsilon())\n",
        "        return precision\n",
        "    precision = precision(y_true, y_pred)\n",
        "    recall = recall(y_true, y_pred)\n",
        "    return 2*((precision*recall)/(precision+recall+K.epsilon()))"
      ],
      "metadata": {
        "id": "6oInnpZ-8TG6"
      },
      "id": "6oInnpZ-8TG6",
      "execution_count": 30,
      "outputs": []
    },
    {
      "cell_type": "code",
      "source": [
        "# словарь\n",
        "vocab = Counter()\n",
        "\n",
        "for text in data.text:\n",
        "    vocab.update(preprocess(text))"
      ],
      "metadata": {
        "id": "usvDqCR98YXe"
      },
      "id": "usvDqCR98YXe",
      "execution_count": 31,
      "outputs": []
    },
    {
      "cell_type": "code",
      "source": [
        "len(vocab)"
      ],
      "metadata": {
        "colab": {
          "base_uri": "https://localhost:8080/"
        },
        "id": "TsY5G4m88bXl",
        "outputId": "3fd57e59-0a28-4aae-dc34-28afdf63f200"
      },
      "id": "TsY5G4m88bXl",
      "execution_count": 32,
      "outputs": [
        {
          "output_type": "execute_result",
          "data": {
            "text/plain": [
              "354611"
            ]
          },
          "metadata": {},
          "execution_count": 32
        }
      ]
    },
    {
      "cell_type": "code",
      "source": [
        "# отфильтрованный словарь\n",
        "filtered_vocab = set()\n",
        "\n",
        "for word in vocab:\n",
        "    if vocab[word] > 30:\n",
        "        filtered_vocab.add(word)"
      ],
      "metadata": {
        "id": "G5HVOijQ8d7N"
      },
      "id": "G5HVOijQ8d7N",
      "execution_count": 33,
      "outputs": []
    },
    {
      "cell_type": "code",
      "source": [
        "len(filtered_vocab)"
      ],
      "metadata": {
        "colab": {
          "base_uri": "https://localhost:8080/"
        },
        "id": "D8muheF98frV",
        "outputId": "8fe2d13c-ff61-4f5f-e4fd-1cd9b0e3cd36"
      },
      "id": "D8muheF98frV",
      "execution_count": 34,
      "outputs": [
        {
          "output_type": "execute_result",
          "data": {
            "text/plain": [
              "24091"
            ]
          },
          "metadata": {},
          "execution_count": 34
        }
      ]
    },
    {
      "cell_type": "code",
      "source": [
        "# индексируем слова\n",
        "word2id = {'PAD':0, 'UNK':1}\n",
        "\n",
        "for word in filtered_vocab:\n",
        "    word2id[word] = len(word2id)"
      ],
      "metadata": {
        "id": "zMMZU16X8hac"
      },
      "id": "zMMZU16X8hac",
      "execution_count": 35,
      "outputs": []
    },
    {
      "cell_type": "code",
      "source": [
        "id2word = {i:word for word, i in word2id.items()}"
      ],
      "metadata": {
        "id": "PJxce2Ve8mSU"
      },
      "id": "PJxce2Ve8mSU",
      "execution_count": 36,
      "outputs": []
    },
    {
      "cell_type": "code",
      "source": [
        "# переводим тексты в последовательности индексов\n",
        "X = []\n",
        "\n",
        "for text in data.text:\n",
        "    tokens = preprocess(text)\n",
        "    ids = [word2id.get(token, 1) for token in tokens]\n",
        "    X.append(ids)"
      ],
      "metadata": {
        "id": "_xBkWu6s8pxe"
      },
      "id": "_xBkWu6s8pxe",
      "execution_count": 37,
      "outputs": []
    },
    {
      "cell_type": "code",
      "source": [
        "MAX_LEN = max(len(x) for x in X)\n",
        "MEAN_LEN = np.median([len(x) for x in X])\n",
        "MAX_LEN = int(MEAN_LEN + 30)\n",
        "\n",
        "# паддинг\n",
        "X = tf.keras.preprocessing.sequence.pad_sequences(X, maxlen=MAX_LEN)\n",
        "\n",
        "id2label = {i:label for i, label in enumerate(set(data.topic.values))}\n",
        "label2id = {l:i for i, l in id2label.items()}\n",
        "\n",
        "y = tf.keras.utils.to_categorical([label2id[label] for label in data.topic.values])"
      ],
      "metadata": {
        "id": "Gn69-wnz8tg9"
      },
      "id": "Gn69-wnz8tg9",
      "execution_count": 38,
      "outputs": []
    },
    {
      "cell_type": "code",
      "source": [
        "X_train, X_valid, y_train, y_valid = train_test_split(X, y, test_size=0.05, stratify=y)"
      ],
      "metadata": {
        "id": "2wCn7Vuc82eV"
      },
      "id": "2wCn7Vuc82eV",
      "execution_count": 39,
      "outputs": []
    },
    {
      "cell_type": "markdown",
      "source": [
        "## **1. Модель с 1 GRU слоем**"
      ],
      "metadata": {
        "id": "Wf-DVbdI9npc"
      },
      "id": "Wf-DVbdI9npc"
    },
    {
      "cell_type": "code",
      "source": [
        "inputs = tf.keras.layers.Input(shape=(MAX_LEN,))\n",
        "embeddings = tf.keras.layers.Embedding(input_dim=len(word2id), output_dim=30)(inputs, )\n",
        "\n",
        "rnn = tf.keras.layers.GRU(128, return_sequences=False)(embeddings)\n",
        "\n",
        "outputs = tf.keras.layers.Dense(len(label2id), activation='softmax')(rnn)\n",
        "\n",
        "model1 = tf.keras.Model(inputs=inputs, outputs=outputs)\n",
        "optimizer = tf.keras.optimizers.Adam(learning_rate=0.001)\n",
        "model1.compile(optimizer=optimizer,\n",
        "              loss='categorical_crossentropy',\n",
        "              metrics=[f1,\n",
        "                       tf.keras.metrics.RecallAtPrecision(0.8, name='rec@prec')])\n"
      ],
      "metadata": {
        "id": "PvMj02OH9wtR"
      },
      "id": "PvMj02OH9wtR",
      "execution_count": 40,
      "outputs": []
    },
    {
      "cell_type": "code",
      "source": [
        "model1.fit(X_train, y_train,\n",
        "          validation_data=(X_valid, y_valid),\n",
        "          batch_size=1000,\n",
        "         epochs=20)"
      ],
      "metadata": {
        "colab": {
          "base_uri": "https://localhost:8080/"
        },
        "id": "OUAx-pWD97LZ",
        "outputId": "fb2218ac-141c-4541-e4a5-0535493787bc"
      },
      "id": "OUAx-pWD97LZ",
      "execution_count": null,
      "outputs": [
        {
          "output_type": "stream",
          "name": "stdout",
          "text": [
            "Epoch 1/20\n",
            "43/43 [==============================] - 13s 251ms/step - loss: 2.5515 - f1: 8.5981e-04 - rec@prec: 0.0000e+00 - val_loss: 2.3261 - val_f1: 0.0000e+00 - val_rec@prec: 9.0171e-04\n",
            "Epoch 2/20\n",
            "43/43 [==============================] - 7s 165ms/step - loss: 2.2732 - f1: 0.0000e+00 - rec@prec: 0.0000e+00 - val_loss: 2.2083 - val_f1: 6.6600e-04 - val_rec@prec: 0.0041\n",
            "Epoch 3/20\n",
            "43/43 [==============================] - 7s 157ms/step - loss: 2.0843 - f1: 0.0355 - rec@prec: 0.0025 - val_loss: 2.1112 - val_f1: 0.0160 - val_rec@prec: 0.0063\n",
            "Epoch 4/20\n",
            "43/43 [==============================] - 4s 102ms/step - loss: 1.8890 - f1: 0.1012 - rec@prec: 0.0191 - val_loss: 1.9081 - val_f1: 0.0913 - val_rec@prec: 0.0352\n",
            "Epoch 5/20\n",
            "43/43 [==============================] - 5s 119ms/step - loss: 1.6699 - f1: 0.2198 - rec@prec: 0.0972 - val_loss: 1.8439 - val_f1: 0.2581 - val_rec@prec: 0.0509\n",
            "Epoch 6/20\n",
            "43/43 [==============================] - 4s 100ms/step - loss: 1.4506 - f1: 0.3722 - rec@prec: 0.2250 - val_loss: 1.6593 - val_f1: 0.3141 - val_rec@prec: 0.1420\n",
            "Epoch 7/20\n",
            "43/43 [==============================] - 4s 91ms/step - loss: 1.2474 - f1: 0.4806 - rec@prec: 0.3467 - val_loss: 1.5413 - val_f1: 0.3889 - val_rec@prec: 0.1677\n",
            "Epoch 8/20\n",
            "43/43 [==============================] - 4s 90ms/step - loss: 1.1132 - f1: 0.5505 - rec@prec: 0.4265 - val_loss: 1.5287 - val_f1: 0.4499 - val_rec@prec: 0.1826\n",
            "Epoch 9/20\n",
            "43/43 [==============================] - 3s 81ms/step - loss: 0.9641 - f1: 0.6294 - rec@prec: 0.5385 - val_loss: 1.5366 - val_f1: 0.4759 - val_rec@prec: 0.1948\n",
            "Epoch 10/20\n",
            "43/43 [==============================] - 3s 78ms/step - loss: 0.8546 - f1: 0.6860 - rec@prec: 0.6307 - val_loss: 1.5189 - val_f1: 0.5108 - val_rec@prec: 0.2552\n",
            "Epoch 11/20\n",
            "43/43 [==============================] - 4s 92ms/step - loss: 0.7572 - f1: 0.7366 - rec@prec: 0.7191 - val_loss: 1.5472 - val_f1: 0.5370 - val_rec@prec: 0.2845\n",
            "Epoch 12/20\n",
            "43/43 [==============================] - 3s 74ms/step - loss: 0.6656 - f1: 0.7791 - rec@prec: 0.7884 - val_loss: 1.5719 - val_f1: 0.5529 - val_rec@prec: 0.2917\n",
            "Epoch 13/20\n",
            "43/43 [==============================] - 3s 71ms/step - loss: 0.5822 - f1: 0.8122 - rec@prec: 0.8442 - val_loss: 1.6144 - val_f1: 0.5751 - val_rec@prec: 0.3138\n",
            "Epoch 14/20\n",
            "43/43 [==============================] - 3s 68ms/step - loss: 0.5180 - f1: 0.8410 - rec@prec: 0.8783 - val_loss: 1.6558 - val_f1: 0.5710 - val_rec@prec: 0.3467\n",
            "Epoch 15/20\n",
            "43/43 [==============================] - 3s 67ms/step - loss: 0.4444 - f1: 0.8691 - rec@prec: 0.9164 - val_loss: 1.7098 - val_f1: 0.5708 - val_rec@prec: 0.3832\n",
            "Epoch 16/20\n",
            "43/43 [==============================] - 3s 67ms/step - loss: 0.3959 - f1: 0.8873 - rec@prec: 0.9331 - val_loss: 1.7871 - val_f1: 0.5896 - val_rec@prec: 0.3783\n",
            "Epoch 17/20\n",
            "43/43 [==============================] - 3s 78ms/step - loss: 0.3482 - f1: 0.9037 - rec@prec: 0.9487 - val_loss: 1.8551 - val_f1: 0.5862 - val_rec@prec: 0.3891\n",
            "Epoch 18/20\n",
            "43/43 [==============================] - 3s 69ms/step - loss: 0.2989 - f1: 0.9227 - rec@prec: 0.9623 - val_loss: 2.0302 - val_f1: 0.5736 - val_rec@prec: 0.3084\n",
            "Epoch 19/20\n",
            "43/43 [==============================] - 3s 62ms/step - loss: 0.2732 - f1: 0.9302 - rec@prec: 0.9680 - val_loss: 1.9559 - val_f1: 0.6018 - val_rec@prec: 0.3715\n",
            "Epoch 20/20\n",
            "43/43 [==============================] - 3s 67ms/step - loss: 0.2480 - f1: 0.9364 - rec@prec: 0.9733 - val_loss: 2.0366 - val_f1: 0.5858 - val_rec@prec: 0.3873\n"
          ]
        },
        {
          "output_type": "execute_result",
          "data": {
            "text/plain": [
              "<keras.src.callbacks.History at 0x784ffefc6740>"
            ]
          },
          "metadata": {},
          "execution_count": 44
        }
      ]
    },
    {
      "cell_type": "code",
      "source": [
        "print(model1.history.history.keys())\n",
        "# summarize history for accuracy\n",
        "plt.plot(model1.history.history['rec@prec'])\n",
        "plt.plot(model1.history.history['val_rec@prec'])\n",
        "plt.title('model1 f1')\n",
        "plt.ylabel('f1')\n",
        "plt.xlabel('epoch')\n",
        "plt.legend(['train', 'val'], loc='upper left')\n",
        "plt.show()"
      ],
      "metadata": {
        "colab": {
          "base_uri": "https://localhost:8080/",
          "height": 489
        },
        "id": "4iYfCT699_PA",
        "outputId": "e79b50a2-6a65-464a-b092-cbebd08775d9"
      },
      "id": "4iYfCT699_PA",
      "execution_count": null,
      "outputs": [
        {
          "output_type": "stream",
          "name": "stdout",
          "text": [
            "dict_keys(['loss', 'f1', 'rec@prec', 'val_loss', 'val_f1', 'val_rec@prec'])\n"
          ]
        },
        {
          "output_type": "display_data",
          "data": {
            "text/plain": [
              "<Figure size 640x480 with 1 Axes>"
            ],
            "image/png": "[encoded data removed]"
          },
          "metadata": {}
        }
      ]
    },
    {
      "cell_type": "code",
      "source": [
        "rounded_predictions = model1.predict(X_valid, batch_size=128, verbose=0)\n",
        "pred = np.argmax(rounded_predictions, axis=1)\n",
        "\n",
        "rounded_labels=np.argmax(y_valid, axis=1)\n",
        "rounded_labels\n",
        "\n",
        "print(classification_report(rounded_labels, pred))\n"
      ],
      "metadata": {
        "colab": {
          "base_uri": "https://localhost:8080/"
        },
        "id": "55ZRZDIzKgGg",
        "outputId": "6931a3d5-5b47-4f58-b7bc-a5fe31012704"
      },
      "id": "55ZRZDIzKgGg",
      "execution_count": null,
      "outputs": [
        {
          "output_type": "stream",
          "name": "stdout",
          "text": [
            "              precision    recall  f1-score   support\n",
            "\n",
            "           0       0.77      0.48      0.59        21\n",
            "           1       0.88      0.97      0.92       481\n",
            "           2       0.00      0.00      0.00         2\n",
            "           3       0.00      0.00      0.00         1\n",
            "           4       0.70      0.47      0.56        60\n",
            "           5       0.90      0.85      0.88       132\n",
            "           6       0.95      0.95      0.95       410\n",
            "           7       0.94      0.96      0.95       160\n",
            "           8       0.00      0.00      0.00         4\n",
            "           9       0.94      0.91      0.93       239\n",
            "          10       0.85      0.92      0.88        66\n",
            "          11       0.80      0.18      0.30        22\n",
            "          12       0.93      0.97      0.95       159\n",
            "          13       0.92      0.96      0.94        23\n",
            "          14       0.90      0.88      0.89        84\n",
            "          15       0.85      0.90      0.87       159\n",
            "          17       0.99      0.99      0.99       195\n",
            "\n",
            "    accuracy                           0.91      2218\n",
            "   macro avg       0.73      0.67      0.68      2218\n",
            "weighted avg       0.91      0.91      0.91      2218\n",
            "\n"
          ]
        },
        {
          "output_type": "stream",
          "name": "stderr",
          "text": [
            "/usr/local/lib/python3.10/dist-packages/sklearn/metrics/_classification.py:1344: UndefinedMetricWarning: Precision and F-score are ill-defined and being set to 0.0 in labels with no predicted samples. Use `zero_division` parameter to control this behavior.\n",
            "  _warn_prf(average, modifier, msg_start, len(result))\n",
            "/usr/local/lib/python3.10/dist-packages/sklearn/metrics/_classification.py:1344: UndefinedMetricWarning: Precision and F-score are ill-defined and being set to 0.0 in labels with no predicted samples. Use `zero_division` parameter to control this behavior.\n",
            "  _warn_prf(average, modifier, msg_start, len(result))\n",
            "/usr/local/lib/python3.10/dist-packages/sklearn/metrics/_classification.py:1344: UndefinedMetricWarning: Precision and F-score are ill-defined and being set to 0.0 in labels with no predicted samples. Use `zero_division` parameter to control this behavior.\n",
            "  _warn_prf(average, modifier, msg_start, len(result))\n"
          ]
        }
      ]
    },
    {
      "cell_type": "markdown",
      "source": [
        "## **2. Модель с 1 LSTM слоем**"
      ],
      "metadata": {
        "id": "l3qAJCsx_-s5"
      },
      "id": "l3qAJCsx_-s5"
    },
    {
      "cell_type": "code",
      "source": [
        "inputs = tf.keras.layers.Input(shape=(MAX_LEN,))\n",
        "embeddings = tf.keras.layers.Embedding(input_dim=len(word2id), output_dim=30)(inputs, )\n",
        "\n",
        "rnn = tf.keras.layers.LSTM(128, return_sequences=False)(embeddings)\n",
        "\n",
        "outputs = tf.keras.layers.Dense(len(label2id), activation='softmax')(rnn)\n",
        "\n",
        "model2 = tf.keras.Model(inputs=inputs, outputs=outputs)\n",
        "optimizer = tf.keras.optimizers.Adam(learning_rate=0.001)\n",
        "model2.compile(optimizer=optimizer,\n",
        "              loss='categorical_crossentropy',\n",
        "              metrics=[f1,\n",
        "                       tf.keras.metrics.RecallAtPrecision(0.8, name='rec@prec')])\n"
      ],
      "metadata": {
        "id": "tAyTxfoRAMoo"
      },
      "id": "tAyTxfoRAMoo",
      "execution_count": null,
      "outputs": []
    },
    {
      "cell_type": "code",
      "source": [
        "model2.fit(X_train, y_train,\n",
        "          validation_data=(X_valid, y_valid),\n",
        "          batch_size=1000,\n",
        "         epochs=20)"
      ],
      "metadata": {
        "colab": {
          "base_uri": "https://localhost:8080/"
        },
        "id": "gmsbpsBwLnUG",
        "outputId": "1bb16284-8b9d-4a90-d77a-446bdd8cef5d"
      },
      "id": "gmsbpsBwLnUG",
      "execution_count": null,
      "outputs": [
        {
          "output_type": "stream",
          "name": "stdout",
          "text": [
            "Epoch 1/20\n",
            "43/43 [==============================] - 11s 176ms/step - loss: 2.4828 - f1: 0.0000e+00 - rec@prec: 0.0000e+00 - val_loss: 2.3192 - val_f1: 0.0000e+00 - val_rec@prec: 0.0000e+00\n",
            "Epoch 2/20\n",
            "43/43 [==============================] - 7s 156ms/step - loss: 2.3122 - f1: 0.0000e+00 - rec@prec: 2.3732e-05 - val_loss: 2.2971 - val_f1: 0.0000e+00 - val_rec@prec: 0.0023\n",
            "Epoch 3/20\n",
            "43/43 [==============================] - 5s 112ms/step - loss: 2.2527 - f1: 4.1561e-04 - rec@prec: 0.0032 - val_loss: 2.1801 - val_f1: 0.0000e+00 - val_rec@prec: 0.0167\n",
            "Epoch 4/20\n",
            "43/43 [==============================] - 4s 101ms/step - loss: 1.8675 - f1: 0.1020 - rec@prec: 0.0491 - val_loss: 1.6971 - val_f1: 0.3518 - val_rec@prec: 0.0753\n",
            "Epoch 5/20\n",
            "43/43 [==============================] - 5s 123ms/step - loss: 1.5681 - f1: 0.4046 - rec@prec: 0.1653 - val_loss: 1.5932 - val_f1: 0.3614 - val_rec@prec: 0.1443\n",
            "Epoch 6/20\n",
            "43/43 [==============================] - 4s 92ms/step - loss: 1.5098 - f1: 0.4302 - rec@prec: 0.2361 - val_loss: 1.4839 - val_f1: 0.4879 - val_rec@prec: 0.2484\n",
            "Epoch 7/20\n",
            "43/43 [==============================] - 5s 109ms/step - loss: 1.2534 - f1: 0.5608 - rec@prec: 0.3916 - val_loss: 1.4030 - val_f1: 0.4843 - val_rec@prec: 0.2998\n",
            "Epoch 8/20\n",
            "43/43 [==============================] - 5s 110ms/step - loss: 1.1659 - f1: 0.6097 - rec@prec: 0.4499 - val_loss: 1.4395 - val_f1: 0.4940 - val_rec@prec: 0.2601\n",
            "Epoch 9/20\n",
            "43/43 [==============================] - 4s 98ms/step - loss: 1.0618 - f1: 0.6549 - rec@prec: 0.5525 - val_loss: 1.2470 - val_f1: 0.6055 - val_rec@prec: 0.4432\n",
            "Epoch 10/20\n",
            "43/43 [==============================] - 5s 107ms/step - loss: 0.9215 - f1: 0.7021 - rec@prec: 0.6507 - val_loss: 1.2152 - val_f1: 0.6294 - val_rec@prec: 0.4860\n",
            "Epoch 11/20\n",
            "43/43 [==============================] - 4s 81ms/step - loss: 0.8715 - f1: 0.7193 - rec@prec: 0.6796 - val_loss: 1.1847 - val_f1: 0.6418 - val_rec@prec: 0.4869\n",
            "Epoch 12/20\n",
            "43/43 [==============================] - 3s 79ms/step - loss: 0.7772 - f1: 0.7607 - rec@prec: 0.7510 - val_loss: 1.1739 - val_f1: 0.6764 - val_rec@prec: 0.5347\n",
            "Epoch 13/20\n",
            "43/43 [==============================] - 4s 84ms/step - loss: 0.7050 - f1: 0.7914 - rec@prec: 0.7934 - val_loss: 1.1467 - val_f1: 0.6778 - val_rec@prec: 0.5748\n",
            "Epoch 14/20\n",
            "43/43 [==============================] - 4s 95ms/step - loss: 0.6333 - f1: 0.8167 - rec@prec: 0.8339 - val_loss: 1.1858 - val_f1: 0.6686 - val_rec@prec: 0.5437\n",
            "Epoch 15/20\n",
            "43/43 [==============================] - 3s 78ms/step - loss: 0.5715 - f1: 0.8392 - rec@prec: 0.8618 - val_loss: 1.3050 - val_f1: 0.6641 - val_rec@prec: 0.4995\n",
            "Epoch 16/20\n",
            "43/43 [==============================] - 3s 78ms/step - loss: 0.5341 - f1: 0.8490 - rec@prec: 0.8755 - val_loss: 1.2179 - val_f1: 0.6840 - val_rec@prec: 0.5514\n",
            "Epoch 17/20\n",
            "43/43 [==============================] - 3s 79ms/step - loss: 0.4801 - f1: 0.8685 - rec@prec: 0.9009 - val_loss: 1.2040 - val_f1: 0.6889 - val_rec@prec: 0.5681\n",
            "Epoch 18/20\n",
            "43/43 [==============================] - 3s 78ms/step - loss: 0.4409 - f1: 0.8801 - rec@prec: 0.9153 - val_loss: 1.2404 - val_f1: 0.6937 - val_rec@prec: 0.5951\n",
            "Epoch 19/20\n",
            "43/43 [==============================] - 3s 74ms/step - loss: 0.4059 - f1: 0.8894 - rec@prec: 0.9268 - val_loss: 1.2542 - val_f1: 0.6785 - val_rec@prec: 0.5870\n",
            "Epoch 20/20\n",
            "43/43 [==============================] - 4s 84ms/step - loss: 0.3614 - f1: 0.9033 - rec@prec: 0.9410 - val_loss: 1.2558 - val_f1: 0.6931 - val_rec@prec: 0.5825\n"
          ]
        },
        {
          "output_type": "execute_result",
          "data": {
            "text/plain": [
              "<keras.src.callbacks.History at 0x78500c132a40>"
            ]
          },
          "metadata": {},
          "execution_count": 74
        }
      ]
    },
    {
      "cell_type": "code",
      "source": [
        "print(model2.history.history.keys())\n",
        "# summarize history for accuracy\n",
        "plt.plot(model2.history.history['rec@prec'])\n",
        "plt.plot(model2.history.history['val_rec@prec'])\n",
        "plt.title('model2 f1')\n",
        "plt.ylabel('f1')\n",
        "plt.xlabel('epoch')\n",
        "plt.legend(['train', 'val'], loc='upper left')\n",
        "plt.show()"
      ],
      "metadata": {
        "colab": {
          "base_uri": "https://localhost:8080/",
          "height": 489
        },
        "id": "0TdE2TgxNQBL",
        "outputId": "d7bc0c3a-4065-4f5c-8e5a-16346edca12d"
      },
      "id": "0TdE2TgxNQBL",
      "execution_count": null,
      "outputs": [
        {
          "output_type": "stream",
          "name": "stdout",
          "text": [
            "dict_keys(['loss', 'f1', 'rec@prec', 'val_loss', 'val_f1', 'val_rec@prec'])\n"
          ]
        },
        {
          "output_type": "display_data",
          "data": {
            "text/plain": [
              "<Figure size 640x480 with 1 Axes>"
            ],
            "image/png": "[encoded data removed]"
          },
          "metadata": {}
        }
      ]
    },
    {
      "cell_type": "code",
      "source": [
        "rounded_predictions = model2.predict(X_valid, batch_size=128, verbose=0)\n",
        "pred = np.argmax(rounded_predictions, axis=1)\n",
        "\n",
        "rounded_labels=np.argmax(y_valid, axis=1)\n",
        "rounded_labels\n",
        "\n",
        "print(classification_report(rounded_labels, pred))\n"
      ],
      "metadata": {
        "colab": {
          "base_uri": "https://localhost:8080/"
        },
        "id": "mZL8ryGYNcWw",
        "outputId": "014f95e5-4c01-4c35-8927-8b5952eab644"
      },
      "id": "mZL8ryGYNcWw",
      "execution_count": null,
      "outputs": [
        {
          "output_type": "stream",
          "name": "stdout",
          "text": [
            "              precision    recall  f1-score   support\n",
            "\n",
            "           0       0.12      0.05      0.07        21\n",
            "           1       0.66      0.78      0.71       481\n",
            "           2       0.00      0.00      0.00         2\n",
            "           3       0.00      0.00      0.00         1\n",
            "           4       0.17      0.05      0.08        60\n",
            "           5       0.52      0.49      0.51       132\n",
            "           6       0.75      0.70      0.72       410\n",
            "           7       0.79      0.76      0.77       160\n",
            "           8       0.00      0.00      0.00         4\n",
            "           9       0.78      0.78      0.78       239\n",
            "          10       0.67      0.67      0.67        66\n",
            "          11       0.08      0.05      0.06        22\n",
            "          12       0.73      0.72      0.73       159\n",
            "          13       0.43      0.26      0.32        23\n",
            "          14       0.21      0.33      0.26        84\n",
            "          15       0.64      0.61      0.63       159\n",
            "          17       0.98      0.94      0.96       195\n",
            "\n",
            "    accuracy                           0.68      2218\n",
            "   macro avg       0.44      0.42      0.43      2218\n",
            "weighted avg       0.68      0.68      0.68      2218\n",
            "\n"
          ]
        },
        {
          "output_type": "stream",
          "name": "stderr",
          "text": [
            "/usr/local/lib/python3.10/dist-packages/sklearn/metrics/_classification.py:1344: UndefinedMetricWarning: Precision and F-score are ill-defined and being set to 0.0 in labels with no predicted samples. Use `zero_division` parameter to control this behavior.\n",
            "  _warn_prf(average, modifier, msg_start, len(result))\n",
            "/usr/local/lib/python3.10/dist-packages/sklearn/metrics/_classification.py:1344: UndefinedMetricWarning: Precision and F-score are ill-defined and being set to 0.0 in labels with no predicted samples. Use `zero_division` parameter to control this behavior.\n",
            "  _warn_prf(average, modifier, msg_start, len(result))\n",
            "/usr/local/lib/python3.10/dist-packages/sklearn/metrics/_classification.py:1344: UndefinedMetricWarning: Precision and F-score are ill-defined and being set to 0.0 in labels with no predicted samples. Use `zero_division` parameter to control this behavior.\n",
            "  _warn_prf(average, modifier, msg_start, len(result))\n"
          ]
        }
      ]
    },
    {
      "cell_type": "markdown",
      "source": [
        "## **3. Модель с 1 GRU и 1 LSTM слоем**"
      ],
      "metadata": {
        "id": "QXAaLszgORhL"
      },
      "id": "QXAaLszgORhL"
    },
    {
      "cell_type": "code",
      "source": [
        "inputs = tf.keras.layers.Input(shape=(MAX_LEN,))\n",
        "embeddings = tf.keras.layers.Embedding(input_dim=len(word2id), output_dim=30)(inputs, )\n",
        "\n",
        "lstm_1 = tf.keras.layers.LSTM(128, return_sequences=True)(embeddings)\n",
        "lstm_2 = tf.keras.layers.GRU(128, return_sequences=False)(lstm_1)\n",
        "\n",
        "dense = tf.keras.layers.Dense(64, activation='relu')(lstm_2)\n",
        "outputs = tf.keras.layers.Dense(len(label2id), activation='softmax')(dense)\n",
        "\n",
        "model3 = tf.keras.Model(inputs=inputs, outputs=outputs)\n",
        "optimizer = tf.keras.optimizers.Adam(learning_rate=0.001)\n",
        "model3.compile(optimizer=optimizer,\n",
        "              loss='categorical_crossentropy',\n",
        "              metrics=[f1, tf.keras.metrics.RecallAtPrecision(0.8, name='rec@prec')])\n"
      ],
      "metadata": {
        "id": "zgoUcHbSREMt"
      },
      "id": "zgoUcHbSREMt",
      "execution_count": null,
      "outputs": []
    },
    {
      "cell_type": "code",
      "source": [
        "model3.fit(X_train, y_train,\n",
        "          validation_data=(X_valid, y_valid),\n",
        "          batch_size=200,\n",
        "          epochs=15)"
      ],
      "metadata": {
        "colab": {
          "base_uri": "https://localhost:8080/"
        },
        "id": "iDG5IdvvRU7r",
        "outputId": "83d2f7d9-1b0e-4770-8ac3-37cab9840e5a"
      },
      "id": "iDG5IdvvRU7r",
      "execution_count": null,
      "outputs": [
        {
          "output_type": "stream",
          "name": "stdout",
          "text": [
            "Epoch 1/15\n",
            "211/211 [==============================] - 33s 125ms/step - loss: 2.1125 - f1: 0.0215 - rec@prec: 4.7463e-05 - val_loss: 1.6966 - val_f1: 0.0982 - val_rec@prec: 0.0334\n",
            "Epoch 2/15\n",
            "211/211 [==============================] - 18s 84ms/step - loss: 1.2988 - f1: 0.4484 - rec@prec: 0.2953 - val_loss: 1.1639 - val_f1: 0.6275 - val_rec@prec: 0.4838\n",
            "Epoch 3/15\n",
            "211/211 [==============================] - 14s 66ms/step - loss: 0.8795 - f1: 0.7282 - rec@prec: 0.6831 - val_loss: 0.9983 - val_f1: 0.6952 - val_rec@prec: 0.6253\n",
            "Epoch 4/15\n",
            "211/211 [==============================] - 13s 60ms/step - loss: 0.6497 - f1: 0.8091 - rec@prec: 0.8196 - val_loss: 1.0352 - val_f1: 0.7124 - val_rec@prec: 0.6326\n",
            "Epoch 5/15\n",
            "211/211 [==============================] - 11s 52ms/step - loss: 0.5141 - f1: 0.8509 - rec@prec: 0.8794 - val_loss: 1.1386 - val_f1: 0.7091 - val_rec@prec: 0.5987\n",
            "Epoch 6/15\n",
            "211/211 [==============================] - 10s 50ms/step - loss: 0.4024 - f1: 0.8835 - rec@prec: 0.9218 - val_loss: 1.2577 - val_f1: 0.6914 - val_rec@prec: 0.5915\n",
            "Epoch 7/15\n",
            "211/211 [==============================] - 10s 49ms/step - loss: 0.3094 - f1: 0.9108 - rec@prec: 0.9528 - val_loss: 1.3803 - val_f1: 0.6946 - val_rec@prec: 0.5884\n",
            "Epoch 8/15\n",
            "211/211 [==============================] - 9s 41ms/step - loss: 0.2360 - f1: 0.9311 - rec@prec: 0.9722 - val_loss: 1.5365 - val_f1: 0.6874 - val_rec@prec: 0.5897\n",
            "Epoch 9/15\n",
            "211/211 [==============================] - 10s 47ms/step - loss: 0.1732 - f1: 0.9505 - rec@prec: 0.9848 - val_loss: 1.6546 - val_f1: 0.6900 - val_rec@prec: 0.5649\n",
            "Epoch 10/15\n",
            "211/211 [==============================] - 9s 42ms/step - loss: 0.1302 - f1: 0.9635 - rec@prec: 0.9908 - val_loss: 1.7166 - val_f1: 0.6916 - val_rec@prec: 0.5888\n",
            "Epoch 11/15\n",
            "211/211 [==============================] - 9s 42ms/step - loss: 0.1024 - f1: 0.9704 - rec@prec: 0.9944 - val_loss: 1.8103 - val_f1: 0.6876 - val_rec@prec: 0.5794\n",
            "Epoch 12/15\n",
            "211/211 [==============================] - 8s 40ms/step - loss: 0.0814 - f1: 0.9771 - rec@prec: 0.9963 - val_loss: 1.9923 - val_f1: 0.6728 - val_rec@prec: 0.5280\n",
            "Epoch 13/15\n",
            "211/211 [==============================] - 9s 42ms/step - loss: 0.0659 - f1: 0.9817 - rec@prec: 0.9974 - val_loss: 2.0410 - val_f1: 0.6767 - val_rec@prec: 0.5370\n",
            "Epoch 14/15\n",
            "211/211 [==============================] - 9s 42ms/step - loss: 0.0549 - f1: 0.9847 - rec@prec: 0.9980 - val_loss: 2.1806 - val_f1: 0.6710 - val_rec@prec: 0.5550\n",
            "Epoch 15/15\n",
            "211/211 [==============================] - 9s 41ms/step - loss: 0.0549 - f1: 0.9846 - rec@prec: 0.9980 - val_loss: 2.2328 - val_f1: 0.6820 - val_rec@prec: 0.5604\n"
          ]
        },
        {
          "output_type": "execute_result",
          "data": {
            "text/plain": [
              "<keras.src.callbacks.History at 0x784ffafb5d80>"
            ]
          },
          "metadata": {},
          "execution_count": 98
        }
      ]
    },
    {
      "cell_type": "code",
      "source": [
        "print(model3.history.history.keys())\n",
        "# summarize history for accuracy\n",
        "plt.plot(model3.history.history['rec@prec'])\n",
        "plt.plot(model3.history.history['val_rec@prec'])\n",
        "plt.title('model3 f1')\n",
        "plt.ylabel('f1')\n",
        "plt.xlabel('epoch')\n",
        "plt.legend(['train', 'val'], loc='upper left')\n",
        "plt.show()"
      ],
      "metadata": {
        "colab": {
          "base_uri": "https://localhost:8080/",
          "height": 489
        },
        "id": "zIQF02WOSBuT",
        "outputId": "ab6c4696-ea94-4d1a-bc13-9fbf1197594c"
      },
      "id": "zIQF02WOSBuT",
      "execution_count": null,
      "outputs": [
        {
          "output_type": "stream",
          "name": "stdout",
          "text": [
            "dict_keys(['loss', 'f1', 'rec@prec', 'val_loss', 'val_f1', 'val_rec@prec'])\n"
          ]
        },
        {
          "output_type": "display_data",
          "data": {
            "text/plain": [
              "<Figure size 640x480 with 1 Axes>"
            ],
            "image/png": "[encoded data removed]"
          },
          "metadata": {}
        }
      ]
    },
    {
      "cell_type": "code",
      "source": [
        "rounded_predictions = model3.predict(X_valid, batch_size=128, verbose=0)\n",
        "pred = np.argmax(rounded_predictions, axis=1)\n",
        "\n",
        "rounded_labels=np.argmax(y_valid, axis=1)\n",
        "rounded_labels\n",
        "\n",
        "print(classification_report(rounded_labels, pred))"
      ],
      "metadata": {
        "colab": {
          "base_uri": "https://localhost:8080/"
        },
        "id": "JBkRiovCSHwW",
        "outputId": "4b11dc62-4e84-4d45-ebc7-012de02a0821"
      },
      "id": "JBkRiovCSHwW",
      "execution_count": null,
      "outputs": [
        {
          "output_type": "stream",
          "name": "stdout",
          "text": [
            "              precision    recall  f1-score   support\n",
            "\n",
            "           0       0.14      0.14      0.14        21\n",
            "           1       0.69      0.73      0.71       481\n",
            "           2       0.00      0.00      0.00         2\n",
            "           3       0.00      0.00      0.00         1\n",
            "           4       0.48      0.23      0.31        60\n",
            "           5       0.56      0.50      0.53       132\n",
            "           6       0.71      0.71      0.71       410\n",
            "           7       0.70      0.68      0.69       160\n",
            "           8       0.00      0.00      0.00         4\n",
            "           9       0.73      0.80      0.77       239\n",
            "          10       0.73      0.70      0.71        66\n",
            "          11       0.25      0.18      0.21        22\n",
            "          12       0.71      0.76      0.73       159\n",
            "          13       0.71      0.43      0.54        23\n",
            "          14       0.26      0.30      0.28        84\n",
            "          15       0.67      0.67      0.67       159\n",
            "          17       0.95      0.91      0.93       195\n",
            "\n",
            "    accuracy                           0.68      2218\n",
            "   macro avg       0.49      0.46      0.47      2218\n",
            "weighted avg       0.68      0.68      0.68      2218\n",
            "\n"
          ]
        }
      ]
    },
    {
      "cell_type": "markdown",
      "source": [
        "## **4. Модель с 1 BIGRU и 2 LSTM слоями**"
      ],
      "metadata": {
        "id": "6Nrh_Mg9SjV7"
      },
      "id": "6Nrh_Mg9SjV7"
    },
    {
      "cell_type": "code",
      "source": [
        "inputs = tf.keras.layers.Input(shape=(MAX_LEN,))\n",
        "embeddings = tf.keras.layers.Embedding(input_dim=len(word2id), output_dim=30)(inputs, )\n",
        "\n",
        "gru = tf.keras.layers.Bidirectional(tf.keras.layers.GRU(128, return_sequences=True))(embeddings)\n",
        "lstm_1 = tf.keras.layers.LSTM(128, return_sequences=True)(gru)\n",
        "lstm_2 = tf.keras.layers.LSTM(128, return_sequences=False)(lstm_1)\n",
        "\n",
        "dense = tf.keras.layers.Dense(64, activation='relu')(lstm_2)\n",
        "outputs = tf.keras.layers.Dense(len(label2id), activation='softmax')(dense)\n",
        "\n",
        "model4 = tf.keras.Model(inputs=inputs, outputs=outputs)\n",
        "optimizer = tf.keras.optimizers.Adam(learning_rate=0.001)\n",
        "model4.compile(optimizer=optimizer,\n",
        "              loss='categorical_crossentropy',\n",
        "              metrics=[f1, tf.keras.metrics.RecallAtPrecision(0.8, name='rec@prec')])"
      ],
      "metadata": {
        "id": "UyV7lXU8Si2g"
      },
      "id": "UyV7lXU8Si2g",
      "execution_count": null,
      "outputs": []
    },
    {
      "cell_type": "code",
      "source": [
        "model4.fit(X_train, y_train,\n",
        "          validation_data=(X_valid, y_valid),\n",
        "          batch_size=200,\n",
        "          epochs=15)"
      ],
      "metadata": {
        "colab": {
          "base_uri": "https://localhost:8080/"
        },
        "id": "IffGCgTcT0bn",
        "outputId": "c085b5d8-4187-48f2-dce4-4f0860e2d963"
      },
      "id": "IffGCgTcT0bn",
      "execution_count": null,
      "outputs": [
        {
          "output_type": "stream",
          "name": "stdout",
          "text": [
            "Epoch 1/15\n",
            "211/211 [==============================] - 44s 156ms/step - loss: 2.3068 - f1: 0.0000e+00 - rec@prec: 0.0000e+00 - val_loss: 1.9421 - val_f1: 0.0000e+00 - val_rec@prec: 0.0000e+00\n",
            "Epoch 2/15\n",
            "211/211 [==============================] - 25s 118ms/step - loss: 1.7785 - f1: 0.0922 - rec@prec: 0.0330 - val_loss: 1.6770 - val_f1: 0.1873 - val_rec@prec: 0.1023\n",
            "Epoch 3/15\n",
            "211/211 [==============================] - 22s 106ms/step - loss: 1.5678 - f1: 0.2367 - rec@prec: 0.1245 - val_loss: 1.5802 - val_f1: 0.2666 - val_rec@prec: 0.1285\n",
            "Epoch 4/15\n",
            "211/211 [==============================] - 21s 100ms/step - loss: 1.4054 - f1: 0.3443 - rec@prec: 0.1843 - val_loss: 1.4509 - val_f1: 0.3311 - val_rec@prec: 0.2024\n",
            "Epoch 5/15\n",
            "211/211 [==============================] - 20s 96ms/step - loss: 1.2497 - f1: 0.4733 - rec@prec: 0.2914 - val_loss: 1.3890 - val_f1: 0.4659 - val_rec@prec: 0.2782\n",
            "Epoch 6/15\n",
            "211/211 [==============================] - 20s 95ms/step - loss: 1.0879 - f1: 0.5924 - rec@prec: 0.4202 - val_loss: 1.2260 - val_f1: 0.5654 - val_rec@prec: 0.3323\n",
            "Epoch 7/15\n",
            "211/211 [==============================] - 19s 88ms/step - loss: 0.8986 - f1: 0.7030 - rec@prec: 0.6175 - val_loss: 1.1677 - val_f1: 0.6529 - val_rec@prec: 0.4779\n",
            "Epoch 8/15\n",
            "211/211 [==============================] - 19s 88ms/step - loss: 0.7551 - f1: 0.7674 - rec@prec: 0.7466 - val_loss: 1.1345 - val_f1: 0.6794 - val_rec@prec: 0.5374\n",
            "Epoch 9/15\n",
            "211/211 [==============================] - 18s 83ms/step - loss: 0.6439 - f1: 0.8090 - rec@prec: 0.8226 - val_loss: 1.1505 - val_f1: 0.6866 - val_rec@prec: 0.5500\n",
            "Epoch 10/15\n",
            "211/211 [==============================] - 18s 87ms/step - loss: 0.5758 - f1: 0.8312 - rec@prec: 0.8540 - val_loss: 1.1782 - val_f1: 0.6897 - val_rec@prec: 0.5505\n",
            "Epoch 11/15\n",
            "211/211 [==============================] - 18s 86ms/step - loss: 0.4968 - f1: 0.8560 - rec@prec: 0.8903 - val_loss: 1.2025 - val_f1: 0.6931 - val_rec@prec: 0.5537\n",
            "Epoch 12/15\n",
            "211/211 [==============================] - 18s 85ms/step - loss: 0.4362 - f1: 0.8762 - rec@prec: 0.9141 - val_loss: 1.2626 - val_f1: 0.6949 - val_rec@prec: 0.5586\n",
            "Epoch 13/15\n",
            "211/211 [==============================] - 18s 84ms/step - loss: 0.3838 - f1: 0.8888 - rec@prec: 0.9317 - val_loss: 1.3468 - val_f1: 0.6963 - val_rec@prec: 0.5509\n",
            "Epoch 14/15\n",
            "211/211 [==============================] - 18s 86ms/step - loss: 0.3381 - f1: 0.9054 - rec@prec: 0.9462 - val_loss: 1.3448 - val_f1: 0.6914 - val_rec@prec: 0.5555\n",
            "Epoch 15/15\n",
            "211/211 [==============================] - 18s 86ms/step - loss: 0.2927 - f1: 0.9178 - rec@prec: 0.9587 - val_loss: 1.5313 - val_f1: 0.6747 - val_rec@prec: 0.5329\n"
          ]
        },
        {
          "output_type": "execute_result",
          "data": {
            "text/plain": [
              "<keras.src.callbacks.History at 0x78507fe85a80>"
            ]
          },
          "metadata": {},
          "execution_count": 84
        }
      ]
    },
    {
      "cell_type": "code",
      "source": [
        "print(model4.history.history.keys())\n",
        "# summarize history for accuracy\n",
        "plt.plot(model4.history.history['rec@prec'])\n",
        "plt.plot(model4.history.history['val_rec@prec'])\n",
        "plt.title('model4 f1')\n",
        "plt.ylabel('f1')\n",
        "plt.xlabel('epoch')\n",
        "plt.legend(['train', 'val'], loc='upper left')\n",
        "plt.show()"
      ],
      "metadata": {
        "colab": {
          "base_uri": "https://localhost:8080/",
          "height": 489
        },
        "id": "aiLW1hpPTuwa",
        "outputId": "1a08f8d8-1d9e-4a30-d8b0-3bc08496f24b"
      },
      "id": "aiLW1hpPTuwa",
      "execution_count": null,
      "outputs": [
        {
          "output_type": "stream",
          "name": "stdout",
          "text": [
            "dict_keys(['loss', 'f1', 'rec@prec', 'val_loss', 'val_f1', 'val_rec@prec'])\n"
          ]
        },
        {
          "output_type": "display_data",
          "data": {
            "text/plain": [
              "<Figure size 640x480 with 1 Axes>"
            ],
            "image/png": "[encoded data removed]"
          },
          "metadata": {}
        }
      ]
    },
    {
      "cell_type": "code",
      "source": [
        "rounded_predictions = model4.predict(X_valid, batch_size=128, verbose=0)\n",
        "pred = np.argmax(rounded_predictions, axis=1)\n",
        "\n",
        "rounded_labels=np.argmax(y_valid, axis=1)\n",
        "rounded_labels\n",
        "\n",
        "print(classification_report(rounded_labels, pred))"
      ],
      "metadata": {
        "colab": {
          "base_uri": "https://localhost:8080/"
        },
        "id": "k1L5p417VhMo",
        "outputId": "8d3b2cc9-925f-49b0-e618-f1054df38252"
      },
      "id": "k1L5p417VhMo",
      "execution_count": null,
      "outputs": [
        {
          "output_type": "stream",
          "name": "stdout",
          "text": [
            "              precision    recall  f1-score   support\n",
            "\n",
            "           0       0.07      0.19      0.11        21\n",
            "           1       0.70      0.68      0.69       481\n",
            "           2       0.00      0.00      0.00         2\n",
            "           3       0.00      0.00      0.00         1\n",
            "           4       0.17      0.18      0.18        60\n",
            "           5       0.36      0.45      0.40       132\n",
            "           6       0.77      0.62      0.69       410\n",
            "           7       0.70      0.76      0.73       160\n",
            "           8       0.00      0.00      0.00         4\n",
            "           9       0.80      0.73      0.76       239\n",
            "          10       0.66      0.73      0.69        66\n",
            "          11       0.20      0.23      0.21        22\n",
            "          12       0.71      0.67      0.69       159\n",
            "          13       0.31      0.65      0.42        23\n",
            "          14       0.30      0.30      0.30        84\n",
            "          15       0.73      0.75      0.74       159\n",
            "          17       0.92      0.95      0.93       195\n",
            "\n",
            "    accuracy                           0.66      2218\n",
            "   macro avg       0.44      0.46      0.44      2218\n",
            "weighted avg       0.68      0.66      0.66      2218\n",
            "\n"
          ]
        },
        {
          "output_type": "stream",
          "name": "stderr",
          "text": [
            "/usr/local/lib/python3.10/dist-packages/sklearn/metrics/_classification.py:1344: UndefinedMetricWarning: Precision and F-score are ill-defined and being set to 0.0 in labels with no predicted samples. Use `zero_division` parameter to control this behavior.\n",
            "  _warn_prf(average, modifier, msg_start, len(result))\n",
            "/usr/local/lib/python3.10/dist-packages/sklearn/metrics/_classification.py:1344: UndefinedMetricWarning: Precision and F-score are ill-defined and being set to 0.0 in labels with no predicted samples. Use `zero_division` parameter to control this behavior.\n",
            "  _warn_prf(average, modifier, msg_start, len(result))\n",
            "/usr/local/lib/python3.10/dist-packages/sklearn/metrics/_classification.py:1344: UndefinedMetricWarning: Precision and F-score are ill-defined and being set to 0.0 in labels with no predicted samples. Use `zero_division` parameter to control this behavior.\n",
            "  _warn_prf(average, modifier, msg_start, len(result))\n"
          ]
        }
      ]
    },
    {
      "cell_type": "markdown",
      "source": [
        "## **5. Модель с 5 GRU слоями и 3 LSTM слоями**"
      ],
      "metadata": {
        "id": "kAgXXektWIO1"
      },
      "id": "kAgXXektWIO1"
    },
    {
      "cell_type": "code",
      "source": [
        "inputs = tf.keras.layers.Input(shape=(MAX_LEN,))\n",
        "embeddings = tf.keras.layers.Embedding(input_dim=len(word2id), output_dim=30)(inputs, )\n",
        "\n",
        "gru_1 = tf.keras.layers.GRU(128, return_sequences=True)(embeddings)\n",
        "gru_2 = tf.keras.layers.GRU(128, return_sequences=True)(gru_1)\n",
        "gru_3 = tf.keras.layers.GRU(128, return_sequences=True)(gru_2)\n",
        "gru_4 = tf.keras.layers.GRU(128, return_sequences=True)(gru_3)\n",
        "gru_5 = tf.keras.layers.GRU(128, return_sequences=True)(gru_4)\n",
        "lstm_1 = tf.keras.layers.LSTM(128, return_sequences=True)(gru_5)\n",
        "lstm_2 = tf.keras.layers.LSTM(128, return_sequences=True)(lstm_1)\n",
        "lstm_3 = tf.keras.layers.LSTM(128, return_sequences=False)(lstm_2)\n",
        "\n",
        "\n",
        "dense = tf.keras.layers.Dense(64, activation='relu')(lstm_3)\n",
        "outputs = tf.keras.layers.Dense(len(label2id), activation='softmax')(dense)\n",
        "\n",
        "model5 = tf.keras.Model(inputs=inputs, outputs=outputs)\n",
        "optimizer = tf.keras.optimizers.Adam(learning_rate=0.001)\n",
        "model5.compile(optimizer=optimizer,\n",
        "              loss='categorical_crossentropy',\n",
        "              metrics=[f1, tf.keras.metrics.RecallAtPrecision(0.8, name='rec@prec')])"
      ],
      "metadata": {
        "id": "u09udJ5XX8Dh"
      },
      "id": "u09udJ5XX8Dh",
      "execution_count": null,
      "outputs": []
    },
    {
      "cell_type": "code",
      "source": [
        "model5.fit(X_train, y_train,\n",
        "          validation_data=(X_valid, y_valid),\n",
        "          batch_size=200,\n",
        "          epochs=15)"
      ],
      "metadata": {
        "colab": {
          "base_uri": "https://localhost:8080/"
        },
        "id": "TtUI54X4Y5f2",
        "outputId": "48aa08ea-6561-43d4-a8be-2d291d9b7201"
      },
      "id": "TtUI54X4Y5f2",
      "execution_count": null,
      "outputs": [
        {
          "output_type": "stream",
          "name": "stdout",
          "text": [
            "Epoch 1/15\n",
            "211/211 [==============================] - 62s 226ms/step - loss: 2.3494 - f1: 0.0000e+00 - rec@prec: 0.0000e+00 - val_loss: 2.3192 - val_f1: 0.0000e+00 - val_rec@prec: 0.0000e+00\n",
            "Epoch 2/15\n",
            "211/211 [==============================] - 39s 185ms/step - loss: 2.3243 - f1: 0.0000e+00 - rec@prec: 0.0000e+00 - val_loss: 2.3229 - val_f1: 0.0000e+00 - val_rec@prec: 0.0000e+00\n",
            "Epoch 3/15\n",
            "211/211 [==============================] - 35s 164ms/step - loss: 2.3245 - f1: 0.0000e+00 - rec@prec: 0.0000e+00 - val_loss: 2.3193 - val_f1: 0.0000e+00 - val_rec@prec: 0.0000e+00\n",
            "Epoch 4/15\n",
            "211/211 [==============================] - 34s 163ms/step - loss: 2.3232 - f1: 0.0000e+00 - rec@prec: 0.0000e+00 - val_loss: 2.3219 - val_f1: 0.0000e+00 - val_rec@prec: 0.0000e+00\n",
            "Epoch 5/15\n",
            "211/211 [==============================] - 34s 162ms/step - loss: 2.3230 - f1: 0.0000e+00 - rec@prec: 0.0000e+00 - val_loss: 2.3193 - val_f1: 0.0000e+00 - val_rec@prec: 0.0000e+00\n",
            "Epoch 6/15\n",
            "211/211 [==============================] - 33s 156ms/step - loss: 2.3228 - f1: 0.0000e+00 - rec@prec: 0.0000e+00 - val_loss: 2.3198 - val_f1: 0.0000e+00 - val_rec@prec: 0.0000e+00\n",
            "Epoch 7/15\n",
            "211/211 [==============================] - 34s 160ms/step - loss: 2.3227 - f1: 0.0000e+00 - rec@prec: 0.0000e+00 - val_loss: 2.3205 - val_f1: 0.0000e+00 - val_rec@prec: 0.0000e+00\n",
            "Epoch 8/15\n",
            "211/211 [==============================] - 32s 153ms/step - loss: 2.3228 - f1: 0.0000e+00 - rec@prec: 0.0000e+00 - val_loss: 2.3190 - val_f1: 0.0000e+00 - val_rec@prec: 0.0000e+00\n",
            "Epoch 9/15\n",
            "211/211 [==============================] - 32s 151ms/step - loss: 2.3231 - f1: 0.0000e+00 - rec@prec: 0.0000e+00 - val_loss: 2.3193 - val_f1: 0.0000e+00 - val_rec@prec: 0.0000e+00\n",
            "Epoch 10/15\n",
            "211/211 [==============================] - 32s 153ms/step - loss: 2.3226 - f1: 0.0000e+00 - rec@prec: 0.0000e+00 - val_loss: 2.3195 - val_f1: 0.0000e+00 - val_rec@prec: 0.0000e+00\n",
            "Epoch 11/15\n",
            "211/211 [==============================] - 32s 152ms/step - loss: 2.3239 - f1: 0.0000e+00 - rec@prec: 0.0000e+00 - val_loss: 2.3201 - val_f1: 0.0000e+00 - val_rec@prec: 0.0000e+00\n",
            "Epoch 12/15\n",
            "211/211 [==============================] - 31s 149ms/step - loss: 2.3223 - f1: 0.0000e+00 - rec@prec: 0.0000e+00 - val_loss: 2.3194 - val_f1: 0.0000e+00 - val_rec@prec: 0.0000e+00\n",
            "Epoch 13/15\n",
            "211/211 [==============================] - 32s 153ms/step - loss: 2.3219 - f1: 0.0000e+00 - rec@prec: 0.0000e+00 - val_loss: 2.3197 - val_f1: 0.0000e+00 - val_rec@prec: 0.0000e+00\n",
            "Epoch 14/15\n",
            "211/211 [==============================] - 32s 152ms/step - loss: 2.3220 - f1: 0.0000e+00 - rec@prec: 0.0000e+00 - val_loss: 2.3199 - val_f1: 0.0000e+00 - val_rec@prec: 0.0000e+00\n",
            "Epoch 15/15\n",
            "211/211 [==============================] - 31s 147ms/step - loss: 2.3223 - f1: 0.0000e+00 - rec@prec: 0.0000e+00 - val_loss: 2.3192 - val_f1: 0.0000e+00 - val_rec@prec: 0.0000e+00\n"
          ]
        },
        {
          "output_type": "execute_result",
          "data": {
            "text/plain": [
              "<keras.src.callbacks.History at 0x78507fe854e0>"
            ]
          },
          "metadata": {},
          "execution_count": 89
        }
      ]
    },
    {
      "cell_type": "code",
      "source": [
        "print(model5.history.history.keys())\n",
        "# summarize history for accuracy\n",
        "plt.plot(model5.history.history['rec@prec'])\n",
        "plt.plot(model5.history.history['val_rec@prec'])\n",
        "plt.title('model5 f1')\n",
        "plt.ylabel('f1')\n",
        "plt.xlabel('epoch')\n",
        "plt.legend(['train', 'val'], loc='upper left')\n",
        "plt.show()"
      ],
      "metadata": {
        "colab": {
          "base_uri": "https://localhost:8080/",
          "height": 489
        },
        "id": "dF4OaSUYZ6Kf",
        "outputId": "790094be-8d2f-4f01-8f6c-ec4d4d118864"
      },
      "id": "dF4OaSUYZ6Kf",
      "execution_count": null,
      "outputs": [
        {
          "output_type": "stream",
          "name": "stdout",
          "text": [
            "dict_keys(['loss', 'f1', 'rec@prec', 'val_loss', 'val_f1', 'val_rec@prec'])\n"
          ]
        },
        {
          "output_type": "display_data",
          "data": {
            "text/plain": [
              "<Figure size 640x480 with 1 Axes>"
            ],
            "image/png": "[encoded data removed]"
          },
          "metadata": {}
        }
      ]
    },
    {
      "cell_type": "code",
      "source": [
        "rounded_predictions = model5.predict(X_valid, batch_size=128, verbose=0)\n",
        "pred = np.argmax(rounded_predictions, axis=1)\n",
        "\n",
        "rounded_labels=np.argmax(y_valid, axis=1)\n",
        "rounded_labels\n",
        "\n",
        "print(classification_report(rounded_labels, pred))"
      ],
      "metadata": {
        "colab": {
          "base_uri": "https://localhost:8080/"
        },
        "id": "fAzCX8egZ8y0",
        "outputId": "e50aeac1-4f84-4883-a10e-cdacebd74fb8"
      },
      "id": "fAzCX8egZ8y0",
      "execution_count": null,
      "outputs": [
        {
          "output_type": "stream",
          "name": "stdout",
          "text": [
            "              precision    recall  f1-score   support\n",
            "\n",
            "           0       0.00      0.00      0.00        21\n",
            "           1       0.22      1.00      0.36       481\n",
            "           2       0.00      0.00      0.00         2\n",
            "           3       0.00      0.00      0.00         1\n",
            "           4       0.00      0.00      0.00        60\n",
            "           5       0.00      0.00      0.00       132\n",
            "           6       0.00      0.00      0.00       410\n",
            "           7       0.00      0.00      0.00       160\n",
            "           8       0.00      0.00      0.00         4\n",
            "           9       0.00      0.00      0.00       239\n",
            "          10       0.00      0.00      0.00        66\n",
            "          11       0.00      0.00      0.00        22\n",
            "          12       0.00      0.00      0.00       159\n",
            "          13       0.00      0.00      0.00        23\n",
            "          14       0.00      0.00      0.00        84\n",
            "          15       0.00      0.00      0.00       159\n",
            "          17       0.00      0.00      0.00       195\n",
            "\n",
            "    accuracy                           0.22      2218\n",
            "   macro avg       0.01      0.06      0.02      2218\n",
            "weighted avg       0.05      0.22      0.08      2218\n",
            "\n"
          ]
        },
        {
          "output_type": "stream",
          "name": "stderr",
          "text": [
            "/usr/local/lib/python3.10/dist-packages/sklearn/metrics/_classification.py:1344: UndefinedMetricWarning: Precision and F-score are ill-defined and being set to 0.0 in labels with no predicted samples. Use `zero_division` parameter to control this behavior.\n",
            "  _warn_prf(average, modifier, msg_start, len(result))\n",
            "/usr/local/lib/python3.10/dist-packages/sklearn/metrics/_classification.py:1344: UndefinedMetricWarning: Precision and F-score are ill-defined and being set to 0.0 in labels with no predicted samples. Use `zero_division` parameter to control this behavior.\n",
            "  _warn_prf(average, modifier, msg_start, len(result))\n",
            "/usr/local/lib/python3.10/dist-packages/sklearn/metrics/_classification.py:1344: UndefinedMetricWarning: Precision and F-score are ill-defined and being set to 0.0 in labels with no predicted samples. Use `zero_division` parameter to control this behavior.\n",
            "  _warn_prf(average, modifier, msg_start, len(result))\n"
          ]
        }
      ]
    },
    {
      "cell_type": "markdown",
      "source": [
        "## 6. **Модель 1 BIGRU и 1 BILSTM слоями, причем так чтобы модели для forward и backward прохода отличались**"
      ],
      "metadata": {
        "id": "OAKKxRnacuXd"
      },
      "id": "OAKKxRnacuXd"
    },
    {
      "cell_type": "code",
      "source": [
        "inputs = tf.keras.layers.Input(shape=(MAX_LEN,))\n",
        "embeddings = tf.keras.layers.Embedding(input_dim=len(word2id), output_dim=100)(inputs, )\n",
        "\n",
        "lstm_forward =  tf.keras.layers.GRU(128, return_sequences=False)(embeddings)\n",
        "lstm_backward =  tf.keras.layers.LSTM(128, return_sequences=False, go_backwards=True)(embeddings)\n",
        "\n",
        "hidden = tf.keras.layers.concatenate([lstm_forward, lstm_backward])\n",
        "\n",
        "outputs = tf.keras.layers.Dense(len(label2id), activation='softmax')(hidden)\n",
        "\n",
        "model6 = tf.keras.Model(inputs=inputs, outputs=outputs)\n",
        "\n",
        "model6.compile(optimizer='rmsprop',\n",
        "              loss='categorical_crossentropy',\n",
        "              metrics=[f1, tf.keras.metrics.RecallAtPrecision(0.8, name='rec@prec')])\n"
      ],
      "metadata": {
        "id": "lNBBOKNvc9Bi"
      },
      "id": "lNBBOKNvc9Bi",
      "execution_count": null,
      "outputs": []
    },
    {
      "cell_type": "code",
      "source": [
        "model6.fit(X_train, y_train,\n",
        "          validation_data=(X_valid, y_valid),\n",
        "          batch_size=200,\n",
        "          epochs=15)"
      ],
      "metadata": {
        "colab": {
          "base_uri": "https://localhost:8080/"
        },
        "id": "ySjKhgVThSCe",
        "outputId": "b0f40d83-c0c6-4152-a35b-c6af983a1b68"
      },
      "id": "ySjKhgVThSCe",
      "execution_count": null,
      "outputs": [
        {
          "output_type": "stream",
          "name": "stdout",
          "text": [
            "Epoch 1/15\n",
            "211/211 [==============================] - 40s 120ms/step - loss: 2.2059 - f1: 0.0029 - rec@prec: 0.0000e+00 - val_loss: 1.9484 - val_f1: 0.0000e+00 - val_rec@prec: 4.5086e-04\n",
            "Epoch 2/15\n",
            "211/211 [==============================] - 19s 90ms/step - loss: 1.7791 - f1: 0.1179 - rec@prec: 0.0125 - val_loss: 1.9936 - val_f1: 0.2594 - val_rec@prec: 0.0491\n",
            "Epoch 3/15\n",
            "211/211 [==============================] - 13s 63ms/step - loss: 1.5209 - f1: 0.2472 - rec@prec: 0.1281 - val_loss: 1.4487 - val_f1: 0.3394 - val_rec@prec: 0.1677\n",
            "Epoch 4/15\n",
            "211/211 [==============================] - 11s 54ms/step - loss: 1.3015 - f1: 0.4516 - rec@prec: 0.2682 - val_loss: 1.3963 - val_f1: 0.4834 - val_rec@prec: 0.2931\n",
            "Epoch 5/15\n",
            "211/211 [==============================] - 11s 51ms/step - loss: 1.0999 - f1: 0.6151 - rec@prec: 0.4780 - val_loss: 1.1830 - val_f1: 0.6479 - val_rec@prec: 0.4851\n",
            "Epoch 6/15\n",
            "211/211 [==============================] - 10s 47ms/step - loss: 0.9329 - f1: 0.6975 - rec@prec: 0.6319 - val_loss: 1.1882 - val_f1: 0.6577 - val_rec@prec: 0.5117\n",
            "Epoch 7/15\n",
            "211/211 [==============================] - 9s 45ms/step - loss: 0.8045 - f1: 0.7437 - rec@prec: 0.7200 - val_loss: 1.1716 - val_f1: 0.6654 - val_rec@prec: 0.5491\n",
            "Epoch 8/15\n",
            "211/211 [==============================] - 10s 45ms/step - loss: 0.6899 - f1: 0.7873 - rec@prec: 0.7921 - val_loss: 1.0856 - val_f1: 0.6992 - val_rec@prec: 0.5915\n",
            "Epoch 9/15\n",
            "211/211 [==============================] - 9s 41ms/step - loss: 0.5817 - f1: 0.8253 - rec@prec: 0.8502 - val_loss: 1.1443 - val_f1: 0.6952 - val_rec@prec: 0.5744\n",
            "Epoch 10/15\n",
            "211/211 [==============================] - 9s 43ms/step - loss: 0.4867 - f1: 0.8543 - rec@prec: 0.8918 - val_loss: 1.1338 - val_f1: 0.7036 - val_rec@prec: 0.5884\n",
            "Epoch 11/15\n",
            "211/211 [==============================] - 9s 41ms/step - loss: 0.4039 - f1: 0.8804 - rec@prec: 0.9235 - val_loss: 1.2311 - val_f1: 0.6938 - val_rec@prec: 0.5789\n",
            "Epoch 12/15\n",
            "211/211 [==============================] - 8s 39ms/step - loss: 0.3322 - f1: 0.9025 - rec@prec: 0.9477 - val_loss: 1.3065 - val_f1: 0.6876 - val_rec@prec: 0.5559\n",
            "Epoch 13/15\n",
            "211/211 [==============================] - 8s 39ms/step - loss: 0.2766 - f1: 0.9210 - rec@prec: 0.9624 - val_loss: 1.3095 - val_f1: 0.6832 - val_rec@prec: 0.5803\n",
            "Epoch 14/15\n",
            "211/211 [==============================] - 8s 39ms/step - loss: 0.2227 - f1: 0.9363 - rec@prec: 0.9760 - val_loss: 1.4133 - val_f1: 0.6824 - val_rec@prec: 0.5744\n",
            "Epoch 15/15\n",
            "211/211 [==============================] - 8s 39ms/step - loss: 0.1874 - f1: 0.9467 - rec@prec: 0.9823 - val_loss: 1.4516 - val_f1: 0.6924 - val_rec@prec: 0.5996\n"
          ]
        },
        {
          "output_type": "execute_result",
          "data": {
            "text/plain": [
              "<keras.src.callbacks.History at 0x7abe81c2a530>"
            ]
          },
          "metadata": {},
          "execution_count": 17
        }
      ]
    },
    {
      "cell_type": "code",
      "source": [
        "print(model6.history.history.keys())\n",
        "# summarize history for accuracy\n",
        "plt.plot(model6.history.history['rec@prec'])\n",
        "plt.plot(model6.history.history['val_rec@prec'])\n",
        "plt.title('model6 f1')\n",
        "plt.ylabel('f1')\n",
        "plt.xlabel('epoch')\n",
        "plt.legend(['train', 'val'], loc='upper left')\n",
        "plt.show()"
      ],
      "metadata": {
        "id": "ZgiDkUxphYoi",
        "outputId": "3b38897b-2fae-4005-9a7b-4e9775a2ada3",
        "colab": {
          "base_uri": "https://localhost:8080/",
          "height": 489
        }
      },
      "id": "ZgiDkUxphYoi",
      "execution_count": null,
      "outputs": [
        {
          "output_type": "stream",
          "name": "stdout",
          "text": [
            "dict_keys(['loss', 'f1', 'rec@prec', 'val_loss', 'val_f1', 'val_rec@prec'])\n"
          ]
        },
        {
          "output_type": "display_data",
          "data": {
            "text/plain": [
              "<Figure size 640x480 with 1 Axes>"
            ],
            "image/png": "[encoded data removed]"
          },
          "metadata": {}
        }
      ]
    },
    {
      "cell_type": "code",
      "source": [
        "rounded_predictions = model6.predict(X_valid, batch_size=128, verbose=0)\n",
        "pred = np.argmax(rounded_predictions, axis=1)\n",
        "\n",
        "rounded_labels=np.argmax(y_valid, axis=1)\n",
        "rounded_labels\n",
        "\n",
        "print(classification_report(rounded_labels, pred))"
      ],
      "metadata": {
        "id": "78CnZwiVh1bn",
        "outputId": "4f46c0aa-4fe5-49a3-cdf9-3080cbc262f2",
        "colab": {
          "base_uri": "https://localhost:8080/"
        }
      },
      "id": "78CnZwiVh1bn",
      "execution_count": null,
      "outputs": [
        {
          "output_type": "stream",
          "name": "stdout",
          "text": [
            "              precision    recall  f1-score   support\n",
            "\n",
            "           0       0.33      0.31      0.32        84\n",
            "           1       0.72      0.84      0.78       239\n",
            "           2       0.00      0.00      0.00         2\n",
            "           3       0.45      0.23      0.31        60\n",
            "           4       0.69      0.70      0.70       481\n",
            "           5       0.74      0.66      0.70       410\n",
            "           6       0.72      0.82      0.77       160\n",
            "           7       0.00      0.00      0.00         4\n",
            "           8       0.77      0.81      0.79       159\n",
            "          10       0.92      0.93      0.93       195\n",
            "          11       0.00      0.00      0.00         1\n",
            "          13       0.63      0.64      0.63        66\n",
            "          14       0.66      0.74      0.70       159\n",
            "          15       0.57      0.55      0.56       132\n",
            "          16       0.61      0.48      0.54        23\n",
            "          17       0.25      0.32      0.28        22\n",
            "          18       0.20      0.10      0.13        21\n",
            "\n",
            "    accuracy                           0.70      2218\n",
            "   macro avg       0.49      0.48      0.48      2218\n",
            "weighted avg       0.69      0.70      0.69      2218\n",
            "\n"
          ]
        },
        {
          "output_type": "stream",
          "name": "stderr",
          "text": [
            "/usr/local/lib/python3.10/dist-packages/sklearn/metrics/_classification.py:1344: UndefinedMetricWarning: Precision and F-score are ill-defined and being set to 0.0 in labels with no predicted samples. Use `zero_division` parameter to control this behavior.\n",
            "  _warn_prf(average, modifier, msg_start, len(result))\n",
            "/usr/local/lib/python3.10/dist-packages/sklearn/metrics/_classification.py:1344: UndefinedMetricWarning: Precision and F-score are ill-defined and being set to 0.0 in labels with no predicted samples. Use `zero_division` parameter to control this behavior.\n",
            "  _warn_prf(average, modifier, msg_start, len(result))\n",
            "/usr/local/lib/python3.10/dist-packages/sklearn/metrics/_classification.py:1344: UndefinedMetricWarning: Precision and F-score are ill-defined and being set to 0.0 in labels with no predicted samples. Use `zero_division` parameter to control this behavior.\n",
            "  _warn_prf(average, modifier, msg_start, len(result))\n"
          ]
        }
      ]
    },
    {
      "cell_type": "markdown",
      "source": [
        "## **7. Модель, где последовательно идут слои: LSTM, GRU, BILSTM, BIGRU, GRU, LSTM**"
      ],
      "metadata": {
        "id": "wapxJYuSlKFg"
      },
      "id": "wapxJYuSlKFg"
    },
    {
      "cell_type": "code",
      "source": [
        "inputs = tf.keras.layers.Input(shape=(MAX_LEN,))\n",
        "embeddings = tf.keras.layers.Embedding(input_dim=len(word2id), output_dim=30)(inputs, )\n",
        "\n",
        "lstm_1 = tf.keras.layers.LSTM(128, return_sequences=True)(embeddings)\n",
        "gru_1 = tf.keras.layers.GRU(128, return_sequences=True)(lstm_1)\n",
        "bilstm = tf.keras.layers.Bidirectional(tf.keras.layers.LSTM(128, return_sequences=True))(gru_1)\n",
        "bigru = tf.keras.layers.Bidirectional(tf.keras.layers.GRU(128, return_sequences=True))(bilstm)\n",
        "gru_2 = tf.keras.layers.GRU(128, return_sequences=True)(bigru)\n",
        "lstm_2 = tf.keras.layers.LSTM(128, return_sequences=False)(gru_2)\n",
        "\n",
        "dense = tf.keras.layers.Dense(64, activation='relu')(lstm_2)\n",
        "outputs = tf.keras.layers.Dense(len(label2id), activation='softmax')(dense)\n",
        "\n",
        "model7= tf.keras.Model(inputs=inputs, outputs=outputs)\n",
        "optimizer = tf.keras.optimizers.Adam(learning_rate=0.001)\n",
        "model7.compile(optimizer=optimizer,\n",
        "              loss='categorical_crossentropy',\n",
        "              metrics=[f1, tf.keras.metrics.RecallAtPrecision(0.8, name='rec@prec')])"
      ],
      "metadata": {
        "id": "PF7Sk978lXpR"
      },
      "id": "PF7Sk978lXpR",
      "execution_count": null,
      "outputs": []
    },
    {
      "cell_type": "code",
      "source": [
        "model7.fit(X_train, y_train,\n",
        "          validation_data=(X_valid, y_valid),\n",
        "          batch_size=200,\n",
        "          epochs=15)"
      ],
      "metadata": {
        "id": "DtRBQYsXl_k_",
        "outputId": "8c2b1358-946e-4473-8613-7b4a76afd489",
        "colab": {
          "base_uri": "https://localhost:8080/"
        }
      },
      "id": "DtRBQYsXl_k_",
      "execution_count": null,
      "outputs": [
        {
          "output_type": "stream",
          "name": "stdout",
          "text": [
            "Epoch 1/15\n",
            "211/211 [==============================] - 89s 320ms/step - loss: 2.3475 - f1: 0.0000e+00 - rec@prec: 0.0000e+00 - val_loss: 2.3250 - val_f1: 0.0000e+00 - val_rec@prec: 0.0000e+00\n",
            "Epoch 2/15\n",
            "211/211 [==============================] - 46s 217ms/step - loss: 2.3286 - f1: 0.0000e+00 - rec@prec: 0.0000e+00 - val_loss: 2.3212 - val_f1: 0.0000e+00 - val_rec@prec: 0.0000e+00\n",
            "Epoch 3/15\n",
            "211/211 [==============================] - 41s 194ms/step - loss: 2.3223 - f1: 0.0000e+00 - rec@prec: 0.0000e+00 - val_loss: 2.2176 - val_f1: 0.0000e+00 - val_rec@prec: 0.0491\n",
            "Epoch 4/15\n",
            "211/211 [==============================] - 39s 184ms/step - loss: 1.9687 - f1: 0.0285 - rec@prec: 1.1866e-04 - val_loss: 1.9121 - val_f1: 0.1104 - val_rec@prec: 0.0000e+00\n",
            "Epoch 5/15\n",
            "211/211 [==============================] - 34s 162ms/step - loss: 1.8139 - f1: 0.0826 - rec@prec: 0.0366 - val_loss: 1.7837 - val_f1: 0.0885 - val_rec@prec: 0.0464\n",
            "Epoch 6/15\n",
            "211/211 [==============================] - 35s 166ms/step - loss: 1.6328 - f1: 0.1597 - rec@prec: 0.0693 - val_loss: 1.7825 - val_f1: 0.1147 - val_rec@prec: 0.0897\n",
            "Epoch 7/15\n",
            "211/211 [==============================] - 34s 163ms/step - loss: 1.5430 - f1: 0.2037 - rec@prec: 0.1152 - val_loss: 1.6227 - val_f1: 0.2202 - val_rec@prec: 0.1208\n",
            "Epoch 8/15\n",
            "211/211 [==============================] - 33s 159ms/step - loss: 1.7958 - f1: 0.1268 - rec@prec: 0.0325 - val_loss: 2.3373 - val_f1: 0.0000e+00 - val_rec@prec: 0.0000e+00\n",
            "Epoch 9/15\n",
            "211/211 [==============================] - 33s 158ms/step - loss: 2.3043 - f1: 0.0000e+00 - rec@prec: 0.0000e+00 - val_loss: 2.3009 - val_f1: 0.0000e+00 - val_rec@prec: 0.0000e+00\n",
            "Epoch 10/15\n",
            "211/211 [==============================] - 33s 154ms/step - loss: 2.1638 - f1: 0.0019 - rec@prec: 4.9836e-04 - val_loss: 1.8196 - val_f1: 0.0482 - val_rec@prec: 0.0311\n",
            "Epoch 11/15\n",
            "211/211 [==============================] - 32s 154ms/step - loss: 1.5857 - f1: 0.1383 - rec@prec: 0.0720 - val_loss: 1.6712 - val_f1: 0.2409 - val_rec@prec: 0.1190\n",
            "Epoch 12/15\n",
            "211/211 [==============================] - 33s 156ms/step - loss: 1.4295 - f1: 0.3505 - rec@prec: 0.1331 - val_loss: 1.6194 - val_f1: 0.3963 - val_rec@prec: 0.1524\n",
            "Epoch 13/15\n",
            "211/211 [==============================] - 31s 149ms/step - loss: 1.3311 - f1: 0.4937 - rec@prec: 0.1933 - val_loss: 1.6230 - val_f1: 0.4540 - val_rec@prec: 0.1407\n",
            "Epoch 14/15\n",
            "211/211 [==============================] - 32s 153ms/step - loss: 1.3591 - f1: 0.4917 - rec@prec: 0.2657 - val_loss: 2.0006 - val_f1: 0.0842 - val_rec@prec: 0.0379\n",
            "Epoch 15/15\n",
            "211/211 [==============================] - 33s 156ms/step - loss: 1.3555 - f1: 0.4732 - rec@prec: 0.1949 - val_loss: 1.5358 - val_f1: 0.5180 - val_rec@prec: 0.2187\n"
          ]
        },
        {
          "output_type": "execute_result",
          "data": {
            "text/plain": [
              "<keras.src.callbacks.History at 0x7abe81cf9ba0>"
            ]
          },
          "metadata": {},
          "execution_count": 22
        }
      ]
    },
    {
      "cell_type": "code",
      "source": [
        "print(model7.history.history.keys())\n",
        "# summarize history for accuracy\n",
        "plt.plot(model7.history.history['rec@prec'])\n",
        "plt.plot(model7.history.history['val_rec@prec'])\n",
        "plt.title('model7 f1')\n",
        "plt.ylabel('f1')\n",
        "plt.xlabel('epoch')\n",
        "plt.legend(['train', 'val'], loc='upper left')\n",
        "plt.show()"
      ],
      "metadata": {
        "id": "8UxNI9zgmJ7v",
        "outputId": "6276587c-7d88-42b8-dfbd-a8d57d235976",
        "colab": {
          "base_uri": "https://localhost:8080/",
          "height": 489
        }
      },
      "id": "8UxNI9zgmJ7v",
      "execution_count": null,
      "outputs": [
        {
          "output_type": "stream",
          "name": "stdout",
          "text": [
            "dict_keys(['loss', 'f1', 'rec@prec', 'val_loss', 'val_f1', 'val_rec@prec'])\n"
          ]
        },
        {
          "output_type": "display_data",
          "data": {
            "text/plain": [
              "<Figure size 640x480 with 1 Axes>"
            ],
            "image/png": "[encoded data removed]"
          },
          "metadata": {}
        }
      ]
    },
    {
      "cell_type": "code",
      "source": [
        "rounded_predictions = model7.predict(X_valid, batch_size=128, verbose=0)\n",
        "pred = np.argmax(rounded_predictions, axis=1)\n",
        "\n",
        "rounded_labels=np.argmax(y_valid, axis=1)\n",
        "rounded_labels\n",
        "\n",
        "print(classification_report(rounded_labels, pred))"
      ],
      "metadata": {
        "id": "cY0klmQCmYn4",
        "outputId": "202dd086-20a6-4112-8301-0772ad29b75c",
        "colab": {
          "base_uri": "https://localhost:8080/"
        }
      },
      "id": "cY0klmQCmYn4",
      "execution_count": null,
      "outputs": [
        {
          "output_type": "stream",
          "name": "stdout",
          "text": [
            "              precision    recall  f1-score   support\n",
            "\n",
            "           0       0.12      0.13      0.13        84\n",
            "           1       0.58      0.76      0.66       239\n",
            "           2       0.00      0.00      0.00         2\n",
            "           3       0.00      0.00      0.00        60\n",
            "           4       0.61      0.65      0.63       481\n",
            "           5       0.50      0.64      0.56       410\n",
            "           6       0.26      0.16      0.20       160\n",
            "           7       0.00      0.00      0.00         4\n",
            "           8       0.33      0.52      0.40       159\n",
            "          10       0.96      0.92      0.94       195\n",
            "          11       0.00      0.00      0.00         1\n",
            "          13       0.00      0.00      0.00        66\n",
            "          14       0.71      0.63      0.67       159\n",
            "          15       0.13      0.09      0.11       132\n",
            "          16       0.00      0.00      0.00        23\n",
            "          17       0.00      0.00      0.00        22\n",
            "          18       0.00      0.00      0.00        21\n",
            "\n",
            "    accuracy                           0.53      2218\n",
            "   macro avg       0.25      0.27      0.25      2218\n",
            "weighted avg       0.48      0.53      0.50      2218\n",
            "\n"
          ]
        },
        {
          "output_type": "stream",
          "name": "stderr",
          "text": [
            "/usr/local/lib/python3.10/dist-packages/sklearn/metrics/_classification.py:1344: UndefinedMetricWarning: Precision and F-score are ill-defined and being set to 0.0 in labels with no predicted samples. Use `zero_division` parameter to control this behavior.\n",
            "  _warn_prf(average, modifier, msg_start, len(result))\n",
            "/usr/local/lib/python3.10/dist-packages/sklearn/metrics/_classification.py:1344: UndefinedMetricWarning: Precision and F-score are ill-defined and being set to 0.0 in labels with no predicted samples. Use `zero_division` parameter to control this behavior.\n",
            "  _warn_prf(average, modifier, msg_start, len(result))\n",
            "/usr/local/lib/python3.10/dist-packages/sklearn/metrics/_classification.py:1344: UndefinedMetricWarning: Precision and F-score are ill-defined and being set to 0.0 in labels with no predicted samples. Use `zero_division` parameter to control this behavior.\n",
            "  _warn_prf(average, modifier, msg_start, len(result))\n"
          ]
        }
      ]
    },
    {
      "cell_type": "markdown",
      "source": [
        "Победитель - модель № 1 (модель с 1 GRU слоем)"
      ],
      "metadata": {
        "id": "touXpmaMjwgN"
      },
      "id": "touXpmaMjwgN"
    },
    {
      "cell_type": "markdown",
      "id": "ed5d6eea",
      "metadata": {
        "id": "ed5d6eea"
      },
      "source": [
        "## Задание 2 (6 баллов)\n"
      ]
    },
    {
      "cell_type": "markdown",
      "id": "5c2c07cf",
      "metadata": {
        "id": "5c2c07cf"
      },
      "source": [
        "На данных википедии (wikiann) обучите 2 модели:  \n",
        "1) модель в которой будут использованы предобученные эмбединги слов и несколько BILSTM слоев.\n",
        "1) модель в которой будут использованы предобученные эмбединги слов и несколько BIGRU слоев.\n",
        "\n",
        "Сравните качество по метрикам. Также придумайте несколько сложных примеров и проверьте, какие сущности определяет каждая из моделей."
      ]
    },
    {
      "cell_type": "code",
      "execution_count": 5,
      "id": "fb704b1b",
      "metadata": {
        "id": "fb704b1b",
        "outputId": "2b0f759b-0d91-4e9b-d8b1-2f783e8743d4",
        "colab": {
          "base_uri": "https://localhost:8080/"
        }
      },
      "outputs": [
        {
          "output_type": "stream",
          "name": "stdout",
          "text": [
            "Collecting datasets\n",
            "  Downloading datasets-2.18.0-py3-none-any.whl (510 kB)\n",
            "\u001b[2K     \u001b[90m━━━━━━━━━━━━━━━━━━━━━━━━━━━━━━━━━━━━━━━━\u001b[0m \u001b[32m510.5/510.5 kB\u001b[0m \u001b[31m4.1 MB/s\u001b[0m eta \u001b[36m0:00:00\u001b[0m\n",
            "\u001b[?25hRequirement already satisfied: filelock in /usr/local/lib/python3.10/dist-packages (from datasets) (3.13.1)\n",
            "Requirement already satisfied: numpy>=1.17 in /usr/local/lib/python3.10/dist-packages (from datasets) (1.25.2)\n",
            "Requirement already satisfied: pyarrow>=12.0.0 in /usr/local/lib/python3.10/dist-packages (from datasets) (14.0.2)\n",
            "Requirement already satisfied: pyarrow-hotfix in /usr/local/lib/python3.10/dist-packages (from datasets) (0.6)\n",
            "Collecting dill<0.3.9,>=0.3.0 (from datasets)\n",
            "  Downloading dill-0.3.8-py3-none-any.whl (116 kB)\n",
            "\u001b[2K     \u001b[90m━━━━━━━━━━━━━━━━━━━━━━━━━━━━━━━━━━━━━━━━\u001b[0m \u001b[32m116.3/116.3 kB\u001b[0m \u001b[31m17.6 MB/s\u001b[0m eta \u001b[36m0:00:00\u001b[0m\n",
            "\u001b[?25hRequirement already satisfied: pandas in /usr/local/lib/python3.10/dist-packages (from datasets) (1.5.3)\n",
            "Requirement already satisfied: requests>=2.19.0 in /usr/local/lib/python3.10/dist-packages (from datasets) (2.31.0)\n",
            "Requirement already satisfied: tqdm>=4.62.1 in /usr/local/lib/python3.10/dist-packages (from datasets) (4.66.2)\n",
            "Requirement already satisfied: xxhash in /usr/local/lib/python3.10/dist-packages (from datasets) (3.4.1)\n",
            "Collecting multiprocess (from datasets)\n",
            "  Downloading multiprocess-0.70.16-py310-none-any.whl (134 kB)\n",
            "\u001b[2K     \u001b[90m━━━━━━━━━━━━━━━━━━━━━━━━━━━━━━━━━━━━━━━━\u001b[0m \u001b[32m134.8/134.8 kB\u001b[0m \u001b[31m17.4 MB/s\u001b[0m eta \u001b[36m0:00:00\u001b[0m\n",
            "\u001b[?25hRequirement already satisfied: fsspec[http]<=2024.2.0,>=2023.1.0 in /usr/local/lib/python3.10/dist-packages (from datasets) (2023.6.0)\n",
            "Requirement already satisfied: aiohttp in /usr/local/lib/python3.10/dist-packages (from datasets) (3.9.3)\n",
            "Requirement already satisfied: huggingface-hub>=0.19.4 in /usr/local/lib/python3.10/dist-packages (from datasets) (0.20.3)\n",
            "Requirement already satisfied: packaging in /usr/local/lib/python3.10/dist-packages (from datasets) (23.2)\n",
            "Requirement already satisfied: pyyaml>=5.1 in /usr/local/lib/python3.10/dist-packages (from datasets) (6.0.1)\n",
            "Requirement already satisfied: aiosignal>=1.1.2 in /usr/local/lib/python3.10/dist-packages (from aiohttp->datasets) (1.3.1)\n",
            "Requirement already satisfied: attrs>=17.3.0 in /usr/local/lib/python3.10/dist-packages (from aiohttp->datasets) (23.2.0)\n",
            "Requirement already satisfied: frozenlist>=1.1.1 in /usr/local/lib/python3.10/dist-packages (from aiohttp->datasets) (1.4.1)\n",
            "Requirement already satisfied: multidict<7.0,>=4.5 in /usr/local/lib/python3.10/dist-packages (from aiohttp->datasets) (6.0.5)\n",
            "Requirement already satisfied: yarl<2.0,>=1.0 in /usr/local/lib/python3.10/dist-packages (from aiohttp->datasets) (1.9.4)\n",
            "Requirement already satisfied: async-timeout<5.0,>=4.0 in /usr/local/lib/python3.10/dist-packages (from aiohttp->datasets) (4.0.3)\n",
            "Requirement already satisfied: typing-extensions>=3.7.4.3 in /usr/local/lib/python3.10/dist-packages (from huggingface-hub>=0.19.4->datasets) (4.10.0)\n",
            "Requirement already satisfied: charset-normalizer<4,>=2 in /usr/local/lib/python3.10/dist-packages (from requests>=2.19.0->datasets) (3.3.2)\n",
            "Requirement already satisfied: idna<4,>=2.5 in /usr/local/lib/python3.10/dist-packages (from requests>=2.19.0->datasets) (3.6)\n",
            "Requirement already satisfied: urllib3<3,>=1.21.1 in /usr/local/lib/python3.10/dist-packages (from requests>=2.19.0->datasets) (2.0.7)\n",
            "Requirement already satisfied: certifi>=2017.4.17 in /usr/local/lib/python3.10/dist-packages (from requests>=2.19.0->datasets) (2024.2.2)\n",
            "Requirement already satisfied: python-dateutil>=2.8.1 in /usr/local/lib/python3.10/dist-packages (from pandas->datasets) (2.8.2)\n",
            "Requirement already satisfied: pytz>=2020.1 in /usr/local/lib/python3.10/dist-packages (from pandas->datasets) (2023.4)\n",
            "Requirement already satisfied: six>=1.5 in /usr/local/lib/python3.10/dist-packages (from python-dateutil>=2.8.1->pandas->datasets) (1.16.0)\n",
            "Installing collected packages: dill, multiprocess, datasets\n",
            "Successfully installed datasets-2.18.0 dill-0.3.8 multiprocess-0.70.16\n"
          ]
        }
      ],
      "source": [
        "!pip install datasets"
      ]
    },
    {
      "cell_type": "code",
      "execution_count": 6,
      "id": "24b4e4aa",
      "metadata": {
        "id": "24b4e4aa"
      },
      "outputs": [],
      "source": [
        "from datasets import load_dataset"
      ]
    },
    {
      "cell_type": "code",
      "execution_count": 7,
      "id": "8035db14",
      "metadata": {
        "id": "8035db14",
        "outputId": "4842fc40-f5f7-4f09-acfd-ef870d4d0852",
        "colab": {
          "base_uri": "https://localhost:8080/",
          "height": 345,
          "referenced_widgets": [
            "36adb2926bc54769b849219c497f4489",
            "b987a2d0716b4851a9ef2c31e23159d5",
            "a5be9d21cb2f4580b06d4a766f241151",
            "f5c8dffb368d4e2f9c63d07c42eb7594",
            "f3ebe1896b514b1c90d49a6ac220da79",
            "8662c999586746f3a41b8b30d68f4ecd",
            "3caa868f6e39429bac5652324eefb383",
            "af9463b26dc34126a74d3306d8b56c27",
            "436b2869e9a24fa08dcfbca859fafb37",
            "b7338d4d2e1646ca83ae91acda3ce80e",
            "c4df263c99c54e9a8c0f0c675de9adec",
            "d889836752a4406c811cdd28bf39faaa",
            "4d4d593ab40e44119e8832c6b1ab17ee",
            "f6f0797944134fc786344a45e5fd276d",
            "01031d641e314ff0b0b10ed300f66577",
            "d83b40da98b64e32bdd0c728f987c644",
            "851e4f6140bb4a7f816b6895259fb17c",
            "962f093fbc6f41c0a6ae6213d821c0d0",
            "8ac6e645df1642beaab08841134947cd",
            "112c665649834003a320de830ca6f24a",
            "dae539c9f71c4b8b89b5467af345d568",
            "17c1dd8a936541a7ab001bc25637fed7",
            "7159402a9e7c4454872e5ea9ca869359",
            "ec25518e18b44ce6a47a160902f337ad",
            "13ac546302894ef5bc949c5c8e2e4ffa",
            "db17706432ce44a38a443298652c2fff",
            "610fd46ae04e4015ac03a78f5451e044",
            "18cf10b463654897a0fc80c63dbbaa0a",
            "c8607a8a9c7242b999ec94c8e4da6379",
            "bac0af67fba44bc9b7139506ff9c1555",
            "018058ac798f47b19c676767fdac136c",
            "885046f1b364424fbab2c5276f1aa473",
            "e48b0211f62341e6bfc9d118783e678b",
            "c24189be7a8a4bf1ac6811eeeb832716",
            "ed83b6253f7b45fd9d263621d5c14507",
            "f050644cc5104e118267266b09157e13",
            "f3df4831f0c941d99de0bba318e3ae5a",
            "494b0b0c45c449a585c3c09b8f0172fd",
            "80781d7f7c46440197e8f6014e01993e",
            "534a22a5ff7a4c3d9e73dded85c0ac4c",
            "df2effb3f4664bf68affa1a6cef74729",
            "e7fcdc3d6340403facf849ac772c4363",
            "528ad8188d0f4e299426b3bf2d6f737d",
            "460fff3f5d734e3ca988330d6a564ab3",
            "24012116d4a344ec840f0f74bbc418d9",
            "fe3134e2a6944e4980c40052e71ad6d4",
            "895053702be54c4cac2205a887b3a8a7",
            "0a087bdeacda4b88883f825be3b47f5c",
            "0963b8cb2426490d8eaf8de18f2a2be1",
            "4621768e0c5f4d349e03cb33245b0666",
            "e7962961987f4cd0a800ebafee83d836",
            "11ed6f0a8bca41b289f20415e665654d",
            "3b41391fa20148af8639f6cde6fe64d1",
            "f11ad42478614ae3a43b69548762dcbe",
            "8c0f801d013540c8be6e97f16efc6a31",
            "30ec23ce6eed4dc0ac276b48558ac5f2",
            "3fe4eb6907e4437aad369752c11f07a1",
            "77c0fb1bdf834908aa4f6beb664e378f",
            "20fa8ef62ad048e68cb4dc5a9146ca2e",
            "53a83f0d25d54e21b4b3379118f3261b",
            "584ce6be8e694d19853dc9853e7a1174",
            "806da813d7914f8c9bd87362e277ad7b",
            "9d9c121232114914bd0cb1fcdbd363da",
            "b9f9149f15584f20986d055de1f9c96f",
            "6a30c5d28dc44200bd8b497e4f5d4446",
            "d028cb25bffa45418d6f8a5bb642ea33",
            "ef40ded27eb648b4ac854512a50047e1",
            "fcf4b0fccf6040398fdcafb69707e476",
            "ee0278c578dc4b569d2947f8b596431a",
            "7b97f57aa0054fb78704b24732d00f4f",
            "09a5f8a806d04eb495bdd5449f898fa8",
            "ead0b4160599440f960554b9dc1fc898",
            "12b217d78e4946f6b5c418410712daa6",
            "e4318cb6f2434126b06ed551f62c9326",
            "3d132fdf5a17446f8abf830cd7d28c2e",
            "02563dab7d774a86b9961cb242c3f025",
            "e3873dd164184efca823c23581e83f8e"
          ]
        }
      },
      "outputs": [
        {
          "output_type": "stream",
          "name": "stderr",
          "text": [
            "/usr/local/lib/python3.10/dist-packages/huggingface_hub/utils/_token.py:88: UserWarning: \n",
            "The secret `HF_TOKEN` does not exist in your Colab secrets.\n",
            "To authenticate with the Hugging Face Hub, create a token in your settings tab (https://huggingface.co/settings/tokens), set it as secret in your Google Colab and restart your session.\n",
            "You will be able to reuse this secret in all of your notebooks.\n",
            "Please note that authentication is recommended but still optional to access public models or datasets.\n",
            "  warnings.warn(\n"
          ]
        },
        {
          "output_type": "display_data",
          "data": {
            "text/plain": [
              "Downloading readme:   0%|          | 0.00/158k [00:00<?, ?B/s]"
            ],
            "application/vnd.jupyter.widget-view+json": {
              "version_major": 2,
              "version_minor": 0,
              "model_id": "36adb2926bc54769b849219c497f4489"
            }
          },
          "metadata": {}
        },
        {
          "output_type": "display_data",
          "data": {
            "text/plain": [
              "Downloading data:   0%|          | 0.00/809k [00:00<?, ?B/s]"
            ],
            "application/vnd.jupyter.widget-view+json": {
              "version_major": 2,
              "version_minor": 0,
              "model_id": "d889836752a4406c811cdd28bf39faaa"
            }
          },
          "metadata": {}
        },
        {
          "output_type": "display_data",
          "data": {
            "text/plain": [
              "Downloading data:   0%|          | 0.00/816k [00:00<?, ?B/s]"
            ],
            "application/vnd.jupyter.widget-view+json": {
              "version_major": 2,
              "version_minor": 0,
              "model_id": "7159402a9e7c4454872e5ea9ca869359"
            }
          },
          "metadata": {}
        },
        {
          "output_type": "display_data",
          "data": {
            "text/plain": [
              "Downloading data:   0%|          | 0.00/1.63M [00:00<?, ?B/s]"
            ],
            "application/vnd.jupyter.widget-view+json": {
              "version_major": 2,
              "version_minor": 0,
              "model_id": "c24189be7a8a4bf1ac6811eeeb832716"
            }
          },
          "metadata": {}
        },
        {
          "output_type": "display_data",
          "data": {
            "text/plain": [
              "Generating validation split:   0%|          | 0/10000 [00:00<?, ? examples/s]"
            ],
            "application/vnd.jupyter.widget-view+json": {
              "version_major": 2,
              "version_minor": 0,
              "model_id": "24012116d4a344ec840f0f74bbc418d9"
            }
          },
          "metadata": {}
        },
        {
          "output_type": "display_data",
          "data": {
            "text/plain": [
              "Generating test split:   0%|          | 0/10000 [00:00<?, ? examples/s]"
            ],
            "application/vnd.jupyter.widget-view+json": {
              "version_major": 2,
              "version_minor": 0,
              "model_id": "30ec23ce6eed4dc0ac276b48558ac5f2"
            }
          },
          "metadata": {}
        },
        {
          "output_type": "display_data",
          "data": {
            "text/plain": [
              "Generating train split:   0%|          | 0/20000 [00:00<?, ? examples/s]"
            ],
            "application/vnd.jupyter.widget-view+json": {
              "version_major": 2,
              "version_minor": 0,
              "model_id": "ef40ded27eb648b4ac854512a50047e1"
            }
          },
          "metadata": {}
        }
      ],
      "source": [
        "dataset = load_dataset(\"wikiann\", 'ru')"
      ]
    },
    {
      "cell_type": "code",
      "source": [
        "# словарь\n",
        "vocab = Counter()\n",
        "\n",
        "for sent in dataset['train']['tokens']:\n",
        "    vocab.update([x.lower() for x in sent])"
      ],
      "metadata": {
        "id": "GyVfPEVLt5qs"
      },
      "id": "GyVfPEVLt5qs",
      "execution_count": 83,
      "outputs": []
    },
    {
      "cell_type": "code",
      "source": [
        "len(vocab)"
      ],
      "metadata": {
        "id": "O-thhEWGt6Ua",
        "outputId": "88264a03-abab-4c70-c21e-b23164d773db",
        "colab": {
          "base_uri": "https://localhost:8080/"
        }
      },
      "id": "O-thhEWGt6Ua",
      "execution_count": 84,
      "outputs": [
        {
          "output_type": "execute_result",
          "data": {
            "text/plain": [
              "36015"
            ]
          },
          "metadata": {},
          "execution_count": 84
        }
      ]
    },
    {
      "cell_type": "code",
      "source": [
        "# индексируем слова\n",
        "word2id = {'PAD':0, 'UNK':1}\n",
        "\n",
        "for word in vocab:\n",
        "    word2id[word] = len(word2id)"
      ],
      "metadata": {
        "id": "cLM3PPzdt-c7"
      },
      "id": "cLM3PPzdt-c7",
      "execution_count": 85,
      "outputs": []
    },
    {
      "cell_type": "code",
      "source": [
        "id2word = {i:word for word, i in word2id.items()}"
      ],
      "metadata": {
        "id": "55X94E0OuBb7"
      },
      "id": "55X94E0OuBb7",
      "execution_count": 86,
      "outputs": []
    },
    {
      "cell_type": "code",
      "source": [
        "# переводим тексты в последовательности индексов\n",
        "X = []\n",
        "\n",
        "for sent in dataset['train']['tokens']:\n",
        "    tokens = [w.lower() for w in sent]\n",
        "    ids = [word2id.get(token, 1) for token in tokens]\n",
        "    X.append(ids)"
      ],
      "metadata": {
        "id": "Y2fb7aVouCNc"
      },
      "id": "Y2fb7aVouCNc",
      "execution_count": 87,
      "outputs": []
    },
    {
      "cell_type": "code",
      "source": [
        "# переводим тексты в последовательности индексов\n",
        "X_test = []\n",
        "\n",
        "for sent in dataset['test']['tokens']:\n",
        "    tokens = [w.lower() for w in sent]\n",
        "    ids = [word2id.get(token, 1) for token in tokens]\n",
        "    X_test.append(ids)"
      ],
      "metadata": {
        "id": "0LIJhlWguMqT"
      },
      "id": "0LIJhlWguMqT",
      "execution_count": 88,
      "outputs": []
    },
    {
      "cell_type": "code",
      "source": [
        "MAX_LEN = max(len(x) for x in X)\n",
        "\n",
        "# паддинг\n",
        "X = tf.keras.preprocessing.sequence.pad_sequences(X, maxlen=MAX_LEN, padding='post')\n",
        "X_test = tf.keras.preprocessing.sequence.pad_sequences(X_test, maxlen=MAX_LEN, padding='post')"
      ],
      "metadata": {
        "id": "1YESEgXUuEUP"
      },
      "id": "1YESEgXUuEUP",
      "execution_count": 89,
      "outputs": []
    },
    {
      "cell_type": "code",
      "source": [
        "id2labels = {0:'O', 1:'B-PER', 2:'I-PER', 3:'B-ORG', 4:'I-ORG', 5: 'B-LOC', 6:'I-LOC', 7:'PAD'}\n",
        "label2id = {v:k for k,v in id2labels.items()}"
      ],
      "metadata": {
        "id": "0QX9F4f5uPe7"
      },
      "id": "0QX9F4f5uPe7",
      "execution_count": 90,
      "outputs": []
    },
    {
      "cell_type": "code",
      "source": [
        "y = tf.keras.preprocessing.sequence.pad_sequences(dataset['train']['ner_tags'], value=7,\n",
        "                                                  maxlen=MAX_LEN,  padding='post')\n",
        "y_test = tf.keras.preprocessing.sequence.pad_sequences(dataset['test']['ner_tags'], value=7,\n",
        "                                                       maxlen=MAX_LEN,  padding='post')"
      ],
      "metadata": {
        "id": "cKwipZVJuUVM"
      },
      "id": "cKwipZVJuUVM",
      "execution_count": 91,
      "outputs": []
    },
    {
      "cell_type": "code",
      "source": [
        "X.shape, X_test.shape"
      ],
      "metadata": {
        "id": "NBAlReJuuU5s",
        "outputId": "d9b75f51-7084-44ad-a108-b55f4d0e5850",
        "colab": {
          "base_uri": "https://localhost:8080/"
        }
      },
      "id": "NBAlReJuuU5s",
      "execution_count": 74,
      "outputs": [
        {
          "output_type": "execute_result",
          "data": {
            "text/plain": [
              "((20000, 54), (10000, 54))"
            ]
          },
          "metadata": {},
          "execution_count": 74
        }
      ]
    },
    {
      "cell_type": "code",
      "source": [
        "y.shape, y_test.shape"
      ],
      "metadata": {
        "id": "xFmQrPQvuYCs",
        "outputId": "5757f605-77a5-4150-8489-9b588a119c47",
        "colab": {
          "base_uri": "https://localhost:8080/"
        }
      },
      "id": "xFmQrPQvuYCs",
      "execution_count": 75,
      "outputs": [
        {
          "output_type": "execute_result",
          "data": {
            "text/plain": [
              "((20000, 54), (10000, 54))"
            ]
          },
          "metadata": {},
          "execution_count": 75
        }
      ]
    },
    {
      "cell_type": "code",
      "source": [
        "import gensim.downloader"
      ],
      "metadata": {
        "id": "8iYTSPm_U6Px"
      },
      "id": "8iYTSPm_U6Px",
      "execution_count": 20,
      "outputs": []
    },
    {
      "cell_type": "code",
      "source": [
        "glove_vectors = gensim.downloader.load('word2vec-ruscorpora-300')"
      ],
      "metadata": {
        "id": "L8n9kv4xUyLQ"
      },
      "id": "L8n9kv4xUyLQ",
      "execution_count": 92,
      "outputs": []
    },
    {
      "cell_type": "code",
      "source": [
        "inputs = tf.keras.layers.Input(shape=MAX_LEN)\n",
        "embeddings = tf.keras.layers.Embedding(input_dim=glove_vectors.vectors.shape[0], output_dim=300, weights=[glove_vectors.vectors], input_length=MAX_LEN, trainable=False) (inputs)\n",
        "\n",
        "BISTLM1 = tf.keras.layers.Bidirectional(tf.keras.layers.LSTM(128, return_sequences=True))(embeddings)\n",
        "BISTLM2 = tf.keras.layers.Bidirectional(tf.keras.layers.LSTM(128, return_sequences=True))(BISTLM1)\n",
        "\n",
        "outputs = tf.keras.layers.Dense(len(label2id), activation='softmax') (BISTLM2)\n",
        "\n",
        "model = tf.keras.Model(inputs=inputs, outputs=outputs)\n",
        "optimizer = tf.keras.optimizers.Adam(learning_rate=0.001)\n",
        "\n",
        "model.compile(optimizer='adam',\n",
        "              loss='sparse_categorical_crossentropy',\n",
        "             metrics=['accuracy'])\n"
      ],
      "metadata": {
        "id": "S_GLXpu9uaZc"
      },
      "id": "S_GLXpu9uaZc",
      "execution_count": 93,
      "outputs": []
    },
    {
      "cell_type": "code",
      "source": [
        "model.fit(X, y,\n",
        "          validation_data=(X_test, y_test),\n",
        "          batch_size=128, epochs=15)"
      ],
      "metadata": {
        "colab": {
          "base_uri": "https://localhost:8080/"
        },
        "id": "tHjkCz_WWnpR",
        "outputId": "bf10600b-6016-4466-86a7-2d6ffa2f09db"
      },
      "id": "tHjkCz_WWnpR",
      "execution_count": 117,
      "outputs": [
        {
          "output_type": "stream",
          "name": "stdout",
          "text": [
            "Epoch 1/15\n",
            "157/157 [==============================] - 4s 26ms/step - loss: 0.0470 - accuracy: 0.9841 - val_loss: 0.0964 - val_accuracy: 0.9721\n",
            "Epoch 2/15\n",
            "157/157 [==============================] - 5s 31ms/step - loss: 0.0448 - accuracy: 0.9849 - val_loss: 0.0886 - val_accuracy: 0.9745\n",
            "Epoch 3/15\n",
            "157/157 [==============================] - 5s 29ms/step - loss: 0.0425 - accuracy: 0.9856 - val_loss: 0.0947 - val_accuracy: 0.9729\n",
            "Epoch 4/15\n",
            "157/157 [==============================] - 4s 25ms/step - loss: 0.0413 - accuracy: 0.9860 - val_loss: 0.1037 - val_accuracy: 0.9709\n",
            "Epoch 5/15\n",
            "157/157 [==============================] - 5s 29ms/step - loss: 0.0388 - accuracy: 0.9869 - val_loss: 0.0962 - val_accuracy: 0.9724\n",
            "Epoch 6/15\n",
            "157/157 [==============================] - 4s 25ms/step - loss: 0.0375 - accuracy: 0.9873 - val_loss: 0.0968 - val_accuracy: 0.9729\n",
            "Epoch 7/15\n",
            "157/157 [==============================] - 4s 25ms/step - loss: 0.0350 - accuracy: 0.9881 - val_loss: 0.0943 - val_accuracy: 0.9741\n",
            "Epoch 8/15\n",
            "157/157 [==============================] - 4s 26ms/step - loss: 0.0328 - accuracy: 0.9890 - val_loss: 0.1033 - val_accuracy: 0.9733\n",
            "Epoch 9/15\n",
            "157/157 [==============================] - 5s 30ms/step - loss: 0.0308 - accuracy: 0.9896 - val_loss: 0.1115 - val_accuracy: 0.9729\n",
            "Epoch 10/15\n",
            "157/157 [==============================] - 4s 25ms/step - loss: 0.0297 - accuracy: 0.9899 - val_loss: 0.1101 - val_accuracy: 0.9725\n",
            "Epoch 11/15\n",
            "157/157 [==============================] - 4s 25ms/step - loss: 0.0273 - accuracy: 0.9908 - val_loss: 0.1133 - val_accuracy: 0.9725\n",
            "Epoch 12/15\n",
            "157/157 [==============================] - 4s 26ms/step - loss: 0.0248 - accuracy: 0.9917 - val_loss: 0.1244 - val_accuracy: 0.9702\n",
            "Epoch 13/15\n",
            "157/157 [==============================] - 4s 25ms/step - loss: 0.0234 - accuracy: 0.9922 - val_loss: 0.1209 - val_accuracy: 0.9722\n",
            "Epoch 14/15\n",
            "157/157 [==============================] - 5s 29ms/step - loss: 0.0230 - accuracy: 0.9922 - val_loss: 0.1288 - val_accuracy: 0.9709\n",
            "Epoch 15/15\n",
            "157/157 [==============================] - 4s 27ms/step - loss: 0.0202 - accuracy: 0.9932 - val_loss: 0.1245 - val_accuracy: 0.9728\n"
          ]
        },
        {
          "output_type": "execute_result",
          "data": {
            "text/plain": [
              "<keras.src.callbacks.History at 0x79676592ee90>"
            ]
          },
          "metadata": {},
          "execution_count": 117
        }
      ]
    },
    {
      "cell_type": "code",
      "source": [
        "print(model.history.history.keys())\n",
        "plt.plot(model.history.history['accuracy'])\n",
        "plt.plot(model.history.history['val_accuracy'])\n",
        "plt.title('model acc')\n",
        "plt.ylabel('accuracy')\n",
        "plt.xlabel('epoch')\n",
        "plt.legend(['train', 'val'], loc='upper left')\n",
        "plt.show()"
      ],
      "metadata": {
        "colab": {
          "base_uri": "https://localhost:8080/",
          "height": 489
        },
        "id": "AfyJJQb9XHBI",
        "outputId": "baa6cf38-a7d7-4dbc-eda1-036bc41aa706"
      },
      "id": "AfyJJQb9XHBI",
      "execution_count": 118,
      "outputs": [
        {
          "output_type": "stream",
          "name": "stdout",
          "text": [
            "dict_keys(['loss', 'accuracy', 'val_loss', 'val_accuracy'])\n"
          ]
        },
        {
          "output_type": "display_data",
          "data": {
            "text/plain": [
              "<Figure size 640x480 with 1 Axes>"
            ],
            "image/png": "[encoded data removed]"
          },
          "metadata": {}
        }
      ]
    },
    {
      "cell_type": "code",
      "source": [
        "import re\n",
        "\n",
        "def tokenize(text, word2id):\n",
        "    # токенизирует и переводит в индексы\n",
        "    tokens = re.findall('\\w+|[^\\w\\s]+', text)\n",
        "    ids = [word2id.get(token.lower(), 1) for token in tokens]\n",
        "    return tokens, ids\n",
        "\n",
        "def pred2tags(pred, id2label, length):\n",
        "    # декодирует индексы в части речи\n",
        "    # length нужно чтобы откидывать паддинги или некорректные предсказания\n",
        "    pred = pred.argmax(2)[0, :length]\n",
        "    labels = [id2label[l] for l in pred]\n",
        "    return labels\n",
        "\n",
        "def label_seq(text, word2id, id2label, max_len, model):\n",
        "    tokens, ids = tokenize(text, word2id)\n",
        "    pred = model.predict(tf.keras.preprocessing.sequence.pad_sequences([ids],\n",
        "                                                                       maxlen=max_len,\n",
        "                                                                       padding='post'))\n",
        "    labels = pred2tags(pred, id2label, len(ids))\n",
        "\n",
        "    return list(zip(tokens, labels))"
      ],
      "metadata": {
        "id": "ATgZxSr1XUMQ"
      },
      "id": "ATgZxSr1XUMQ",
      "execution_count": 96,
      "outputs": []
    },
    {
      "cell_type": "code",
      "source": [
        "label_seq('Алексей сказал Светлане, чтобы она собиралась на поезд в Москву.', word2id, id2labels, MAX_LEN, model)"
      ],
      "metadata": {
        "colab": {
          "base_uri": "https://localhost:8080/"
        },
        "id": "u6Hbl3GaXVZR",
        "outputId": "b78b6cde-7609-4467-a9fc-43cf00f0ef32"
      },
      "id": "u6Hbl3GaXVZR",
      "execution_count": 119,
      "outputs": [
        {
          "output_type": "stream",
          "name": "stdout",
          "text": [
            "1/1 [==============================] - 0s 23ms/step\n"
          ]
        },
        {
          "output_type": "execute_result",
          "data": {
            "text/plain": [
              "[('Алексей', 'B-LOC'),\n",
              " ('сказал', 'O'),\n",
              " ('Светлане', 'O'),\n",
              " (',', 'O'),\n",
              " ('чтобы', 'O'),\n",
              " ('она', 'O'),\n",
              " ('собиралась', 'O'),\n",
              " ('на', 'O'),\n",
              " ('поезд', 'O'),\n",
              " ('в', 'O'),\n",
              " ('Москву', 'B-LOC'),\n",
              " ('.', 'O')]"
            ]
          },
          "metadata": {},
          "execution_count": 119
        }
      ]
    },
    {
      "cell_type": "code",
      "source": [
        "label_seq('Леонид работал в компании Шебекино, где производят макароны.', word2id, id2labels, MAX_LEN, model)"
      ],
      "metadata": {
        "colab": {
          "base_uri": "https://localhost:8080/"
        },
        "id": "3-novaldeQu0",
        "outputId": "72aa7f21-5006-4da8-d2fe-e3687ffd526e"
      },
      "id": "3-novaldeQu0",
      "execution_count": 120,
      "outputs": [
        {
          "output_type": "stream",
          "name": "stdout",
          "text": [
            "1/1 [==============================] - 0s 22ms/step\n"
          ]
        },
        {
          "output_type": "execute_result",
          "data": {
            "text/plain": [
              "[('Леонид', 'O'),\n",
              " ('работал', 'O'),\n",
              " ('в', 'O'),\n",
              " ('компании', 'B-LOC'),\n",
              " ('Шебекино', 'I-LOC'),\n",
              " (',', 'O'),\n",
              " ('где', 'B-LOC'),\n",
              " ('производят', 'I-LOC'),\n",
              " ('макароны', 'I-LOC'),\n",
              " ('.', 'O')]"
            ]
          },
          "metadata": {},
          "execution_count": 120
        }
      ]
    },
    {
      "cell_type": "code",
      "source": [
        "inputs = tf.keras.layers.Input(shape=MAX_LEN)\n",
        "embeddings = tf.keras.layers.Embedding(input_dim=glove_vectors.vectors.shape[0], output_dim=300, weights=[glove_vectors.vectors], input_length=MAX_LEN, trainable=False) (inputs)\n",
        "\n",
        "BIGRU1 = tf.keras.layers.Bidirectional(tf.keras.layers.GRU(128, return_sequences=True))(embeddings)\n",
        "BIGRU2 = tf.keras.layers.Bidirectional(tf.keras.layers.GRU(128, return_sequences=True))(BIGRU1)\n",
        "\n",
        "outputs = tf.keras.layers.Dense(len(label2id), activation='softmax') (BIGRU2)\n",
        "\n",
        "model_2 = tf.keras.Model(inputs=inputs, outputs=outputs)\n",
        "optimizer = tf.keras.optimizers.Adam(learning_rate=0.001)\n",
        "\n",
        "model_2.compile(optimizer='adam',\n",
        "              loss='sparse_categorical_crossentropy',\n",
        "             metrics=['accuracy'])"
      ],
      "metadata": {
        "id": "BN8DrTqmhq5m"
      },
      "id": "BN8DrTqmhq5m",
      "execution_count": 110,
      "outputs": []
    },
    {
      "cell_type": "code",
      "source": [
        "model_2.fit(X, y,\n",
        "          validation_data=(X_test, y_test),\n",
        "          batch_size=128, epochs=15)"
      ],
      "metadata": {
        "colab": {
          "base_uri": "https://localhost:8080/"
        },
        "id": "AdaALB2Eh37R",
        "outputId": "c2e97ad1-f5c4-4fba-9fb2-5e89489f45a2"
      },
      "id": "AdaALB2Eh37R",
      "execution_count": 111,
      "outputs": [
        {
          "output_type": "stream",
          "name": "stdout",
          "text": [
            "Epoch 1/15\n",
            "157/157 [==============================] - 14s 38ms/step - loss: 0.2124 - accuracy: 0.9369 - val_loss: 0.1297 - val_accuracy: 0.9574\n",
            "Epoch 2/15\n",
            "157/157 [==============================] - 4s 23ms/step - loss: 0.1060 - accuracy: 0.9648 - val_loss: 0.0963 - val_accuracy: 0.9681\n",
            "Epoch 3/15\n",
            "157/157 [==============================] - 4s 22ms/step - loss: 0.0877 - accuracy: 0.9707 - val_loss: 0.0874 - val_accuracy: 0.9717\n",
            "Epoch 4/15\n",
            "157/157 [==============================] - 4s 22ms/step - loss: 0.0796 - accuracy: 0.9736 - val_loss: 0.0856 - val_accuracy: 0.9729\n",
            "Epoch 5/15\n",
            "157/157 [==============================] - 4s 24ms/step - loss: 0.0746 - accuracy: 0.9753 - val_loss: 0.0828 - val_accuracy: 0.9736\n",
            "Epoch 6/15\n",
            "157/157 [==============================] - 4s 28ms/step - loss: 0.0709 - accuracy: 0.9766 - val_loss: 0.0881 - val_accuracy: 0.9713\n",
            "Epoch 7/15\n",
            "157/157 [==============================] - 5s 34ms/step - loss: 0.0672 - accuracy: 0.9777 - val_loss: 0.0859 - val_accuracy: 0.9721\n",
            "Epoch 8/15\n",
            "157/157 [==============================] - 6s 36ms/step - loss: 0.0649 - accuracy: 0.9784 - val_loss: 0.0866 - val_accuracy: 0.9725\n",
            "Epoch 9/15\n",
            "157/157 [==============================] - 5s 29ms/step - loss: 0.0622 - accuracy: 0.9793 - val_loss: 0.0814 - val_accuracy: 0.9741\n",
            "Epoch 10/15\n",
            "157/157 [==============================] - 4s 27ms/step - loss: 0.0603 - accuracy: 0.9799 - val_loss: 0.0862 - val_accuracy: 0.9726\n",
            "Epoch 11/15\n",
            "157/157 [==============================] - 4s 27ms/step - loss: 0.0577 - accuracy: 0.9807 - val_loss: 0.0871 - val_accuracy: 0.9728\n",
            "Epoch 12/15\n",
            "157/157 [==============================] - 4s 23ms/step - loss: 0.0554 - accuracy: 0.9815 - val_loss: 0.0855 - val_accuracy: 0.9731\n",
            "Epoch 13/15\n",
            "157/157 [==============================] - 3s 22ms/step - loss: 0.0529 - accuracy: 0.9823 - val_loss: 0.0883 - val_accuracy: 0.9737\n",
            "Epoch 14/15\n",
            "157/157 [==============================] - 5s 31ms/step - loss: 0.0507 - accuracy: 0.9830 - val_loss: 0.0883 - val_accuracy: 0.9734\n",
            "Epoch 15/15\n",
            "157/157 [==============================] - 3s 22ms/step - loss: 0.0484 - accuracy: 0.9839 - val_loss: 0.0787 - val_accuracy: 0.9762\n"
          ]
        },
        {
          "output_type": "execute_result",
          "data": {
            "text/plain": [
              "<keras.src.callbacks.History at 0x796760b36020>"
            ]
          },
          "metadata": {},
          "execution_count": 111
        }
      ]
    },
    {
      "cell_type": "code",
      "source": [
        "print(model_2.history.history.keys())\n",
        "plt.plot(model_2.history.history['accuracy'])\n",
        "plt.plot(model_2.history.history['val_accuracy'])\n",
        "plt.title('model_2 acc')\n",
        "plt.ylabel('accuracy')\n",
        "plt.xlabel('epoch')\n",
        "plt.legend(['train', 'val'], loc='upper left')\n",
        "plt.show()"
      ],
      "metadata": {
        "colab": {
          "base_uri": "https://localhost:8080/",
          "height": 489
        },
        "id": "D8DkCIjpiDno",
        "outputId": "84553836-a589-410e-9175-604f6f0cdaa7"
      },
      "id": "D8DkCIjpiDno",
      "execution_count": 112,
      "outputs": [
        {
          "output_type": "stream",
          "name": "stdout",
          "text": [
            "dict_keys(['loss', 'accuracy', 'val_loss', 'val_accuracy'])\n"
          ]
        },
        {
          "output_type": "display_data",
          "data": {
            "text/plain": [
              "<Figure size 640x480 with 1 Axes>"
            ],
            "image/png": "[encoded data removed]"
          },
          "metadata": {}
        }
      ]
    },
    {
      "cell_type": "code",
      "source": [
        "label_seq('Леонид работал в компании Шебекино, где производят макароны.', word2id, id2labels, MAX_LEN, model_2)"
      ],
      "metadata": {
        "colab": {
          "base_uri": "https://localhost:8080/"
        },
        "id": "CYOuGnZPiHOF",
        "outputId": "76b77ab9-201b-43b2-9949-aa629f659090"
      },
      "id": "CYOuGnZPiHOF",
      "execution_count": 115,
      "outputs": [
        {
          "output_type": "stream",
          "name": "stdout",
          "text": [
            "1/1 [==============================] - 2s 2s/step\n"
          ]
        },
        {
          "output_type": "execute_result",
          "data": {
            "text/plain": [
              "[('Леонид', 'O'),\n",
              " ('работал', 'O'),\n",
              " ('в', 'O'),\n",
              " ('компании', 'B-LOC'),\n",
              " ('Шебекино', 'I-LOC'),\n",
              " (',', 'O'),\n",
              " ('где', 'B-LOC'),\n",
              " ('производят', 'O'),\n",
              " ('макароны', 'O'),\n",
              " ('.', 'O')]"
            ]
          },
          "metadata": {},
          "execution_count": 115
        }
      ]
    },
    {
      "cell_type": "code",
      "source": [
        "label_seq('Каждое лето она проводила в Ялте, старом лагере на севере края.', word2id, id2labels, MAX_LEN, model_2)"
      ],
      "metadata": {
        "colab": {
          "base_uri": "https://localhost:8080/"
        },
        "id": "CxP6Ok-Yi_zL",
        "outputId": "6290f2f3-080e-470d-a88b-3aa023c498c9"
      },
      "id": "CxP6Ok-Yi_zL",
      "execution_count": 121,
      "outputs": [
        {
          "output_type": "stream",
          "name": "stdout",
          "text": [
            "1/1 [==============================] - 0s 94ms/step\n"
          ]
        },
        {
          "output_type": "execute_result",
          "data": {
            "text/plain": [
              "[('Каждое', 'O'),\n",
              " ('лето', 'O'),\n",
              " ('она', 'O'),\n",
              " ('проводила', 'O'),\n",
              " ('в', 'O'),\n",
              " ('Ялте', 'O'),\n",
              " (',', 'O'),\n",
              " ('старом', 'O'),\n",
              " ('лагере', 'O'),\n",
              " ('на', 'O'),\n",
              " ('севере', 'O'),\n",
              " ('края', 'I-ORG'),\n",
              " ('.', 'O')]"
            ]
          },
          "metadata": {},
          "execution_count": 121
        }
      ]
    }
  ],
  "metadata": {
    "kernelspec": {
      "display_name": "Python 3",
      "name": "python3"
    },
    "language_info": {
      "codemirror_mode": {
        "name": "ipython",
        "version": 3
      },
      "file_extension": ".py",
      "mimetype": "text/x-python",
      "name": "python",
      "nbconvert_exporter": "python",
      "pygments_lexer": "ipython3",
      "version": "3.9.14"
    },
    "colab": {
      "provenance": [],
      "gpuType": "T4"
    },
    "accelerator": "GPU",
    "widgets": {
      "application/vnd.jupyter.widget-state+json": {
        "36adb2926bc54769b849219c497f4489": {
          "model_module": "@jupyter-widgets/controls",
          "model_name": "HBoxModel",
          "model_module_version": "1.5.0",
          "state": {
            "_dom_classes": [],
            "_model_module": "@jupyter-widgets/controls",
            "_model_module_version": "1.5.0",
            "_model_name": "HBoxModel",
            "_view_count": null,
            "_view_module": "@jupyter-widgets/controls",
            "_view_module_version": "1.5.0",
            "_view_name": "HBoxView",
            "box_style": "",
            "children": [
              "IPY_MODEL_b987a2d0716b4851a9ef2c31e23159d5",
              "IPY_MODEL_a5be9d21cb2f4580b06d4a766f241151",
              "IPY_MODEL_f5c8dffb368d4e2f9c63d07c42eb7594"
            ],
            "layout": "IPY_MODEL_f3ebe1896b514b1c90d49a6ac220da79"
          }
        },
        "b987a2d0716b4851a9ef2c31e23159d5": {
          "model_module": "@jupyter-widgets/controls",
          "model_name": "HTMLModel",
          "model_module_version": "1.5.0",
          "state": {
            "_dom_classes": [],
            "_model_module": "@jupyter-widgets/controls",
            "_model_module_version": "1.5.0",
            "_model_name": "HTMLModel",
            "_view_count": null,
            "_view_module": "@jupyter-widgets/controls",
            "_view_module_version": "1.5.0",
            "_view_name": "HTMLView",
            "description": "",
            "description_tooltip": null,
            "layout": "IPY_MODEL_8662c999586746f3a41b8b30d68f4ecd",
            "placeholder": "​",
            "style": "IPY_MODEL_3caa868f6e39429bac5652324eefb383",
            "value": "Downloading readme: 100%"
          }
        },
        "a5be9d21cb2f4580b06d4a766f241151": {
          "model_module": "@jupyter-widgets/controls",
          "model_name": "FloatProgressModel",
          "model_module_version": "1.5.0",
          "state": {
            "_dom_classes": [],
            "_model_module": "@jupyter-widgets/controls",
            "_model_module_version": "1.5.0",
            "_model_name": "FloatProgressModel",
            "_view_count": null,
            "_view_module": "@jupyter-widgets/controls",
            "_view_module_version": "1.5.0",
            "_view_name": "ProgressView",
            "bar_style": "success",
            "description": "",
            "description_tooltip": null,
            "layout": "IPY_MODEL_af9463b26dc34126a74d3306d8b56c27",
            "max": 157610,
            "min": 0,
            "orientation": "horizontal",
            "style": "IPY_MODEL_436b2869e9a24fa08dcfbca859fafb37",
            "value": 157610
          }
        },
        "f5c8dffb368d4e2f9c63d07c42eb7594": {
          "model_module": "@jupyter-widgets/controls",
          "model_name": "HTMLModel",
          "model_module_version": "1.5.0",
          "state": {
            "_dom_classes": [],
            "_model_module": "@jupyter-widgets/controls",
            "_model_module_version": "1.5.0",
            "_model_name": "HTMLModel",
            "_view_count": null,
            "_view_module": "@jupyter-widgets/controls",
            "_view_module_version": "1.5.0",
            "_view_name": "HTMLView",
            "description": "",
            "description_tooltip": null,
            "layout": "IPY_MODEL_b7338d4d2e1646ca83ae91acda3ce80e",
            "placeholder": "​",
            "style": "IPY_MODEL_c4df263c99c54e9a8c0f0c675de9adec",
            "value": " 158k/158k [00:00&lt;00:00, 1.99MB/s]"
          }
        },
        "f3ebe1896b514b1c90d49a6ac220da79": {
          "model_module": "@jupyter-widgets/base",
          "model_name": "LayoutModel",
          "model_module_version": "1.2.0",
          "state": {
            "_model_module": "@jupyter-widgets/base",
            "_model_module_version": "1.2.0",
            "_model_name": "LayoutModel",
            "_view_count": null,
            "_view_module": "@jupyter-widgets/base",
            "_view_module_version": "1.2.0",
            "_view_name": "LayoutView",
            "align_content": null,
            "align_items": null,
            "align_self": null,
            "border": null,
            "bottom": null,
            "display": null,
            "flex": null,
            "flex_flow": null,
            "grid_area": null,
            "grid_auto_columns": null,
            "grid_auto_flow": null,
            "grid_auto_rows": null,
            "grid_column": null,
            "grid_gap": null,
            "grid_row": null,
            "grid_template_areas": null,
            "grid_template_columns": null,
            "grid_template_rows": null,
            "height": null,
            "justify_content": null,
            "justify_items": null,
            "left": null,
            "margin": null,
            "max_height": null,
            "max_width": null,
            "min_height": null,
            "min_width": null,
            "object_fit": null,
            "object_position": null,
            "order": null,
            "overflow": null,
            "overflow_x": null,
            "overflow_y": null,
            "padding": null,
            "right": null,
            "top": null,
            "visibility": null,
            "width": null
          }
        },
        "8662c999586746f3a41b8b30d68f4ecd": {
          "model_module": "@jupyter-widgets/base",
          "model_name": "LayoutModel",
          "model_module_version": "1.2.0",
          "state": {
            "_model_module": "@jupyter-widgets/base",
            "_model_module_version": "1.2.0",
            "_model_name": "LayoutModel",
            "_view_count": null,
            "_view_module": "@jupyter-widgets/base",
            "_view_module_version": "1.2.0",
            "_view_name": "LayoutView",
            "align_content": null,
            "align_items": null,
            "align_self": null,
            "border": null,
            "bottom": null,
            "display": null,
            "flex": null,
            "flex_flow": null,
            "grid_area": null,
            "grid_auto_columns": null,
            "grid_auto_flow": null,
            "grid_auto_rows": null,
            "grid_column": null,
            "grid_gap": null,
            "grid_row": null,
            "grid_template_areas": null,
            "grid_template_columns": null,
            "grid_template_rows": null,
            "height": null,
            "justify_content": null,
            "justify_items": null,
            "left": null,
            "margin": null,
            "max_height": null,
            "max_width": null,
            "min_height": null,
            "min_width": null,
            "object_fit": null,
            "object_position": null,
            "order": null,
            "overflow": null,
            "overflow_x": null,
            "overflow_y": null,
            "padding": null,
            "right": null,
            "top": null,
            "visibility": null,
            "width": null
          }
        },
        "3caa868f6e39429bac5652324eefb383": {
          "model_module": "@jupyter-widgets/controls",
          "model_name": "DescriptionStyleModel",
          "model_module_version": "1.5.0",
          "state": {
            "_model_module": "@jupyter-widgets/controls",
            "_model_module_version": "1.5.0",
            "_model_name": "DescriptionStyleModel",
            "_view_count": null,
            "_view_module": "@jupyter-widgets/base",
            "_view_module_version": "1.2.0",
            "_view_name": "StyleView",
            "description_width": ""
          }
        },
        "af9463b26dc34126a74d3306d8b56c27": {
          "model_module": "@jupyter-widgets/base",
          "model_name": "LayoutModel",
          "model_module_version": "1.2.0",
          "state": {
            "_model_module": "@jupyter-widgets/base",
            "_model_module_version": "1.2.0",
            "_model_name": "LayoutModel",
            "_view_count": null,
            "_view_module": "@jupyter-widgets/base",
            "_view_module_version": "1.2.0",
            "_view_name": "LayoutView",
            "align_content": null,
            "align_items": null,
            "align_self": null,
            "border": null,
            "bottom": null,
            "display": null,
            "flex": null,
            "flex_flow": null,
            "grid_area": null,
            "grid_auto_columns": null,
            "grid_auto_flow": null,
            "grid_auto_rows": null,
            "grid_column": null,
            "grid_gap": null,
            "grid_row": null,
            "grid_template_areas": null,
            "grid_template_columns": null,
            "grid_template_rows": null,
            "height": null,
            "justify_content": null,
            "justify_items": null,
            "left": null,
            "margin": null,
            "max_height": null,
            "max_width": null,
            "min_height": null,
            "min_width": null,
            "object_fit": null,
            "object_position": null,
            "order": null,
            "overflow": null,
            "overflow_x": null,
            "overflow_y": null,
            "padding": null,
            "right": null,
            "top": null,
            "visibility": null,
            "width": null
          }
        },
        "436b2869e9a24fa08dcfbca859fafb37": {
          "model_module": "@jupyter-widgets/controls",
          "model_name": "ProgressStyleModel",
          "model_module_version": "1.5.0",
          "state": {
            "_model_module": "@jupyter-widgets/controls",
            "_model_module_version": "1.5.0",
            "_model_name": "ProgressStyleModel",
            "_view_count": null,
            "_view_module": "@jupyter-widgets/base",
            "_view_module_version": "1.2.0",
            "_view_name": "StyleView",
            "bar_color": null,
            "description_width": ""
          }
        },
        "b7338d4d2e1646ca83ae91acda3ce80e": {
          "model_module": "@jupyter-widgets/base",
          "model_name": "LayoutModel",
          "model_module_version": "1.2.0",
          "state": {
            "_model_module": "@jupyter-widgets/base",
            "_model_module_version": "1.2.0",
            "_model_name": "LayoutModel",
            "_view_count": null,
            "_view_module": "@jupyter-widgets/base",
            "_view_module_version": "1.2.0",
            "_view_name": "LayoutView",
            "align_content": null,
            "align_items": null,
            "align_self": null,
            "border": null,
            "bottom": null,
            "display": null,
            "flex": null,
            "flex_flow": null,
            "grid_area": null,
            "grid_auto_columns": null,
            "grid_auto_flow": null,
            "grid_auto_rows": null,
            "grid_column": null,
            "grid_gap": null,
            "grid_row": null,
            "grid_template_areas": null,
            "grid_template_columns": null,
            "grid_template_rows": null,
            "height": null,
            "justify_content": null,
            "justify_items": null,
            "left": null,
            "margin": null,
            "max_height": null,
            "max_width": null,
            "min_height": null,
            "min_width": null,
            "object_fit": null,
            "object_position": null,
            "order": null,
            "overflow": null,
            "overflow_x": null,
            "overflow_y": null,
            "padding": null,
            "right": null,
            "top": null,
            "visibility": null,
            "width": null
          }
        },
        "c4df263c99c54e9a8c0f0c675de9adec": {
          "model_module": "@jupyter-widgets/controls",
          "model_name": "DescriptionStyleModel",
          "model_module_version": "1.5.0",
          "state": {
            "_model_module": "@jupyter-widgets/controls",
            "_model_module_version": "1.5.0",
            "_model_name": "DescriptionStyleModel",
            "_view_count": null,
            "_view_module": "@jupyter-widgets/base",
            "_view_module_version": "1.2.0",
            "_view_name": "StyleView",
            "description_width": ""
          }
        },
        "d889836752a4406c811cdd28bf39faaa": {
          "model_module": "@jupyter-widgets/controls",
          "model_name": "HBoxModel",
          "model_module_version": "1.5.0",
          "state": {
            "_dom_classes": [],
            "_model_module": "@jupyter-widgets/controls",
            "_model_module_version": "1.5.0",
            "_model_name": "HBoxModel",
            "_view_count": null,
            "_view_module": "@jupyter-widgets/controls",
            "_view_module_version": "1.5.0",
            "_view_name": "HBoxView",
            "box_style": "",
            "children": [
              "IPY_MODEL_4d4d593ab40e44119e8832c6b1ab17ee",
              "IPY_MODEL_f6f0797944134fc786344a45e5fd276d",
              "IPY_MODEL_01031d641e314ff0b0b10ed300f66577"
            ],
            "layout": "IPY_MODEL_d83b40da98b64e32bdd0c728f987c644"
          }
        },
        "4d4d593ab40e44119e8832c6b1ab17ee": {
          "model_module": "@jupyter-widgets/controls",
          "model_name": "HTMLModel",
          "model_module_version": "1.5.0",
          "state": {
            "_dom_classes": [],
            "_model_module": "@jupyter-widgets/controls",
            "_model_module_version": "1.5.0",
            "_model_name": "HTMLModel",
            "_view_count": null,
            "_view_module": "@jupyter-widgets/controls",
            "_view_module_version": "1.5.0",
            "_view_name": "HTMLView",
            "description": "",
            "description_tooltip": null,
            "layout": "IPY_MODEL_851e4f6140bb4a7f816b6895259fb17c",
            "placeholder": "​",
            "style": "IPY_MODEL_962f093fbc6f41c0a6ae6213d821c0d0",
            "value": "Downloading data: 100%"
          }
        },
        "f6f0797944134fc786344a45e5fd276d": {
          "model_module": "@jupyter-widgets/controls",
          "model_name": "FloatProgressModel",
          "model_module_version": "1.5.0",
          "state": {
            "_dom_classes": [],
            "_model_module": "@jupyter-widgets/controls",
            "_model_module_version": "1.5.0",
            "_model_name": "FloatProgressModel",
            "_view_count": null,
            "_view_module": "@jupyter-widgets/controls",
            "_view_module_version": "1.5.0",
            "_view_name": "ProgressView",
            "bar_style": "success",
            "description": "",
            "description_tooltip": null,
            "layout": "IPY_MODEL_8ac6e645df1642beaab08841134947cd",
            "max": 808903,
            "min": 0,
            "orientation": "horizontal",
            "style": "IPY_MODEL_112c665649834003a320de830ca6f24a",
            "value": 808903
          }
        },
        "01031d641e314ff0b0b10ed300f66577": {
          "model_module": "@jupyter-widgets/controls",
          "model_name": "HTMLModel",
          "model_module_version": "1.5.0",
          "state": {
            "_dom_classes": [],
            "_model_module": "@jupyter-widgets/controls",
            "_model_module_version": "1.5.0",
            "_model_name": "HTMLModel",
            "_view_count": null,
            "_view_module": "@jupyter-widgets/controls",
            "_view_module_version": "1.5.0",
            "_view_name": "HTMLView",
            "description": "",
            "description_tooltip": null,
            "layout": "IPY_MODEL_dae539c9f71c4b8b89b5467af345d568",
            "placeholder": "​",
            "style": "IPY_MODEL_17c1dd8a936541a7ab001bc25637fed7",
            "value": " 809k/809k [00:00&lt;00:00, 1.49MB/s]"
          }
        },
        "d83b40da98b64e32bdd0c728f987c644": {
          "model_module": "@jupyter-widgets/base",
          "model_name": "LayoutModel",
          "model_module_version": "1.2.0",
          "state": {
            "_model_module": "@jupyter-widgets/base",
            "_model_module_version": "1.2.0",
            "_model_name": "LayoutModel",
            "_view_count": null,
            "_view_module": "@jupyter-widgets/base",
            "_view_module_version": "1.2.0",
            "_view_name": "LayoutView",
            "align_content": null,
            "align_items": null,
            "align_self": null,
            "border": null,
            "bottom": null,
            "display": null,
            "flex": null,
            "flex_flow": null,
            "grid_area": null,
            "grid_auto_columns": null,
            "grid_auto_flow": null,
            "grid_auto_rows": null,
            "grid_column": null,
            "grid_gap": null,
            "grid_row": null,
            "grid_template_areas": null,
            "grid_template_columns": null,
            "grid_template_rows": null,
            "height": null,
            "justify_content": null,
            "justify_items": null,
            "left": null,
            "margin": null,
            "max_height": null,
            "max_width": null,
            "min_height": null,
            "min_width": null,
            "object_fit": null,
            "object_position": null,
            "order": null,
            "overflow": null,
            "overflow_x": null,
            "overflow_y": null,
            "padding": null,
            "right": null,
            "top": null,
            "visibility": null,
            "width": null
          }
        },
        "851e4f6140bb4a7f816b6895259fb17c": {
          "model_module": "@jupyter-widgets/base",
          "model_name": "LayoutModel",
          "model_module_version": "1.2.0",
          "state": {
            "_model_module": "@jupyter-widgets/base",
            "_model_module_version": "1.2.0",
            "_model_name": "LayoutModel",
            "_view_count": null,
            "_view_module": "@jupyter-widgets/base",
            "_view_module_version": "1.2.0",
            "_view_name": "LayoutView",
            "align_content": null,
            "align_items": null,
            "align_self": null,
            "border": null,
            "bottom": null,
            "display": null,
            "flex": null,
            "flex_flow": null,
            "grid_area": null,
            "grid_auto_columns": null,
            "grid_auto_flow": null,
            "grid_auto_rows": null,
            "grid_column": null,
            "grid_gap": null,
            "grid_row": null,
            "grid_template_areas": null,
            "grid_template_columns": null,
            "grid_template_rows": null,
            "height": null,
            "justify_content": null,
            "justify_items": null,
            "left": null,
            "margin": null,
            "max_height": null,
            "max_width": null,
            "min_height": null,
            "min_width": null,
            "object_fit": null,
            "object_position": null,
            "order": null,
            "overflow": null,
            "overflow_x": null,
            "overflow_y": null,
            "padding": null,
            "right": null,
            "top": null,
            "visibility": null,
            "width": null
          }
        },
        "962f093fbc6f41c0a6ae6213d821c0d0": {
          "model_module": "@jupyter-widgets/controls",
          "model_name": "DescriptionStyleModel",
          "model_module_version": "1.5.0",
          "state": {
            "_model_module": "@jupyter-widgets/controls",
            "_model_module_version": "1.5.0",
            "_model_name": "DescriptionStyleModel",
            "_view_count": null,
            "_view_module": "@jupyter-widgets/base",
            "_view_module_version": "1.2.0",
            "_view_name": "StyleView",
            "description_width": ""
          }
        },
        "8ac6e645df1642beaab08841134947cd": {
          "model_module": "@jupyter-widgets/base",
          "model_name": "LayoutModel",
          "model_module_version": "1.2.0",
          "state": {
            "_model_module": "@jupyter-widgets/base",
            "_model_module_version": "1.2.0",
            "_model_name": "LayoutModel",
            "_view_count": null,
            "_view_module": "@jupyter-widgets/base",
            "_view_module_version": "1.2.0",
            "_view_name": "LayoutView",
            "align_content": null,
            "align_items": null,
            "align_self": null,
            "border": null,
            "bottom": null,
            "display": null,
            "flex": null,
            "flex_flow": null,
            "grid_area": null,
            "grid_auto_columns": null,
            "grid_auto_flow": null,
            "grid_auto_rows": null,
            "grid_column": null,
            "grid_gap": null,
            "grid_row": null,
            "grid_template_areas": null,
            "grid_template_columns": null,
            "grid_template_rows": null,
            "height": null,
            "justify_content": null,
            "justify_items": null,
            "left": null,
            "margin": null,
            "max_height": null,
            "max_width": null,
            "min_height": null,
            "min_width": null,
            "object_fit": null,
            "object_position": null,
            "order": null,
            "overflow": null,
            "overflow_x": null,
            "overflow_y": null,
            "padding": null,
            "right": null,
            "top": null,
            "visibility": null,
            "width": null
          }
        },
        "112c665649834003a320de830ca6f24a": {
          "model_module": "@jupyter-widgets/controls",
          "model_name": "ProgressStyleModel",
          "model_module_version": "1.5.0",
          "state": {
            "_model_module": "@jupyter-widgets/controls",
            "_model_module_version": "1.5.0",
            "_model_name": "ProgressStyleModel",
            "_view_count": null,
            "_view_module": "@jupyter-widgets/base",
            "_view_module_version": "1.2.0",
            "_view_name": "StyleView",
            "bar_color": null,
            "description_width": ""
          }
        },
        "dae539c9f71c4b8b89b5467af345d568": {
          "model_module": "@jupyter-widgets/base",
          "model_name": "LayoutModel",
          "model_module_version": "1.2.0",
          "state": {
            "_model_module": "@jupyter-widgets/base",
            "_model_module_version": "1.2.0",
            "_model_name": "LayoutModel",
            "_view_count": null,
            "_view_module": "@jupyter-widgets/base",
            "_view_module_version": "1.2.0",
            "_view_name": "LayoutView",
            "align_content": null,
            "align_items": null,
            "align_self": null,
            "border": null,
            "bottom": null,
            "display": null,
            "flex": null,
            "flex_flow": null,
            "grid_area": null,
            "grid_auto_columns": null,
            "grid_auto_flow": null,
            "grid_auto_rows": null,
            "grid_column": null,
            "grid_gap": null,
            "grid_row": null,
            "grid_template_areas": null,
            "grid_template_columns": null,
            "grid_template_rows": null,
            "height": null,
            "justify_content": null,
            "justify_items": null,
            "left": null,
            "margin": null,
            "max_height": null,
            "max_width": null,
            "min_height": null,
            "min_width": null,
            "object_fit": null,
            "object_position": null,
            "order": null,
            "overflow": null,
            "overflow_x": null,
            "overflow_y": null,
            "padding": null,
            "right": null,
            "top": null,
            "visibility": null,
            "width": null
          }
        },
        "17c1dd8a936541a7ab001bc25637fed7": {
          "model_module": "@jupyter-widgets/controls",
          "model_name": "DescriptionStyleModel",
          "model_module_version": "1.5.0",
          "state": {
            "_model_module": "@jupyter-widgets/controls",
            "_model_module_version": "1.5.0",
            "_model_name": "DescriptionStyleModel",
            "_view_count": null,
            "_view_module": "@jupyter-widgets/base",
            "_view_module_version": "1.2.0",
            "_view_name": "StyleView",
            "description_width": ""
          }
        },
        "7159402a9e7c4454872e5ea9ca869359": {
          "model_module": "@jupyter-widgets/controls",
          "model_name": "HBoxModel",
          "model_module_version": "1.5.0",
          "state": {
            "_dom_classes": [],
            "_model_module": "@jupyter-widgets/controls",
            "_model_module_version": "1.5.0",
            "_model_name": "HBoxModel",
            "_view_count": null,
            "_view_module": "@jupyter-widgets/controls",
            "_view_module_version": "1.5.0",
            "_view_name": "HBoxView",
            "box_style": "",
            "children": [
              "IPY_MODEL_ec25518e18b44ce6a47a160902f337ad",
              "IPY_MODEL_13ac546302894ef5bc949c5c8e2e4ffa",
              "IPY_MODEL_db17706432ce44a38a443298652c2fff"
            ],
            "layout": "IPY_MODEL_610fd46ae04e4015ac03a78f5451e044"
          }
        },
        "ec25518e18b44ce6a47a160902f337ad": {
          "model_module": "@jupyter-widgets/controls",
          "model_name": "HTMLModel",
          "model_module_version": "1.5.0",
          "state": {
            "_dom_classes": [],
            "_model_module": "@jupyter-widgets/controls",
            "_model_module_version": "1.5.0",
            "_model_name": "HTMLModel",
            "_view_count": null,
            "_view_module": "@jupyter-widgets/controls",
            "_view_module_version": "1.5.0",
            "_view_name": "HTMLView",
            "description": "",
            "description_tooltip": null,
            "layout": "IPY_MODEL_18cf10b463654897a0fc80c63dbbaa0a",
            "placeholder": "​",
            "style": "IPY_MODEL_c8607a8a9c7242b999ec94c8e4da6379",
            "value": "Downloading data: 100%"
          }
        },
        "13ac546302894ef5bc949c5c8e2e4ffa": {
          "model_module": "@jupyter-widgets/controls",
          "model_name": "FloatProgressModel",
          "model_module_version": "1.5.0",
          "state": {
            "_dom_classes": [],
            "_model_module": "@jupyter-widgets/controls",
            "_model_module_version": "1.5.0",
            "_model_name": "FloatProgressModel",
            "_view_count": null,
            "_view_module": "@jupyter-widgets/controls",
            "_view_module_version": "1.5.0",
            "_view_name": "ProgressView",
            "bar_style": "success",
            "description": "",
            "description_tooltip": null,
            "layout": "IPY_MODEL_bac0af67fba44bc9b7139506ff9c1555",
            "max": 815819,
            "min": 0,
            "orientation": "horizontal",
            "style": "IPY_MODEL_018058ac798f47b19c676767fdac136c",
            "value": 815819
          }
        },
        "db17706432ce44a38a443298652c2fff": {
          "model_module": "@jupyter-widgets/controls",
          "model_name": "HTMLModel",
          "model_module_version": "1.5.0",
          "state": {
            "_dom_classes": [],
            "_model_module": "@jupyter-widgets/controls",
            "_model_module_version": "1.5.0",
            "_model_name": "HTMLModel",
            "_view_count": null,
            "_view_module": "@jupyter-widgets/controls",
            "_view_module_version": "1.5.0",
            "_view_name": "HTMLView",
            "description": "",
            "description_tooltip": null,
            "layout": "IPY_MODEL_885046f1b364424fbab2c5276f1aa473",
            "placeholder": "​",
            "style": "IPY_MODEL_e48b0211f62341e6bfc9d118783e678b",
            "value": " 816k/816k [00:00&lt;00:00, 2.55MB/s]"
          }
        },
        "610fd46ae04e4015ac03a78f5451e044": {
          "model_module": "@jupyter-widgets/base",
          "model_name": "LayoutModel",
          "model_module_version": "1.2.0",
          "state": {
            "_model_module": "@jupyter-widgets/base",
            "_model_module_version": "1.2.0",
            "_model_name": "LayoutModel",
            "_view_count": null,
            "_view_module": "@jupyter-widgets/base",
            "_view_module_version": "1.2.0",
            "_view_name": "LayoutView",
            "align_content": null,
            "align_items": null,
            "align_self": null,
            "border": null,
            "bottom": null,
            "display": null,
            "flex": null,
            "flex_flow": null,
            "grid_area": null,
            "grid_auto_columns": null,
            "grid_auto_flow": null,
            "grid_auto_rows": null,
            "grid_column": null,
            "grid_gap": null,
            "grid_row": null,
            "grid_template_areas": null,
            "grid_template_columns": null,
            "grid_template_rows": null,
            "height": null,
            "justify_content": null,
            "justify_items": null,
            "left": null,
            "margin": null,
            "max_height": null,
            "max_width": null,
            "min_height": null,
            "min_width": null,
            "object_fit": null,
            "object_position": null,
            "order": null,
            "overflow": null,
            "overflow_x": null,
            "overflow_y": null,
            "padding": null,
            "right": null,
            "top": null,
            "visibility": null,
            "width": null
          }
        },
        "18cf10b463654897a0fc80c63dbbaa0a": {
          "model_module": "@jupyter-widgets/base",
          "model_name": "LayoutModel",
          "model_module_version": "1.2.0",
          "state": {
            "_model_module": "@jupyter-widgets/base",
            "_model_module_version": "1.2.0",
            "_model_name": "LayoutModel",
            "_view_count": null,
            "_view_module": "@jupyter-widgets/base",
            "_view_module_version": "1.2.0",
            "_view_name": "LayoutView",
            "align_content": null,
            "align_items": null,
            "align_self": null,
            "border": null,
            "bottom": null,
            "display": null,
            "flex": null,
            "flex_flow": null,
            "grid_area": null,
            "grid_auto_columns": null,
            "grid_auto_flow": null,
            "grid_auto_rows": null,
            "grid_column": null,
            "grid_gap": null,
            "grid_row": null,
            "grid_template_areas": null,
            "grid_template_columns": null,
            "grid_template_rows": null,
            "height": null,
            "justify_content": null,
            "justify_items": null,
            "left": null,
            "margin": null,
            "max_height": null,
            "max_width": null,
            "min_height": null,
            "min_width": null,
            "object_fit": null,
            "object_position": null,
            "order": null,
            "overflow": null,
            "overflow_x": null,
            "overflow_y": null,
            "padding": null,
            "right": null,
            "top": null,
            "visibility": null,
            "width": null
          }
        },
        "c8607a8a9c7242b999ec94c8e4da6379": {
          "model_module": "@jupyter-widgets/controls",
          "model_name": "DescriptionStyleModel",
          "model_module_version": "1.5.0",
          "state": {
            "_model_module": "@jupyter-widgets/controls",
            "_model_module_version": "1.5.0",
            "_model_name": "DescriptionStyleModel",
            "_view_count": null,
            "_view_module": "@jupyter-widgets/base",
            "_view_module_version": "1.2.0",
            "_view_name": "StyleView",
            "description_width": ""
          }
        },
        "bac0af67fba44bc9b7139506ff9c1555": {
          "model_module": "@jupyter-widgets/base",
          "model_name": "LayoutModel",
          "model_module_version": "1.2.0",
          "state": {
            "_model_module": "@jupyter-widgets/base",
            "_model_module_version": "1.2.0",
            "_model_name": "LayoutModel",
            "_view_count": null,
            "_view_module": "@jupyter-widgets/base",
            "_view_module_version": "1.2.0",
            "_view_name": "LayoutView",
            "align_content": null,
            "align_items": null,
            "align_self": null,
            "border": null,
            "bottom": null,
            "display": null,
            "flex": null,
            "flex_flow": null,
            "grid_area": null,
            "grid_auto_columns": null,
            "grid_auto_flow": null,
            "grid_auto_rows": null,
            "grid_column": null,
            "grid_gap": null,
            "grid_row": null,
            "grid_template_areas": null,
            "grid_template_columns": null,
            "grid_template_rows": null,
            "height": null,
            "justify_content": null,
            "justify_items": null,
            "left": null,
            "margin": null,
            "max_height": null,
            "max_width": null,
            "min_height": null,
            "min_width": null,
            "object_fit": null,
            "object_position": null,
            "order": null,
            "overflow": null,
            "overflow_x": null,
            "overflow_y": null,
            "padding": null,
            "right": null,
            "top": null,
            "visibility": null,
            "width": null
          }
        },
        "018058ac798f47b19c676767fdac136c": {
          "model_module": "@jupyter-widgets/controls",
          "model_name": "ProgressStyleModel",
          "model_module_version": "1.5.0",
          "state": {
            "_model_module": "@jupyter-widgets/controls",
            "_model_module_version": "1.5.0",
            "_model_name": "ProgressStyleModel",
            "_view_count": null,
            "_view_module": "@jupyter-widgets/base",
            "_view_module_version": "1.2.0",
            "_view_name": "StyleView",
            "bar_color": null,
            "description_width": ""
          }
        },
        "885046f1b364424fbab2c5276f1aa473": {
          "model_module": "@jupyter-widgets/base",
          "model_name": "LayoutModel",
          "model_module_version": "1.2.0",
          "state": {
            "_model_module": "@jupyter-widgets/base",
            "_model_module_version": "1.2.0",
            "_model_name": "LayoutModel",
            "_view_count": null,
            "_view_module": "@jupyter-widgets/base",
            "_view_module_version": "1.2.0",
            "_view_name": "LayoutView",
            "align_content": null,
            "align_items": null,
            "align_self": null,
            "border": null,
            "bottom": null,
            "display": null,
            "flex": null,
            "flex_flow": null,
            "grid_area": null,
            "grid_auto_columns": null,
            "grid_auto_flow": null,
            "grid_auto_rows": null,
            "grid_column": null,
            "grid_gap": null,
            "grid_row": null,
            "grid_template_areas": null,
            "grid_template_columns": null,
            "grid_template_rows": null,
            "height": null,
            "justify_content": null,
            "justify_items": null,
            "left": null,
            "margin": null,
            "max_height": null,
            "max_width": null,
            "min_height": null,
            "min_width": null,
            "object_fit": null,
            "object_position": null,
            "order": null,
            "overflow": null,
            "overflow_x": null,
            "overflow_y": null,
            "padding": null,
            "right": null,
            "top": null,
            "visibility": null,
            "width": null
          }
        },
        "e48b0211f62341e6bfc9d118783e678b": {
          "model_module": "@jupyter-widgets/controls",
          "model_name": "DescriptionStyleModel",
          "model_module_version": "1.5.0",
          "state": {
            "_model_module": "@jupyter-widgets/controls",
            "_model_module_version": "1.5.0",
            "_model_name": "DescriptionStyleModel",
            "_view_count": null,
            "_view_module": "@jupyter-widgets/base",
            "_view_module_version": "1.2.0",
            "_view_name": "StyleView",
            "description_width": ""
          }
        },
        "c24189be7a8a4bf1ac6811eeeb832716": {
          "model_module": "@jupyter-widgets/controls",
          "model_name": "HBoxModel",
          "model_module_version": "1.5.0",
          "state": {
            "_dom_classes": [],
            "_model_module": "@jupyter-widgets/controls",
            "_model_module_version": "1.5.0",
            "_model_name": "HBoxModel",
            "_view_count": null,
            "_view_module": "@jupyter-widgets/controls",
            "_view_module_version": "1.5.0",
            "_view_name": "HBoxView",
            "box_style": "",
            "children": [
              "IPY_MODEL_ed83b6253f7b45fd9d263621d5c14507",
              "IPY_MODEL_f050644cc5104e118267266b09157e13",
              "IPY_MODEL_f3df4831f0c941d99de0bba318e3ae5a"
            ],
            "layout": "IPY_MODEL_494b0b0c45c449a585c3c09b8f0172fd"
          }
        },
        "ed83b6253f7b45fd9d263621d5c14507": {
          "model_module": "@jupyter-widgets/controls",
          "model_name": "HTMLModel",
          "model_module_version": "1.5.0",
          "state": {
            "_dom_classes": [],
            "_model_module": "@jupyter-widgets/controls",
            "_model_module_version": "1.5.0",
            "_model_name": "HTMLModel",
            "_view_count": null,
            "_view_module": "@jupyter-widgets/controls",
            "_view_module_version": "1.5.0",
            "_view_name": "HTMLView",
            "description": "",
            "description_tooltip": null,
            "layout": "IPY_MODEL_80781d7f7c46440197e8f6014e01993e",
            "placeholder": "​",
            "style": "IPY_MODEL_534a22a5ff7a4c3d9e73dded85c0ac4c",
            "value": "Downloading data: 100%"
          }
        },
        "f050644cc5104e118267266b09157e13": {
          "model_module": "@jupyter-widgets/controls",
          "model_name": "FloatProgressModel",
          "model_module_version": "1.5.0",
          "state": {
            "_dom_classes": [],
            "_model_module": "@jupyter-widgets/controls",
            "_model_module_version": "1.5.0",
            "_model_name": "FloatProgressModel",
            "_view_count": null,
            "_view_module": "@jupyter-widgets/controls",
            "_view_module_version": "1.5.0",
            "_view_name": "ProgressView",
            "bar_style": "success",
            "description": "",
            "description_tooltip": null,
            "layout": "IPY_MODEL_df2effb3f4664bf68affa1a6cef74729",
            "max": 1625463,
            "min": 0,
            "orientation": "horizontal",
            "style": "IPY_MODEL_e7fcdc3d6340403facf849ac772c4363",
            "value": 1625463
          }
        },
        "f3df4831f0c941d99de0bba318e3ae5a": {
          "model_module": "@jupyter-widgets/controls",
          "model_name": "HTMLModel",
          "model_module_version": "1.5.0",
          "state": {
            "_dom_classes": [],
            "_model_module": "@jupyter-widgets/controls",
            "_model_module_version": "1.5.0",
            "_model_name": "HTMLModel",
            "_view_count": null,
            "_view_module": "@jupyter-widgets/controls",
            "_view_module_version": "1.5.0",
            "_view_name": "HTMLView",
            "description": "",
            "description_tooltip": null,
            "layout": "IPY_MODEL_528ad8188d0f4e299426b3bf2d6f737d",
            "placeholder": "​",
            "style": "IPY_MODEL_460fff3f5d734e3ca988330d6a564ab3",
            "value": " 1.63M/1.63M [00:00&lt;00:00, 4.80MB/s]"
          }
        },
        "494b0b0c45c449a585c3c09b8f0172fd": {
          "model_module": "@jupyter-widgets/base",
          "model_name": "LayoutModel",
          "model_module_version": "1.2.0",
          "state": {
            "_model_module": "@jupyter-widgets/base",
            "_model_module_version": "1.2.0",
            "_model_name": "LayoutModel",
            "_view_count": null,
            "_view_module": "@jupyter-widgets/base",
            "_view_module_version": "1.2.0",
            "_view_name": "LayoutView",
            "align_content": null,
            "align_items": null,
            "align_self": null,
            "border": null,
            "bottom": null,
            "display": null,
            "flex": null,
            "flex_flow": null,
            "grid_area": null,
            "grid_auto_columns": null,
            "grid_auto_flow": null,
            "grid_auto_rows": null,
            "grid_column": null,
            "grid_gap": null,
            "grid_row": null,
            "grid_template_areas": null,
            "grid_template_columns": null,
            "grid_template_rows": null,
            "height": null,
            "justify_content": null,
            "justify_items": null,
            "left": null,
            "margin": null,
            "max_height": null,
            "max_width": null,
            "min_height": null,
            "min_width": null,
            "object_fit": null,
            "object_position": null,
            "order": null,
            "overflow": null,
            "overflow_x": null,
            "overflow_y": null,
            "padding": null,
            "right": null,
            "top": null,
            "visibility": null,
            "width": null
          }
        },
        "80781d7f7c46440197e8f6014e01993e": {
          "model_module": "@jupyter-widgets/base",
          "model_name": "LayoutModel",
          "model_module_version": "1.2.0",
          "state": {
            "_model_module": "@jupyter-widgets/base",
            "_model_module_version": "1.2.0",
            "_model_name": "LayoutModel",
            "_view_count": null,
            "_view_module": "@jupyter-widgets/base",
            "_view_module_version": "1.2.0",
            "_view_name": "LayoutView",
            "align_content": null,
            "align_items": null,
            "align_self": null,
            "border": null,
            "bottom": null,
            "display": null,
            "flex": null,
            "flex_flow": null,
            "grid_area": null,
            "grid_auto_columns": null,
            "grid_auto_flow": null,
            "grid_auto_rows": null,
            "grid_column": null,
            "grid_gap": null,
            "grid_row": null,
            "grid_template_areas": null,
            "grid_template_columns": null,
            "grid_template_rows": null,
            "height": null,
            "justify_content": null,
            "justify_items": null,
            "left": null,
            "margin": null,
            "max_height": null,
            "max_width": null,
            "min_height": null,
            "min_width": null,
            "object_fit": null,
            "object_position": null,
            "order": null,
            "overflow": null,
            "overflow_x": null,
            "overflow_y": null,
            "padding": null,
            "right": null,
            "top": null,
            "visibility": null,
            "width": null
          }
        },
        "534a22a5ff7a4c3d9e73dded85c0ac4c": {
          "model_module": "@jupyter-widgets/controls",
          "model_name": "DescriptionStyleModel",
          "model_module_version": "1.5.0",
          "state": {
            "_model_module": "@jupyter-widgets/controls",
            "_model_module_version": "1.5.0",
            "_model_name": "DescriptionStyleModel",
            "_view_count": null,
            "_view_module": "@jupyter-widgets/base",
            "_view_module_version": "1.2.0",
            "_view_name": "StyleView",
            "description_width": ""
          }
        },
        "df2effb3f4664bf68affa1a6cef74729": {
          "model_module": "@jupyter-widgets/base",
          "model_name": "LayoutModel",
          "model_module_version": "1.2.0",
          "state": {
            "_model_module": "@jupyter-widgets/base",
            "_model_module_version": "1.2.0",
            "_model_name": "LayoutModel",
            "_view_count": null,
            "_view_module": "@jupyter-widgets/base",
            "_view_module_version": "1.2.0",
            "_view_name": "LayoutView",
            "align_content": null,
            "align_items": null,
            "align_self": null,
            "border": null,
            "bottom": null,
            "display": null,
            "flex": null,
            "flex_flow": null,
            "grid_area": null,
            "grid_auto_columns": null,
            "grid_auto_flow": null,
            "grid_auto_rows": null,
            "grid_column": null,
            "grid_gap": null,
            "grid_row": null,
            "grid_template_areas": null,
            "grid_template_columns": null,
            "grid_template_rows": null,
            "height": null,
            "justify_content": null,
            "justify_items": null,
            "left": null,
            "margin": null,
            "max_height": null,
            "max_width": null,
            "min_height": null,
            "min_width": null,
            "object_fit": null,
            "object_position": null,
            "order": null,
            "overflow": null,
            "overflow_x": null,
            "overflow_y": null,
            "padding": null,
            "right": null,
            "top": null,
            "visibility": null,
            "width": null
          }
        },
        "e7fcdc3d6340403facf849ac772c4363": {
          "model_module": "@jupyter-widgets/controls",
          "model_name": "ProgressStyleModel",
          "model_module_version": "1.5.0",
          "state": {
            "_model_module": "@jupyter-widgets/controls",
            "_model_module_version": "1.5.0",
            "_model_name": "ProgressStyleModel",
            "_view_count": null,
            "_view_module": "@jupyter-widgets/base",
            "_view_module_version": "1.2.0",
            "_view_name": "StyleView",
            "bar_color": null,
            "description_width": ""
          }
        },
        "528ad8188d0f4e299426b3bf2d6f737d": {
          "model_module": "@jupyter-widgets/base",
          "model_name": "LayoutModel",
          "model_module_version": "1.2.0",
          "state": {
            "_model_module": "@jupyter-widgets/base",
            "_model_module_version": "1.2.0",
            "_model_name": "LayoutModel",
            "_view_count": null,
            "_view_module": "@jupyter-widgets/base",
            "_view_module_version": "1.2.0",
            "_view_name": "LayoutView",
            "align_content": null,
            "align_items": null,
            "align_self": null,
            "border": null,
            "bottom": null,
            "display": null,
            "flex": null,
            "flex_flow": null,
            "grid_area": null,
            "grid_auto_columns": null,
            "grid_auto_flow": null,
            "grid_auto_rows": null,
            "grid_column": null,
            "grid_gap": null,
            "grid_row": null,
            "grid_template_areas": null,
            "grid_template_columns": null,
            "grid_template_rows": null,
            "height": null,
            "justify_content": null,
            "justify_items": null,
            "left": null,
            "margin": null,
            "max_height": null,
            "max_width": null,
            "min_height": null,
            "min_width": null,
            "object_fit": null,
            "object_position": null,
            "order": null,
            "overflow": null,
            "overflow_x": null,
            "overflow_y": null,
            "padding": null,
            "right": null,
            "top": null,
            "visibility": null,
            "width": null
          }
        },
        "460fff3f5d734e3ca988330d6a564ab3": {
          "model_module": "@jupyter-widgets/controls",
          "model_name": "DescriptionStyleModel",
          "model_module_version": "1.5.0",
          "state": {
            "_model_module": "@jupyter-widgets/controls",
            "_model_module_version": "1.5.0",
            "_model_name": "DescriptionStyleModel",
            "_view_count": null,
            "_view_module": "@jupyter-widgets/base",
            "_view_module_version": "1.2.0",
            "_view_name": "StyleView",
            "description_width": ""
          }
        },
        "24012116d4a344ec840f0f74bbc418d9": {
          "model_module": "@jupyter-widgets/controls",
          "model_name": "HBoxModel",
          "model_module_version": "1.5.0",
          "state": {
            "_dom_classes": [],
            "_model_module": "@jupyter-widgets/controls",
            "_model_module_version": "1.5.0",
            "_model_name": "HBoxModel",
            "_view_count": null,
            "_view_module": "@jupyter-widgets/controls",
            "_view_module_version": "1.5.0",
            "_view_name": "HBoxView",
            "box_style": "",
            "children": [
              "IPY_MODEL_fe3134e2a6944e4980c40052e71ad6d4",
              "IPY_MODEL_895053702be54c4cac2205a887b3a8a7",
              "IPY_MODEL_0a087bdeacda4b88883f825be3b47f5c"
            ],
            "layout": "IPY_MODEL_0963b8cb2426490d8eaf8de18f2a2be1"
          }
        },
        "fe3134e2a6944e4980c40052e71ad6d4": {
          "model_module": "@jupyter-widgets/controls",
          "model_name": "HTMLModel",
          "model_module_version": "1.5.0",
          "state": {
            "_dom_classes": [],
            "_model_module": "@jupyter-widgets/controls",
            "_model_module_version": "1.5.0",
            "_model_name": "HTMLModel",
            "_view_count": null,
            "_view_module": "@jupyter-widgets/controls",
            "_view_module_version": "1.5.0",
            "_view_name": "HTMLView",
            "description": "",
            "description_tooltip": null,
            "layout": "IPY_MODEL_4621768e0c5f4d349e03cb33245b0666",
            "placeholder": "​",
            "style": "IPY_MODEL_e7962961987f4cd0a800ebafee83d836",
            "value": "Generating validation split: 100%"
          }
        },
        "895053702be54c4cac2205a887b3a8a7": {
          "model_module": "@jupyter-widgets/controls",
          "model_name": "FloatProgressModel",
          "model_module_version": "1.5.0",
          "state": {
            "_dom_classes": [],
            "_model_module": "@jupyter-widgets/controls",
            "_model_module_version": "1.5.0",
            "_model_name": "FloatProgressModel",
            "_view_count": null,
            "_view_module": "@jupyter-widgets/controls",
            "_view_module_version": "1.5.0",
            "_view_name": "ProgressView",
            "bar_style": "success",
            "description": "",
            "description_tooltip": null,
            "layout": "IPY_MODEL_11ed6f0a8bca41b289f20415e665654d",
            "max": 10000,
            "min": 0,
            "orientation": "horizontal",
            "style": "IPY_MODEL_3b41391fa20148af8639f6cde6fe64d1",
            "value": 10000
          }
        },
        "0a087bdeacda4b88883f825be3b47f5c": {
          "model_module": "@jupyter-widgets/controls",
          "model_name": "HTMLModel",
          "model_module_version": "1.5.0",
          "state": {
            "_dom_classes": [],
            "_model_module": "@jupyter-widgets/controls",
            "_model_module_version": "1.5.0",
            "_model_name": "HTMLModel",
            "_view_count": null,
            "_view_module": "@jupyter-widgets/controls",
            "_view_module_version": "1.5.0",
            "_view_name": "HTMLView",
            "description": "",
            "description_tooltip": null,
            "layout": "IPY_MODEL_f11ad42478614ae3a43b69548762dcbe",
            "placeholder": "​",
            "style": "IPY_MODEL_8c0f801d013540c8be6e97f16efc6a31",
            "value": " 10000/10000 [00:00&lt;00:00, 126620.88 examples/s]"
          }
        },
        "0963b8cb2426490d8eaf8de18f2a2be1": {
          "model_module": "@jupyter-widgets/base",
          "model_name": "LayoutModel",
          "model_module_version": "1.2.0",
          "state": {
            "_model_module": "@jupyter-widgets/base",
            "_model_module_version": "1.2.0",
            "_model_name": "LayoutModel",
            "_view_count": null,
            "_view_module": "@jupyter-widgets/base",
            "_view_module_version": "1.2.0",
            "_view_name": "LayoutView",
            "align_content": null,
            "align_items": null,
            "align_self": null,
            "border": null,
            "bottom": null,
            "display": null,
            "flex": null,
            "flex_flow": null,
            "grid_area": null,
            "grid_auto_columns": null,
            "grid_auto_flow": null,
            "grid_auto_rows": null,
            "grid_column": null,
            "grid_gap": null,
            "grid_row": null,
            "grid_template_areas": null,
            "grid_template_columns": null,
            "grid_template_rows": null,
            "height": null,
            "justify_content": null,
            "justify_items": null,
            "left": null,
            "margin": null,
            "max_height": null,
            "max_width": null,
            "min_height": null,
            "min_width": null,
            "object_fit": null,
            "object_position": null,
            "order": null,
            "overflow": null,
            "overflow_x": null,
            "overflow_y": null,
            "padding": null,
            "right": null,
            "top": null,
            "visibility": null,
            "width": null
          }
        },
        "4621768e0c5f4d349e03cb33245b0666": {
          "model_module": "@jupyter-widgets/base",
          "model_name": "LayoutModel",
          "model_module_version": "1.2.0",
          "state": {
            "_model_module": "@jupyter-widgets/base",
            "_model_module_version": "1.2.0",
            "_model_name": "LayoutModel",
            "_view_count": null,
            "_view_module": "@jupyter-widgets/base",
            "_view_module_version": "1.2.0",
            "_view_name": "LayoutView",
            "align_content": null,
            "align_items": null,
            "align_self": null,
            "border": null,
            "bottom": null,
            "display": null,
            "flex": null,
            "flex_flow": null,
            "grid_area": null,
            "grid_auto_columns": null,
            "grid_auto_flow": null,
            "grid_auto_rows": null,
            "grid_column": null,
            "grid_gap": null,
            "grid_row": null,
            "grid_template_areas": null,
            "grid_template_columns": null,
            "grid_template_rows": null,
            "height": null,
            "justify_content": null,
            "justify_items": null,
            "left": null,
            "margin": null,
            "max_height": null,
            "max_width": null,
            "min_height": null,
            "min_width": null,
            "object_fit": null,
            "object_position": null,
            "order": null,
            "overflow": null,
            "overflow_x": null,
            "overflow_y": null,
            "padding": null,
            "right": null,
            "top": null,
            "visibility": null,
            "width": null
          }
        },
        "e7962961987f4cd0a800ebafee83d836": {
          "model_module": "@jupyter-widgets/controls",
          "model_name": "DescriptionStyleModel",
          "model_module_version": "1.5.0",
          "state": {
            "_model_module": "@jupyter-widgets/controls",
            "_model_module_version": "1.5.0",
            "_model_name": "DescriptionStyleModel",
            "_view_count": null,
            "_view_module": "@jupyter-widgets/base",
            "_view_module_version": "1.2.0",
            "_view_name": "StyleView",
            "description_width": ""
          }
        },
        "11ed6f0a8bca41b289f20415e665654d": {
          "model_module": "@jupyter-widgets/base",
          "model_name": "LayoutModel",
          "model_module_version": "1.2.0",
          "state": {
            "_model_module": "@jupyter-widgets/base",
            "_model_module_version": "1.2.0",
            "_model_name": "LayoutModel",
            "_view_count": null,
            "_view_module": "@jupyter-widgets/base",
            "_view_module_version": "1.2.0",
            "_view_name": "LayoutView",
            "align_content": null,
            "align_items": null,
            "align_self": null,
            "border": null,
            "bottom": null,
            "display": null,
            "flex": null,
            "flex_flow": null,
            "grid_area": null,
            "grid_auto_columns": null,
            "grid_auto_flow": null,
            "grid_auto_rows": null,
            "grid_column": null,
            "grid_gap": null,
            "grid_row": null,
            "grid_template_areas": null,
            "grid_template_columns": null,
            "grid_template_rows": null,
            "height": null,
            "justify_content": null,
            "justify_items": null,
            "left": null,
            "margin": null,
            "max_height": null,
            "max_width": null,
            "min_height": null,
            "min_width": null,
            "object_fit": null,
            "object_position": null,
            "order": null,
            "overflow": null,
            "overflow_x": null,
            "overflow_y": null,
            "padding": null,
            "right": null,
            "top": null,
            "visibility": null,
            "width": null
          }
        },
        "3b41391fa20148af8639f6cde6fe64d1": {
          "model_module": "@jupyter-widgets/controls",
          "model_name": "ProgressStyleModel",
          "model_module_version": "1.5.0",
          "state": {
            "_model_module": "@jupyter-widgets/controls",
            "_model_module_version": "1.5.0",
            "_model_name": "ProgressStyleModel",
            "_view_count": null,
            "_view_module": "@jupyter-widgets/base",
            "_view_module_version": "1.2.0",
            "_view_name": "StyleView",
            "bar_color": null,
            "description_width": ""
          }
        },
        "f11ad42478614ae3a43b69548762dcbe": {
          "model_module": "@jupyter-widgets/base",
          "model_name": "LayoutModel",
          "model_module_version": "1.2.0",
          "state": {
            "_model_module": "@jupyter-widgets/base",
            "_model_module_version": "1.2.0",
            "_model_name": "LayoutModel",
            "_view_count": null,
            "_view_module": "@jupyter-widgets/base",
            "_view_module_version": "1.2.0",
            "_view_name": "LayoutView",
            "align_content": null,
            "align_items": null,
            "align_self": null,
            "border": null,
            "bottom": null,
            "display": null,
            "flex": null,
            "flex_flow": null,
            "grid_area": null,
            "grid_auto_columns": null,
            "grid_auto_flow": null,
            "grid_auto_rows": null,
            "grid_column": null,
            "grid_gap": null,
            "grid_row": null,
            "grid_template_areas": null,
            "grid_template_columns": null,
            "grid_template_rows": null,
            "height": null,
            "justify_content": null,
            "justify_items": null,
            "left": null,
            "margin": null,
            "max_height": null,
            "max_width": null,
            "min_height": null,
            "min_width": null,
            "object_fit": null,
            "object_position": null,
            "order": null,
            "overflow": null,
            "overflow_x": null,
            "overflow_y": null,
            "padding": null,
            "right": null,
            "top": null,
            "visibility": null,
            "width": null
          }
        },
        "8c0f801d013540c8be6e97f16efc6a31": {
          "model_module": "@jupyter-widgets/controls",
          "model_name": "DescriptionStyleModel",
          "model_module_version": "1.5.0",
          "state": {
            "_model_module": "@jupyter-widgets/controls",
            "_model_module_version": "1.5.0",
            "_model_name": "DescriptionStyleModel",
            "_view_count": null,
            "_view_module": "@jupyter-widgets/base",
            "_view_module_version": "1.2.0",
            "_view_name": "StyleView",
            "description_width": ""
          }
        },
        "30ec23ce6eed4dc0ac276b48558ac5f2": {
          "model_module": "@jupyter-widgets/controls",
          "model_name": "HBoxModel",
          "model_module_version": "1.5.0",
          "state": {
            "_dom_classes": [],
            "_model_module": "@jupyter-widgets/controls",
            "_model_module_version": "1.5.0",
            "_model_name": "HBoxModel",
            "_view_count": null,
            "_view_module": "@jupyter-widgets/controls",
            "_view_module_version": "1.5.0",
            "_view_name": "HBoxView",
            "box_style": "",
            "children": [
              "IPY_MODEL_3fe4eb6907e4437aad369752c11f07a1",
              "IPY_MODEL_77c0fb1bdf834908aa4f6beb664e378f",
              "IPY_MODEL_20fa8ef62ad048e68cb4dc5a9146ca2e"
            ],
            "layout": "IPY_MODEL_53a83f0d25d54e21b4b3379118f3261b"
          }
        },
        "3fe4eb6907e4437aad369752c11f07a1": {
          "model_module": "@jupyter-widgets/controls",
          "model_name": "HTMLModel",
          "model_module_version": "1.5.0",
          "state": {
            "_dom_classes": [],
            "_model_module": "@jupyter-widgets/controls",
            "_model_module_version": "1.5.0",
            "_model_name": "HTMLModel",
            "_view_count": null,
            "_view_module": "@jupyter-widgets/controls",
            "_view_module_version": "1.5.0",
            "_view_name": "HTMLView",
            "description": "",
            "description_tooltip": null,
            "layout": "IPY_MODEL_584ce6be8e694d19853dc9853e7a1174",
            "placeholder": "​",
            "style": "IPY_MODEL_806da813d7914f8c9bd87362e277ad7b",
            "value": "Generating test split: 100%"
          }
        },
        "77c0fb1bdf834908aa4f6beb664e378f": {
          "model_module": "@jupyter-widgets/controls",
          "model_name": "FloatProgressModel",
          "model_module_version": "1.5.0",
          "state": {
            "_dom_classes": [],
            "_model_module": "@jupyter-widgets/controls",
            "_model_module_version": "1.5.0",
            "_model_name": "FloatProgressModel",
            "_view_count": null,
            "_view_module": "@jupyter-widgets/controls",
            "_view_module_version": "1.5.0",
            "_view_name": "ProgressView",
            "bar_style": "success",
            "description": "",
            "description_tooltip": null,
            "layout": "IPY_MODEL_9d9c121232114914bd0cb1fcdbd363da",
            "max": 10000,
            "min": 0,
            "orientation": "horizontal",
            "style": "IPY_MODEL_b9f9149f15584f20986d055de1f9c96f",
            "value": 10000
          }
        },
        "20fa8ef62ad048e68cb4dc5a9146ca2e": {
          "model_module": "@jupyter-widgets/controls",
          "model_name": "HTMLModel",
          "model_module_version": "1.5.0",
          "state": {
            "_dom_classes": [],
            "_model_module": "@jupyter-widgets/controls",
            "_model_module_version": "1.5.0",
            "_model_name": "HTMLModel",
            "_view_count": null,
            "_view_module": "@jupyter-widgets/controls",
            "_view_module_version": "1.5.0",
            "_view_name": "HTMLView",
            "description": "",
            "description_tooltip": null,
            "layout": "IPY_MODEL_6a30c5d28dc44200bd8b497e4f5d4446",
            "placeholder": "​",
            "style": "IPY_MODEL_d028cb25bffa45418d6f8a5bb642ea33",
            "value": " 10000/10000 [00:00&lt;00:00, 179054.76 examples/s]"
          }
        },
        "53a83f0d25d54e21b4b3379118f3261b": {
          "model_module": "@jupyter-widgets/base",
          "model_name": "LayoutModel",
          "model_module_version": "1.2.0",
          "state": {
            "_model_module": "@jupyter-widgets/base",
            "_model_module_version": "1.2.0",
            "_model_name": "LayoutModel",
            "_view_count": null,
            "_view_module": "@jupyter-widgets/base",
            "_view_module_version": "1.2.0",
            "_view_name": "LayoutView",
            "align_content": null,
            "align_items": null,
            "align_self": null,
            "border": null,
            "bottom": null,
            "display": null,
            "flex": null,
            "flex_flow": null,
            "grid_area": null,
            "grid_auto_columns": null,
            "grid_auto_flow": null,
            "grid_auto_rows": null,
            "grid_column": null,
            "grid_gap": null,
            "grid_row": null,
            "grid_template_areas": null,
            "grid_template_columns": null,
            "grid_template_rows": null,
            "height": null,
            "justify_content": null,
            "justify_items": null,
            "left": null,
            "margin": null,
            "max_height": null,
            "max_width": null,
            "min_height": null,
            "min_width": null,
            "object_fit": null,
            "object_position": null,
            "order": null,
            "overflow": null,
            "overflow_x": null,
            "overflow_y": null,
            "padding": null,
            "right": null,
            "top": null,
            "visibility": null,
            "width": null
          }
        },
        "584ce6be8e694d19853dc9853e7a1174": {
          "model_module": "@jupyter-widgets/base",
          "model_name": "LayoutModel",
          "model_module_version": "1.2.0",
          "state": {
            "_model_module": "@jupyter-widgets/base",
            "_model_module_version": "1.2.0",
            "_model_name": "LayoutModel",
            "_view_count": null,
            "_view_module": "@jupyter-widgets/base",
            "_view_module_version": "1.2.0",
            "_view_name": "LayoutView",
            "align_content": null,
            "align_items": null,
            "align_self": null,
            "border": null,
            "bottom": null,
            "display": null,
            "flex": null,
            "flex_flow": null,
            "grid_area": null,
            "grid_auto_columns": null,
            "grid_auto_flow": null,
            "grid_auto_rows": null,
            "grid_column": null,
            "grid_gap": null,
            "grid_row": null,
            "grid_template_areas": null,
            "grid_template_columns": null,
            "grid_template_rows": null,
            "height": null,
            "justify_content": null,
            "justify_items": null,
            "left": null,
            "margin": null,
            "max_height": null,
            "max_width": null,
            "min_height": null,
            "min_width": null,
            "object_fit": null,
            "object_position": null,
            "order": null,
            "overflow": null,
            "overflow_x": null,
            "overflow_y": null,
            "padding": null,
            "right": null,
            "top": null,
            "visibility": null,
            "width": null
          }
        },
        "806da813d7914f8c9bd87362e277ad7b": {
          "model_module": "@jupyter-widgets/controls",
          "model_name": "DescriptionStyleModel",
          "model_module_version": "1.5.0",
          "state": {
            "_model_module": "@jupyter-widgets/controls",
            "_model_module_version": "1.5.0",
            "_model_name": "DescriptionStyleModel",
            "_view_count": null,
            "_view_module": "@jupyter-widgets/base",
            "_view_module_version": "1.2.0",
            "_view_name": "StyleView",
            "description_width": ""
          }
        },
        "9d9c121232114914bd0cb1fcdbd363da": {
          "model_module": "@jupyter-widgets/base",
          "model_name": "LayoutModel",
          "model_module_version": "1.2.0",
          "state": {
            "_model_module": "@jupyter-widgets/base",
            "_model_module_version": "1.2.0",
            "_model_name": "LayoutModel",
            "_view_count": null,
            "_view_module": "@jupyter-widgets/base",
            "_view_module_version": "1.2.0",
            "_view_name": "LayoutView",
            "align_content": null,
            "align_items": null,
            "align_self": null,
            "border": null,
            "bottom": null,
            "display": null,
            "flex": null,
            "flex_flow": null,
            "grid_area": null,
            "grid_auto_columns": null,
            "grid_auto_flow": null,
            "grid_auto_rows": null,
            "grid_column": null,
            "grid_gap": null,
            "grid_row": null,
            "grid_template_areas": null,
            "grid_template_columns": null,
            "grid_template_rows": null,
            "height": null,
            "justify_content": null,
            "justify_items": null,
            "left": null,
            "margin": null,
            "max_height": null,
            "max_width": null,
            "min_height": null,
            "min_width": null,
            "object_fit": null,
            "object_position": null,
            "order": null,
            "overflow": null,
            "overflow_x": null,
            "overflow_y": null,
            "padding": null,
            "right": null,
            "top": null,
            "visibility": null,
            "width": null
          }
        },
        "b9f9149f15584f20986d055de1f9c96f": {
          "model_module": "@jupyter-widgets/controls",
          "model_name": "ProgressStyleModel",
          "model_module_version": "1.5.0",
          "state": {
            "_model_module": "@jupyter-widgets/controls",
            "_model_module_version": "1.5.0",
            "_model_name": "ProgressStyleModel",
            "_view_count": null,
            "_view_module": "@jupyter-widgets/base",
            "_view_module_version": "1.2.0",
            "_view_name": "StyleView",
            "bar_color": null,
            "description_width": ""
          }
        },
        "6a30c5d28dc44200bd8b497e4f5d4446": {
          "model_module": "@jupyter-widgets/base",
          "model_name": "LayoutModel",
          "model_module_version": "1.2.0",
          "state": {
            "_model_module": "@jupyter-widgets/base",
            "_model_module_version": "1.2.0",
            "_model_name": "LayoutModel",
            "_view_count": null,
            "_view_module": "@jupyter-widgets/base",
            "_view_module_version": "1.2.0",
            "_view_name": "LayoutView",
            "align_content": null,
            "align_items": null,
            "align_self": null,
            "border": null,
            "bottom": null,
            "display": null,
            "flex": null,
            "flex_flow": null,
            "grid_area": null,
            "grid_auto_columns": null,
            "grid_auto_flow": null,
            "grid_auto_rows": null,
            "grid_column": null,
            "grid_gap": null,
            "grid_row": null,
            "grid_template_areas": null,
            "grid_template_columns": null,
            "grid_template_rows": null,
            "height": null,
            "justify_content": null,
            "justify_items": null,
            "left": null,
            "margin": null,
            "max_height": null,
            "max_width": null,
            "min_height": null,
            "min_width": null,
            "object_fit": null,
            "object_position": null,
            "order": null,
            "overflow": null,
            "overflow_x": null,
            "overflow_y": null,
            "padding": null,
            "right": null,
            "top": null,
            "visibility": null,
            "width": null
          }
        },
        "d028cb25bffa45418d6f8a5bb642ea33": {
          "model_module": "@jupyter-widgets/controls",
          "model_name": "DescriptionStyleModel",
          "model_module_version": "1.5.0",
          "state": {
            "_model_module": "@jupyter-widgets/controls",
            "_model_module_version": "1.5.0",
            "_model_name": "DescriptionStyleModel",
            "_view_count": null,
            "_view_module": "@jupyter-widgets/base",
            "_view_module_version": "1.2.0",
            "_view_name": "StyleView",
            "description_width": ""
          }
        },
        "ef40ded27eb648b4ac854512a50047e1": {
          "model_module": "@jupyter-widgets/controls",
          "model_name": "HBoxModel",
          "model_module_version": "1.5.0",
          "state": {
            "_dom_classes": [],
            "_model_module": "@jupyter-widgets/controls",
            "_model_module_version": "1.5.0",
            "_model_name": "HBoxModel",
            "_view_count": null,
            "_view_module": "@jupyter-widgets/controls",
            "_view_module_version": "1.5.0",
            "_view_name": "HBoxView",
            "box_style": "",
            "children": [
              "IPY_MODEL_fcf4b0fccf6040398fdcafb69707e476",
              "IPY_MODEL_ee0278c578dc4b569d2947f8b596431a",
              "IPY_MODEL_7b97f57aa0054fb78704b24732d00f4f"
            ],
            "layout": "IPY_MODEL_09a5f8a806d04eb495bdd5449f898fa8"
          }
        },
        "fcf4b0fccf6040398fdcafb69707e476": {
          "model_module": "@jupyter-widgets/controls",
          "model_name": "HTMLModel",
          "model_module_version": "1.5.0",
          "state": {
            "_dom_classes": [],
            "_model_module": "@jupyter-widgets/controls",
            "_model_module_version": "1.5.0",
            "_model_name": "HTMLModel",
            "_view_count": null,
            "_view_module": "@jupyter-widgets/controls",
            "_view_module_version": "1.5.0",
            "_view_name": "HTMLView",
            "description": "",
            "description_tooltip": null,
            "layout": "IPY_MODEL_ead0b4160599440f960554b9dc1fc898",
            "placeholder": "​",
            "style": "IPY_MODEL_12b217d78e4946f6b5c418410712daa6",
            "value": "Generating train split: 100%"
          }
        },
        "ee0278c578dc4b569d2947f8b596431a": {
          "model_module": "@jupyter-widgets/controls",
          "model_name": "FloatProgressModel",
          "model_module_version": "1.5.0",
          "state": {
            "_dom_classes": [],
            "_model_module": "@jupyter-widgets/controls",
            "_model_module_version": "1.5.0",
            "_model_name": "FloatProgressModel",
            "_view_count": null,
            "_view_module": "@jupyter-widgets/controls",
            "_view_module_version": "1.5.0",
            "_view_name": "ProgressView",
            "bar_style": "success",
            "description": "",
            "description_tooltip": null,
            "layout": "IPY_MODEL_e4318cb6f2434126b06ed551f62c9326",
            "max": 20000,
            "min": 0,
            "orientation": "horizontal",
            "style": "IPY_MODEL_3d132fdf5a17446f8abf830cd7d28c2e",
            "value": 20000
          }
        },
        "7b97f57aa0054fb78704b24732d00f4f": {
          "model_module": "@jupyter-widgets/controls",
          "model_name": "HTMLModel",
          "model_module_version": "1.5.0",
          "state": {
            "_dom_classes": [],
            "_model_module": "@jupyter-widgets/controls",
            "_model_module_version": "1.5.0",
            "_model_name": "HTMLModel",
            "_view_count": null,
            "_view_module": "@jupyter-widgets/controls",
            "_view_module_version": "1.5.0",
            "_view_name": "HTMLView",
            "description": "",
            "description_tooltip": null,
            "layout": "IPY_MODEL_02563dab7d774a86b9961cb242c3f025",
            "placeholder": "​",
            "style": "IPY_MODEL_e3873dd164184efca823c23581e83f8e",
            "value": " 20000/20000 [00:00&lt;00:00, 231463.51 examples/s]"
          }
        },
        "09a5f8a806d04eb495bdd5449f898fa8": {
          "model_module": "@jupyter-widgets/base",
          "model_name": "LayoutModel",
          "model_module_version": "1.2.0",
          "state": {
            "_model_module": "@jupyter-widgets/base",
            "_model_module_version": "1.2.0",
            "_model_name": "LayoutModel",
            "_view_count": null,
            "_view_module": "@jupyter-widgets/base",
            "_view_module_version": "1.2.0",
            "_view_name": "LayoutView",
            "align_content": null,
            "align_items": null,
            "align_self": null,
            "border": null,
            "bottom": null,
            "display": null,
            "flex": null,
            "flex_flow": null,
            "grid_area": null,
            "grid_auto_columns": null,
            "grid_auto_flow": null,
            "grid_auto_rows": null,
            "grid_column": null,
            "grid_gap": null,
            "grid_row": null,
            "grid_template_areas": null,
            "grid_template_columns": null,
            "grid_template_rows": null,
            "height": null,
            "justify_content": null,
            "justify_items": null,
            "left": null,
            "margin": null,
            "max_height": null,
            "max_width": null,
            "min_height": null,
            "min_width": null,
            "object_fit": null,
            "object_position": null,
            "order": null,
            "overflow": null,
            "overflow_x": null,
            "overflow_y": null,
            "padding": null,
            "right": null,
            "top": null,
            "visibility": null,
            "width": null
          }
        },
        "ead0b4160599440f960554b9dc1fc898": {
          "model_module": "@jupyter-widgets/base",
          "model_name": "LayoutModel",
          "model_module_version": "1.2.0",
          "state": {
            "_model_module": "@jupyter-widgets/base",
            "_model_module_version": "1.2.0",
            "_model_name": "LayoutModel",
            "_view_count": null,
            "_view_module": "@jupyter-widgets/base",
            "_view_module_version": "1.2.0",
            "_view_name": "LayoutView",
            "align_content": null,
            "align_items": null,
            "align_self": null,
            "border": null,
            "bottom": null,
            "display": null,
            "flex": null,
            "flex_flow": null,
            "grid_area": null,
            "grid_auto_columns": null,
            "grid_auto_flow": null,
            "grid_auto_rows": null,
            "grid_column": null,
            "grid_gap": null,
            "grid_row": null,
            "grid_template_areas": null,
            "grid_template_columns": null,
            "grid_template_rows": null,
            "height": null,
            "justify_content": null,
            "justify_items": null,
            "left": null,
            "margin": null,
            "max_height": null,
            "max_width": null,
            "min_height": null,
            "min_width": null,
            "object_fit": null,
            "object_position": null,
            "order": null,
            "overflow": null,
            "overflow_x": null,
            "overflow_y": null,
            "padding": null,
            "right": null,
            "top": null,
            "visibility": null,
            "width": null
          }
        },
        "12b217d78e4946f6b5c418410712daa6": {
          "model_module": "@jupyter-widgets/controls",
          "model_name": "DescriptionStyleModel",
          "model_module_version": "1.5.0",
          "state": {
            "_model_module": "@jupyter-widgets/controls",
            "_model_module_version": "1.5.0",
            "_model_name": "DescriptionStyleModel",
            "_view_count": null,
            "_view_module": "@jupyter-widgets/base",
            "_view_module_version": "1.2.0",
            "_view_name": "StyleView",
            "description_width": ""
          }
        },
        "e4318cb6f2434126b06ed551f62c9326": {
          "model_module": "@jupyter-widgets/base",
          "model_name": "LayoutModel",
          "model_module_version": "1.2.0",
          "state": {
            "_model_module": "@jupyter-widgets/base",
            "_model_module_version": "1.2.0",
            "_model_name": "LayoutModel",
            "_view_count": null,
            "_view_module": "@jupyter-widgets/base",
            "_view_module_version": "1.2.0",
            "_view_name": "LayoutView",
            "align_content": null,
            "align_items": null,
            "align_self": null,
            "border": null,
            "bottom": null,
            "display": null,
            "flex": null,
            "flex_flow": null,
            "grid_area": null,
            "grid_auto_columns": null,
            "grid_auto_flow": null,
            "grid_auto_rows": null,
            "grid_column": null,
            "grid_gap": null,
            "grid_row": null,
            "grid_template_areas": null,
            "grid_template_columns": null,
            "grid_template_rows": null,
            "height": null,
            "justify_content": null,
            "justify_items": null,
            "left": null,
            "margin": null,
            "max_height": null,
            "max_width": null,
            "min_height": null,
            "min_width": null,
            "object_fit": null,
            "object_position": null,
            "order": null,
            "overflow": null,
            "overflow_x": null,
            "overflow_y": null,
            "padding": null,
            "right": null,
            "top": null,
            "visibility": null,
            "width": null
          }
        },
        "3d132fdf5a17446f8abf830cd7d28c2e": {
          "model_module": "@jupyter-widgets/controls",
          "model_name": "ProgressStyleModel",
          "model_module_version": "1.5.0",
          "state": {
            "_model_module": "@jupyter-widgets/controls",
            "_model_module_version": "1.5.0",
            "_model_name": "ProgressStyleModel",
            "_view_count": null,
            "_view_module": "@jupyter-widgets/base",
            "_view_module_version": "1.2.0",
            "_view_name": "StyleView",
            "bar_color": null,
            "description_width": ""
          }
        },
        "02563dab7d774a86b9961cb242c3f025": {
          "model_module": "@jupyter-widgets/base",
          "model_name": "LayoutModel",
          "model_module_version": "1.2.0",
          "state": {
            "_model_module": "@jupyter-widgets/base",
            "_model_module_version": "1.2.0",
            "_model_name": "LayoutModel",
            "_view_count": null,
            "_view_module": "@jupyter-widgets/base",
            "_view_module_version": "1.2.0",
            "_view_name": "LayoutView",
            "align_content": null,
            "align_items": null,
            "align_self": null,
            "border": null,
            "bottom": null,
            "display": null,
            "flex": null,
            "flex_flow": null,
            "grid_area": null,
            "grid_auto_columns": null,
            "grid_auto_flow": null,
            "grid_auto_rows": null,
            "grid_column": null,
            "grid_gap": null,
            "grid_row": null,
            "grid_template_areas": null,
            "grid_template_columns": null,
            "grid_template_rows": null,
            "height": null,
            "justify_content": null,
            "justify_items": null,
            "left": null,
            "margin": null,
            "max_height": null,
            "max_width": null,
            "min_height": null,
            "min_width": null,
            "object_fit": null,
            "object_position": null,
            "order": null,
            "overflow": null,
            "overflow_x": null,
            "overflow_y": null,
            "padding": null,
            "right": null,
            "top": null,
            "visibility": null,
            "width": null
          }
        },
        "e3873dd164184efca823c23581e83f8e": {
          "model_module": "@jupyter-widgets/controls",
          "model_name": "DescriptionStyleModel",
          "model_module_version": "1.5.0",
          "state": {
            "_model_module": "@jupyter-widgets/controls",
            "_model_module_version": "1.5.0",
            "_model_name": "DescriptionStyleModel",
            "_view_count": null,
            "_view_module": "@jupyter-widgets/base",
            "_view_module_version": "1.2.0",
            "_view_name": "StyleView",
            "description_width": ""
          }
        }
      }
    }
  },
  "nbformat": 4,
  "nbformat_minor": 5
}